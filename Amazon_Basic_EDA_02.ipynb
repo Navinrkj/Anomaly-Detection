{
 "cells": [
  {
   "cell_type": "markdown",
   "metadata": {},
   "source": [
    "# Basic EDA"
   ]
  },
  {
   "cell_type": "code",
   "execution_count": 1,
   "metadata": {},
   "outputs": [],
   "source": [
    "import pandas as pd\n",
    "import numpy as np"
   ]
  },
  {
   "cell_type": "code",
   "execution_count": 2,
   "metadata": {},
   "outputs": [],
   "source": [
    "# importing 1/3 dataset. May file\n",
    "df = pd.read_csv('Datafiniti_Amazon_Consumer_Reviews_of_Amazon_Products_May19.csv')\n"
   ]
  },
  {
   "cell_type": "code",
   "execution_count": 3,
   "metadata": {},
   "outputs": [],
   "source": [
    "# # importing 1/3 dataset. Non-May file\n",
    "df_1 = pd.read_csv('Datafiniti_Amazon_Consumer_Reviews_of_Amazon_Products.csv')"
   ]
  },
  {
   "cell_type": "code",
   "execution_count": 4,
   "metadata": {},
   "outputs": [
    {
     "name": "stderr",
     "output_type": "stream",
     "text": [
      "C:\\ProgramData\\Anaconda3\\lib\\site-packages\\IPython\\core\\interactiveshell.py:3071: DtypeWarning: Columns (1,10) have mixed types.Specify dtype option on import or set low_memory=False.\n",
      "  has_raised = await self.run_ast_nodes(code_ast.body, cell_name,\n"
     ]
    }
   ],
   "source": [
    "df_2 = pd.read_csv('1429_1.csv')"
   ]
  },
  {
   "cell_type": "code",
   "execution_count": 5,
   "metadata": {},
   "outputs": [
    {
     "data": {
      "text/html": [
       "<div>\n",
       "<style scoped>\n",
       "    .dataframe tbody tr th:only-of-type {\n",
       "        vertical-align: middle;\n",
       "    }\n",
       "\n",
       "    .dataframe tbody tr th {\n",
       "        vertical-align: top;\n",
       "    }\n",
       "\n",
       "    .dataframe thead th {\n",
       "        text-align: right;\n",
       "    }\n",
       "</style>\n",
       "<table border=\"1\" class=\"dataframe\">\n",
       "  <thead>\n",
       "    <tr style=\"text-align: right;\">\n",
       "      <th></th>\n",
       "      <th>id</th>\n",
       "      <th>name</th>\n",
       "      <th>asins</th>\n",
       "      <th>brand</th>\n",
       "      <th>categories</th>\n",
       "      <th>keys</th>\n",
       "      <th>manufacturer</th>\n",
       "      <th>reviews.date</th>\n",
       "      <th>reviews.dateAdded</th>\n",
       "      <th>reviews.dateSeen</th>\n",
       "      <th>...</th>\n",
       "      <th>reviews.doRecommend</th>\n",
       "      <th>reviews.id</th>\n",
       "      <th>reviews.numHelpful</th>\n",
       "      <th>reviews.rating</th>\n",
       "      <th>reviews.sourceURLs</th>\n",
       "      <th>reviews.text</th>\n",
       "      <th>reviews.title</th>\n",
       "      <th>reviews.userCity</th>\n",
       "      <th>reviews.userProvince</th>\n",
       "      <th>reviews.username</th>\n",
       "    </tr>\n",
       "  </thead>\n",
       "  <tbody>\n",
       "    <tr>\n",
       "      <th>0</th>\n",
       "      <td>AVqkIhwDv8e3D1O-lebb</td>\n",
       "      <td>All-New Fire HD 8 Tablet, 8 HD Display, Wi-Fi,...</td>\n",
       "      <td>B01AHB9CN2</td>\n",
       "      <td>Amazon</td>\n",
       "      <td>Electronics,iPad &amp; Tablets,All Tablets,Fire Ta...</td>\n",
       "      <td>841667104676,amazon/53004484,amazon/b01ahb9cn2...</td>\n",
       "      <td>Amazon</td>\n",
       "      <td>2017-01-13T00:00:00.000Z</td>\n",
       "      <td>2017-07-03T23:33:15Z</td>\n",
       "      <td>2017-06-07T09:04:00.000Z,2017-04-30T00:45:00.000Z</td>\n",
       "      <td>...</td>\n",
       "      <td>True</td>\n",
       "      <td>NaN</td>\n",
       "      <td>0.0</td>\n",
       "      <td>5.0</td>\n",
       "      <td>http://reviews.bestbuy.com/3545/5620406/review...</td>\n",
       "      <td>This product so far has not disappointed. My c...</td>\n",
       "      <td>Kindle</td>\n",
       "      <td>NaN</td>\n",
       "      <td>NaN</td>\n",
       "      <td>Adapter</td>\n",
       "    </tr>\n",
       "    <tr>\n",
       "      <th>1</th>\n",
       "      <td>AVqkIhwDv8e3D1O-lebb</td>\n",
       "      <td>All-New Fire HD 8 Tablet, 8 HD Display, Wi-Fi,...</td>\n",
       "      <td>B01AHB9CN2</td>\n",
       "      <td>Amazon</td>\n",
       "      <td>Electronics,iPad &amp; Tablets,All Tablets,Fire Ta...</td>\n",
       "      <td>841667104676,amazon/53004484,amazon/b01ahb9cn2...</td>\n",
       "      <td>Amazon</td>\n",
       "      <td>2017-01-13T00:00:00.000Z</td>\n",
       "      <td>2017-07-03T23:33:15Z</td>\n",
       "      <td>2017-06-07T09:04:00.000Z,2017-04-30T00:45:00.000Z</td>\n",
       "      <td>...</td>\n",
       "      <td>True</td>\n",
       "      <td>NaN</td>\n",
       "      <td>0.0</td>\n",
       "      <td>5.0</td>\n",
       "      <td>http://reviews.bestbuy.com/3545/5620406/review...</td>\n",
       "      <td>great for beginner or experienced person. Boug...</td>\n",
       "      <td>very fast</td>\n",
       "      <td>NaN</td>\n",
       "      <td>NaN</td>\n",
       "      <td>truman</td>\n",
       "    </tr>\n",
       "    <tr>\n",
       "      <th>2</th>\n",
       "      <td>AVqkIhwDv8e3D1O-lebb</td>\n",
       "      <td>All-New Fire HD 8 Tablet, 8 HD Display, Wi-Fi,...</td>\n",
       "      <td>B01AHB9CN2</td>\n",
       "      <td>Amazon</td>\n",
       "      <td>Electronics,iPad &amp; Tablets,All Tablets,Fire Ta...</td>\n",
       "      <td>841667104676,amazon/53004484,amazon/b01ahb9cn2...</td>\n",
       "      <td>Amazon</td>\n",
       "      <td>2017-01-13T00:00:00.000Z</td>\n",
       "      <td>2017-07-03T23:33:15Z</td>\n",
       "      <td>2017-06-07T09:04:00.000Z,2017-04-30T00:45:00.000Z</td>\n",
       "      <td>...</td>\n",
       "      <td>True</td>\n",
       "      <td>NaN</td>\n",
       "      <td>0.0</td>\n",
       "      <td>5.0</td>\n",
       "      <td>http://reviews.bestbuy.com/3545/5620406/review...</td>\n",
       "      <td>Inexpensive tablet for him to use and learn on...</td>\n",
       "      <td>Beginner tablet for our 9 year old son.</td>\n",
       "      <td>NaN</td>\n",
       "      <td>NaN</td>\n",
       "      <td>DaveZ</td>\n",
       "    </tr>\n",
       "    <tr>\n",
       "      <th>3</th>\n",
       "      <td>AVqkIhwDv8e3D1O-lebb</td>\n",
       "      <td>All-New Fire HD 8 Tablet, 8 HD Display, Wi-Fi,...</td>\n",
       "      <td>B01AHB9CN2</td>\n",
       "      <td>Amazon</td>\n",
       "      <td>Electronics,iPad &amp; Tablets,All Tablets,Fire Ta...</td>\n",
       "      <td>841667104676,amazon/53004484,amazon/b01ahb9cn2...</td>\n",
       "      <td>Amazon</td>\n",
       "      <td>2017-01-13T00:00:00.000Z</td>\n",
       "      <td>2017-07-03T23:33:15Z</td>\n",
       "      <td>2017-06-07T09:04:00.000Z,2017-04-30T00:45:00.000Z</td>\n",
       "      <td>...</td>\n",
       "      <td>True</td>\n",
       "      <td>NaN</td>\n",
       "      <td>0.0</td>\n",
       "      <td>4.0</td>\n",
       "      <td>http://reviews.bestbuy.com/3545/5620406/review...</td>\n",
       "      <td>I've had my Fire HD 8 two weeks now and I love...</td>\n",
       "      <td>Good!!!</td>\n",
       "      <td>NaN</td>\n",
       "      <td>NaN</td>\n",
       "      <td>Shacks</td>\n",
       "    </tr>\n",
       "    <tr>\n",
       "      <th>4</th>\n",
       "      <td>AVqkIhwDv8e3D1O-lebb</td>\n",
       "      <td>All-New Fire HD 8 Tablet, 8 HD Display, Wi-Fi,...</td>\n",
       "      <td>B01AHB9CN2</td>\n",
       "      <td>Amazon</td>\n",
       "      <td>Electronics,iPad &amp; Tablets,All Tablets,Fire Ta...</td>\n",
       "      <td>841667104676,amazon/53004484,amazon/b01ahb9cn2...</td>\n",
       "      <td>Amazon</td>\n",
       "      <td>2017-01-12T00:00:00.000Z</td>\n",
       "      <td>2017-07-03T23:33:15Z</td>\n",
       "      <td>2017-06-07T09:04:00.000Z,2017-04-30T00:45:00.000Z</td>\n",
       "      <td>...</td>\n",
       "      <td>True</td>\n",
       "      <td>NaN</td>\n",
       "      <td>0.0</td>\n",
       "      <td>5.0</td>\n",
       "      <td>http://reviews.bestbuy.com/3545/5620406/review...</td>\n",
       "      <td>I bought this for my grand daughter when she c...</td>\n",
       "      <td>Fantastic Tablet for kids</td>\n",
       "      <td>NaN</td>\n",
       "      <td>NaN</td>\n",
       "      <td>explore42</td>\n",
       "    </tr>\n",
       "  </tbody>\n",
       "</table>\n",
       "<p>5 rows × 21 columns</p>\n",
       "</div>"
      ],
      "text/plain": [
       "                     id                                               name  \\\n",
       "0  AVqkIhwDv8e3D1O-lebb  All-New Fire HD 8 Tablet, 8 HD Display, Wi-Fi,...   \n",
       "1  AVqkIhwDv8e3D1O-lebb  All-New Fire HD 8 Tablet, 8 HD Display, Wi-Fi,...   \n",
       "2  AVqkIhwDv8e3D1O-lebb  All-New Fire HD 8 Tablet, 8 HD Display, Wi-Fi,...   \n",
       "3  AVqkIhwDv8e3D1O-lebb  All-New Fire HD 8 Tablet, 8 HD Display, Wi-Fi,...   \n",
       "4  AVqkIhwDv8e3D1O-lebb  All-New Fire HD 8 Tablet, 8 HD Display, Wi-Fi,...   \n",
       "\n",
       "        asins   brand                                         categories  \\\n",
       "0  B01AHB9CN2  Amazon  Electronics,iPad & Tablets,All Tablets,Fire Ta...   \n",
       "1  B01AHB9CN2  Amazon  Electronics,iPad & Tablets,All Tablets,Fire Ta...   \n",
       "2  B01AHB9CN2  Amazon  Electronics,iPad & Tablets,All Tablets,Fire Ta...   \n",
       "3  B01AHB9CN2  Amazon  Electronics,iPad & Tablets,All Tablets,Fire Ta...   \n",
       "4  B01AHB9CN2  Amazon  Electronics,iPad & Tablets,All Tablets,Fire Ta...   \n",
       "\n",
       "                                                keys manufacturer  \\\n",
       "0  841667104676,amazon/53004484,amazon/b01ahb9cn2...       Amazon   \n",
       "1  841667104676,amazon/53004484,amazon/b01ahb9cn2...       Amazon   \n",
       "2  841667104676,amazon/53004484,amazon/b01ahb9cn2...       Amazon   \n",
       "3  841667104676,amazon/53004484,amazon/b01ahb9cn2...       Amazon   \n",
       "4  841667104676,amazon/53004484,amazon/b01ahb9cn2...       Amazon   \n",
       "\n",
       "               reviews.date     reviews.dateAdded  \\\n",
       "0  2017-01-13T00:00:00.000Z  2017-07-03T23:33:15Z   \n",
       "1  2017-01-13T00:00:00.000Z  2017-07-03T23:33:15Z   \n",
       "2  2017-01-13T00:00:00.000Z  2017-07-03T23:33:15Z   \n",
       "3  2017-01-13T00:00:00.000Z  2017-07-03T23:33:15Z   \n",
       "4  2017-01-12T00:00:00.000Z  2017-07-03T23:33:15Z   \n",
       "\n",
       "                                    reviews.dateSeen  ... reviews.doRecommend  \\\n",
       "0  2017-06-07T09:04:00.000Z,2017-04-30T00:45:00.000Z  ...                True   \n",
       "1  2017-06-07T09:04:00.000Z,2017-04-30T00:45:00.000Z  ...                True   \n",
       "2  2017-06-07T09:04:00.000Z,2017-04-30T00:45:00.000Z  ...                True   \n",
       "3  2017-06-07T09:04:00.000Z,2017-04-30T00:45:00.000Z  ...                True   \n",
       "4  2017-06-07T09:04:00.000Z,2017-04-30T00:45:00.000Z  ...                True   \n",
       "\n",
       "  reviews.id  reviews.numHelpful  reviews.rating  \\\n",
       "0        NaN                 0.0             5.0   \n",
       "1        NaN                 0.0             5.0   \n",
       "2        NaN                 0.0             5.0   \n",
       "3        NaN                 0.0             4.0   \n",
       "4        NaN                 0.0             5.0   \n",
       "\n",
       "                                  reviews.sourceURLs  \\\n",
       "0  http://reviews.bestbuy.com/3545/5620406/review...   \n",
       "1  http://reviews.bestbuy.com/3545/5620406/review...   \n",
       "2  http://reviews.bestbuy.com/3545/5620406/review...   \n",
       "3  http://reviews.bestbuy.com/3545/5620406/review...   \n",
       "4  http://reviews.bestbuy.com/3545/5620406/review...   \n",
       "\n",
       "                                        reviews.text  \\\n",
       "0  This product so far has not disappointed. My c...   \n",
       "1  great for beginner or experienced person. Boug...   \n",
       "2  Inexpensive tablet for him to use and learn on...   \n",
       "3  I've had my Fire HD 8 two weeks now and I love...   \n",
       "4  I bought this for my grand daughter when she c...   \n",
       "\n",
       "                             reviews.title reviews.userCity  \\\n",
       "0                                   Kindle              NaN   \n",
       "1                                very fast              NaN   \n",
       "2  Beginner tablet for our 9 year old son.              NaN   \n",
       "3                                  Good!!!              NaN   \n",
       "4                Fantastic Tablet for kids              NaN   \n",
       "\n",
       "   reviews.userProvince  reviews.username  \n",
       "0                   NaN           Adapter  \n",
       "1                   NaN            truman  \n",
       "2                   NaN             DaveZ  \n",
       "3                   NaN            Shacks  \n",
       "4                   NaN         explore42  \n",
       "\n",
       "[5 rows x 21 columns]"
      ]
     },
     "execution_count": 5,
     "metadata": {},
     "output_type": "execute_result"
    }
   ],
   "source": [
    "df_2.head()"
   ]
  },
  {
   "cell_type": "markdown",
   "metadata": {},
   "source": [
    "## Checking the columns of 3 datasets"
   ]
  },
  {
   "cell_type": "code",
   "execution_count": 6,
   "metadata": {},
   "outputs": [
    {
     "data": {
      "text/plain": [
       "Index(['id', 'dateAdded', 'dateUpdated', 'name', 'asins', 'brand',\n",
       "       'categories', 'primaryCategories', 'imageURLs', 'keys', 'manufacturer',\n",
       "       'manufacturerNumber', 'reviews.date', 'reviews.dateSeen',\n",
       "       'reviews.didPurchase', 'reviews.doRecommend', 'reviews.id',\n",
       "       'reviews.numHelpful', 'reviews.rating', 'reviews.sourceURLs',\n",
       "       'reviews.text', 'reviews.title', 'reviews.username', 'sourceURLs'],\n",
       "      dtype='object')"
      ]
     },
     "execution_count": 6,
     "metadata": {},
     "output_type": "execute_result"
    }
   ],
   "source": [
    "df.columns"
   ]
  },
  {
   "cell_type": "code",
   "execution_count": 7,
   "metadata": {},
   "outputs": [
    {
     "data": {
      "text/plain": [
       "Index(['id', 'dateAdded', 'dateUpdated', 'name', 'asins', 'brand',\n",
       "       'categories', 'primaryCategories', 'imageURLs', 'keys', 'manufacturer',\n",
       "       'manufacturerNumber', 'reviews.date', 'reviews.dateAdded',\n",
       "       'reviews.dateSeen', 'reviews.doRecommend', 'reviews.id',\n",
       "       'reviews.numHelpful', 'reviews.rating', 'reviews.sourceURLs',\n",
       "       'reviews.text', 'reviews.title', 'reviews.username', 'sourceURLs'],\n",
       "      dtype='object')"
      ]
     },
     "execution_count": 7,
     "metadata": {},
     "output_type": "execute_result"
    }
   ],
   "source": [
    "df_1.columns"
   ]
  },
  {
   "cell_type": "code",
   "execution_count": 8,
   "metadata": {},
   "outputs": [
    {
     "data": {
      "text/plain": [
       "Index(['id', 'name', 'asins', 'brand', 'categories', 'keys', 'manufacturer',\n",
       "       'reviews.date', 'reviews.dateAdded', 'reviews.dateSeen',\n",
       "       'reviews.didPurchase', 'reviews.doRecommend', 'reviews.id',\n",
       "       'reviews.numHelpful', 'reviews.rating', 'reviews.sourceURLs',\n",
       "       'reviews.text', 'reviews.title', 'reviews.userCity',\n",
       "       'reviews.userProvince', 'reviews.username'],\n",
       "      dtype='object')"
      ]
     },
     "execution_count": 8,
     "metadata": {},
     "output_type": "execute_result"
    }
   ],
   "source": [
    "df_2.columns"
   ]
  },
  {
   "cell_type": "markdown",
   "metadata": {},
   "source": [
    "## Finding out the missing columns in the two dataset"
   ]
  },
  {
   "cell_type": "raw",
   "metadata": {},
   "source": [
    "Comparing the columns of 3 datasets, df_2 (1429_1.csv) had three missing columns of which primaryCategories column was important for our analysis. Thus, we are not considering that dataframe."
   ]
  },
  {
   "cell_type": "code",
   "execution_count": 9,
   "metadata": {},
   "outputs": [],
   "source": [
    "may = set(df_1.columns)  \n",
    "withoutmay = set(df.columns)"
   ]
  },
  {
   "cell_type": "code",
   "execution_count": 10,
   "metadata": {
    "scrolled": true
   },
   "outputs": [
    {
     "data": {
      "text/plain": [
       "((28332, 24), (5000, 24))"
      ]
     },
     "execution_count": 10,
     "metadata": {},
     "output_type": "execute_result"
    }
   ],
   "source": [
    "df.shape, df_1.shape"
   ]
  },
  {
   "cell_type": "code",
   "execution_count": 11,
   "metadata": {},
   "outputs": [
    {
     "data": {
      "text/plain": [
       "{'reviews.didPurchase'}"
      ]
     },
     "execution_count": 11,
     "metadata": {},
     "output_type": "execute_result"
    }
   ],
   "source": [
    "withoutmay - may   # (df - df_1)"
   ]
  },
  {
   "cell_type": "raw",
   "metadata": {},
   "source": [
    "Removing the columns that are not present in both the the datasets (may & not may). "
   ]
  },
  {
   "cell_type": "code",
   "execution_count": 12,
   "metadata": {},
   "outputs": [],
   "source": [
    "df_1 = df_1.drop('reviews.dateAdded',axis=1)"
   ]
  },
  {
   "cell_type": "code",
   "execution_count": 13,
   "metadata": {},
   "outputs": [],
   "source": [
    "df = df.drop('reviews.didPurchase', axis=1)"
   ]
  },
  {
   "cell_type": "code",
   "execution_count": 14,
   "metadata": {},
   "outputs": [],
   "source": [
    "may = set(df_1.columns)  \n",
    "withoutmay = set(df.columns)"
   ]
  },
  {
   "cell_type": "raw",
   "metadata": {},
   "source": [
    "# Checking for missing columns"
   ]
  },
  {
   "cell_type": "code",
   "execution_count": 15,
   "metadata": {},
   "outputs": [
    {
     "data": {
      "text/plain": [
       "set()"
      ]
     },
     "execution_count": 15,
     "metadata": {},
     "output_type": "execute_result"
    }
   ],
   "source": [
    "withoutmay - may    # (df - df_1) # checked both"
   ]
  },
  {
   "cell_type": "markdown",
   "metadata": {},
   "source": [
    "## Columns sorting"
   ]
  },
  {
   "cell_type": "code",
   "execution_count": 16,
   "metadata": {},
   "outputs": [],
   "source": [
    "df_1 = df_1.reindex(sorted(df_1.columns), axis=1)"
   ]
  },
  {
   "cell_type": "code",
   "execution_count": 17,
   "metadata": {},
   "outputs": [],
   "source": [
    "df = df.reindex(sorted(df.columns), axis=1)"
   ]
  },
  {
   "cell_type": "code",
   "execution_count": 18,
   "metadata": {},
   "outputs": [
    {
     "data": {
      "text/plain": [
       "Index(['asins', 'brand', 'categories', 'dateAdded', 'dateUpdated', 'id',\n",
       "       'imageURLs', 'keys', 'manufacturer', 'manufacturerNumber', 'name',\n",
       "       'primaryCategories', 'reviews.date', 'reviews.dateSeen',\n",
       "       'reviews.doRecommend', 'reviews.id', 'reviews.numHelpful',\n",
       "       'reviews.rating', 'reviews.sourceURLs', 'reviews.text', 'reviews.title',\n",
       "       'reviews.username', 'sourceURLs'],\n",
       "      dtype='object')"
      ]
     },
     "execution_count": 18,
     "metadata": {},
     "output_type": "execute_result"
    }
   ],
   "source": [
    "df_1.columns"
   ]
  },
  {
   "cell_type": "code",
   "execution_count": 19,
   "metadata": {},
   "outputs": [
    {
     "data": {
      "text/plain": [
       "Index(['asins', 'brand', 'categories', 'dateAdded', 'dateUpdated', 'id',\n",
       "       'imageURLs', 'keys', 'manufacturer', 'manufacturerNumber', 'name',\n",
       "       'primaryCategories', 'reviews.date', 'reviews.dateSeen',\n",
       "       'reviews.doRecommend', 'reviews.id', 'reviews.numHelpful',\n",
       "       'reviews.rating', 'reviews.sourceURLs', 'reviews.text', 'reviews.title',\n",
       "       'reviews.username', 'sourceURLs'],\n",
       "      dtype='object')"
      ]
     },
     "execution_count": 19,
     "metadata": {},
     "output_type": "execute_result"
    }
   ],
   "source": [
    "df.columns"
   ]
  },
  {
   "cell_type": "code",
   "execution_count": 20,
   "metadata": {},
   "outputs": [
    {
     "data": {
      "text/plain": [
       "((5000, 23), (28332, 23))"
      ]
     },
     "execution_count": 20,
     "metadata": {},
     "output_type": "execute_result"
    }
   ],
   "source": [
    "df_1.shape,df.shape"
   ]
  },
  {
   "cell_type": "markdown",
   "metadata": {},
   "source": [
    "## Concatenating "
   ]
  },
  {
   "cell_type": "code",
   "execution_count": 21,
   "metadata": {},
   "outputs": [],
   "source": [
    "df_concat = pd.concat([df,df_1],axis=0)"
   ]
  },
  {
   "cell_type": "code",
   "execution_count": 22,
   "metadata": {},
   "outputs": [
    {
     "name": "stdout",
     "output_type": "stream",
     "text": [
      "<class 'pandas.core.frame.DataFrame'>\n",
      "Int64Index: 33332 entries, 0 to 4999\n",
      "Data columns (total 23 columns):\n",
      " #   Column               Non-Null Count  Dtype  \n",
      "---  ------               --------------  -----  \n",
      " 0   asins                33332 non-null  object \n",
      " 1   brand                33332 non-null  object \n",
      " 2   categories           33332 non-null  object \n",
      " 3   dateAdded            33332 non-null  object \n",
      " 4   dateUpdated          33332 non-null  object \n",
      " 5   id                   33332 non-null  object \n",
      " 6   imageURLs            33332 non-null  object \n",
      " 7   keys                 33332 non-null  object \n",
      " 8   manufacturer         33332 non-null  object \n",
      " 9   manufacturerNumber   33332 non-null  object \n",
      " 10  name                 33332 non-null  object \n",
      " 11  primaryCategories    33332 non-null  object \n",
      " 12  reviews.date         33332 non-null  object \n",
      " 13  reviews.dateSeen     33332 non-null  object \n",
      " 14  reviews.doRecommend  21086 non-null  object \n",
      " 15  reviews.id           70 non-null     float64\n",
      " 16  reviews.numHelpful   21115 non-null  float64\n",
      " 17  reviews.rating       33332 non-null  int64  \n",
      " 18  reviews.sourceURLs   33332 non-null  object \n",
      " 19  reviews.text         33332 non-null  object \n",
      " 20  reviews.title        33319 non-null  object \n",
      " 21  reviews.username     33332 non-null  object \n",
      " 22  sourceURLs           33332 non-null  object \n",
      "dtypes: float64(2), int64(1), object(20)\n",
      "memory usage: 6.1+ MB\n"
     ]
    }
   ],
   "source": [
    "df_concat.info()"
   ]
  },
  {
   "cell_type": "markdown",
   "metadata": {},
   "source": [
    "### Dropping unwanted columns"
   ]
  },
  {
   "cell_type": "code",
   "execution_count": 23,
   "metadata": {},
   "outputs": [
    {
     "data": {
      "text/plain": [
       "Index(['asins', 'brand', 'categories', 'dateAdded', 'dateUpdated', 'id',\n",
       "       'imageURLs', 'keys', 'manufacturer', 'manufacturerNumber', 'name',\n",
       "       'primaryCategories', 'reviews.date', 'reviews.dateSeen',\n",
       "       'reviews.doRecommend', 'reviews.id', 'reviews.numHelpful',\n",
       "       'reviews.rating', 'reviews.sourceURLs', 'reviews.text', 'reviews.title',\n",
       "       'reviews.username', 'sourceURLs'],\n",
       "      dtype='object')"
      ]
     },
     "execution_count": 23,
     "metadata": {},
     "output_type": "execute_result"
    }
   ],
   "source": [
    "\n",
    "df_concat.columns"
   ]
  },
  {
   "cell_type": "code",
   "execution_count": 24,
   "metadata": {},
   "outputs": [],
   "source": [
    "# Dropping unwanted columns\n",
    "df_new = df_concat.drop(labels=(['id','asins','brand','imageURLs','keys','manufacturerNumber','reviews.sourceURLs','sourceURLs','reviews.id','reviews.dateSeen','manufacturer']), axis=1)"
   ]
  },
  {
   "cell_type": "code",
   "execution_count": 25,
   "metadata": {},
   "outputs": [
    {
     "data": {
      "text/plain": [
       "(33332, 12)"
      ]
     },
     "execution_count": 25,
     "metadata": {},
     "output_type": "execute_result"
    }
   ],
   "source": [
    "df_new.shape"
   ]
  },
  {
   "cell_type": "code",
   "execution_count": 26,
   "metadata": {},
   "outputs": [
    {
     "data": {
      "text/plain": [
       "Index(['categories', 'dateAdded', 'dateUpdated', 'name', 'primaryCategories',\n",
       "       'reviews.date', 'reviews.doRecommend', 'reviews.numHelpful',\n",
       "       'reviews.rating', 'reviews.text', 'reviews.title', 'reviews.username'],\n",
       "      dtype='object')"
      ]
     },
     "execution_count": 26,
     "metadata": {},
     "output_type": "execute_result"
    }
   ],
   "source": [
    "df_new.columns"
   ]
  },
  {
   "cell_type": "code",
   "execution_count": 27,
   "metadata": {},
   "outputs": [],
   "source": [
    "# checking the missing value percentages"
   ]
  },
  {
   "cell_type": "code",
   "execution_count": 28,
   "metadata": {},
   "outputs": [
    {
     "data": {
      "text/plain": [
       "categories              0.000000\n",
       "dateAdded               0.000000\n",
       "dateUpdated             0.000000\n",
       "name                    0.000000\n",
       "primaryCategories       0.000000\n",
       "reviews.date            0.000000\n",
       "reviews.doRecommend    36.739470\n",
       "reviews.numHelpful     36.652466\n",
       "reviews.rating          0.000000\n",
       "reviews.text            0.000000\n",
       "reviews.title           0.039002\n",
       "reviews.username        0.000000\n",
       "dtype: float64"
      ]
     },
     "execution_count": 28,
     "metadata": {},
     "output_type": "execute_result"
    }
   ],
   "source": [
    "(df_new.isnull().sum()/len(df_new))*100"
   ]
  },
  {
   "cell_type": "raw",
   "metadata": {},
   "source": [
    "# Columns: doRecommend & numHelpful can be dropped if they aren't important. \n",
    "## Need to take a call on this! "
   ]
  },
  {
   "cell_type": "markdown",
   "metadata": {},
   "source": [
    "### Basic analysis from the features"
   ]
  },
  {
   "cell_type": "code",
   "execution_count": 29,
   "metadata": {},
   "outputs": [
    {
     "name": "stdout",
     "output_type": "stream",
     "text": [
      "<class 'pandas.core.frame.DataFrame'>\n",
      "Int64Index: 33332 entries, 0 to 4999\n",
      "Data columns (total 12 columns):\n",
      " #   Column               Non-Null Count  Dtype  \n",
      "---  ------               --------------  -----  \n",
      " 0   categories           33332 non-null  object \n",
      " 1   dateAdded            33332 non-null  object \n",
      " 2   dateUpdated          33332 non-null  object \n",
      " 3   name                 33332 non-null  object \n",
      " 4   primaryCategories    33332 non-null  object \n",
      " 5   reviews.date         33332 non-null  object \n",
      " 6   reviews.doRecommend  21086 non-null  object \n",
      " 7   reviews.numHelpful   21115 non-null  float64\n",
      " 8   reviews.rating       33332 non-null  int64  \n",
      " 9   reviews.text         33332 non-null  object \n",
      " 10  reviews.title        33319 non-null  object \n",
      " 11  reviews.username     33332 non-null  object \n",
      "dtypes: float64(1), int64(1), object(10)\n",
      "memory usage: 3.3+ MB\n"
     ]
    }
   ],
   "source": [
    "df_new.info()"
   ]
  },
  {
   "cell_type": "code",
   "execution_count": 30,
   "metadata": {},
   "outputs": [
    {
     "data": {
      "text/plain": [
       "(ByAmazon Customer     889\n",
       " Mike                   89\n",
       " Dave                   57\n",
       " Chris                  52\n",
       " ByKindle Customer      45\n",
       "                      ... \n",
       " BEN1                    2\n",
       " feverdreamer            2\n",
       " ByDavid F. Daniels      2\n",
       " ByJ. Maier              2\n",
       " ByRick Moody            2\n",
       " Name: reviews.username, Length: 7229, dtype: int64,\n",
       " 17429)"
      ]
     },
     "execution_count": 30,
     "metadata": {},
     "output_type": "execute_result"
    }
   ],
   "source": [
    "# Getting the customers who have given more than 1 reviews (might have bought more than 1 product)\n",
    "b = df_concat['reviews.username'].value_counts()\n",
    "b[b>1], b.count()"
   ]
  },
  {
   "cell_type": "code",
   "execution_count": 31,
   "metadata": {},
   "outputs": [
    {
     "data": {
      "text/plain": [
       "76"
      ]
     },
     "execution_count": 31,
     "metadata": {},
     "output_type": "execute_result"
    }
   ],
   "source": [
    "len(list(df_new['categories'].unique()))"
   ]
  },
  {
   "cell_type": "code",
   "execution_count": 32,
   "metadata": {},
   "outputs": [
    {
     "data": {
      "text/plain": [
       "10"
      ]
     },
     "execution_count": 32,
     "metadata": {},
     "output_type": "execute_result"
    }
   ],
   "source": [
    "len(list(df_new['primaryCategories'].unique()))"
   ]
  },
  {
   "cell_type": "code",
   "execution_count": 30,
   "metadata": {},
   "outputs": [],
   "source": [
    "df_new.to_csv('Amazon_Basic_EDA_01.csv')"
   ]
  },
  {
   "cell_type": "markdown",
   "metadata": {},
   "source": [
    "## \n",
    "## 2nd update"
   ]
  },
  {
   "cell_type": "code",
   "execution_count": 33,
   "metadata": {},
   "outputs": [],
   "source": [
    "df = pd.read_csv('Amazon_Basic_EDA_01.csv', index_col=0)"
   ]
  },
  {
   "cell_type": "markdown",
   "metadata": {},
   "source": [
    "### Cleaning the 3rd (1429) file for concatenation"
   ]
  },
  {
   "cell_type": "raw",
   "metadata": {},
   "source": [
    "# Main objective:\n",
    "    - Create a primaryCategory column in 1429 file, since it's missing and is important for our analysis\n",
    "    - Concatenate it to the main file"
   ]
  },
  {
   "cell_type": "code",
   "execution_count": 34,
   "metadata": {},
   "outputs": [],
   "source": [
    "# A list of unique products in 1429 file that do not belong to the electronics primaryCategory\n",
    "\n",
    "list1 = ['Amazon Kindle Lighted Leather Cover,,,\\r\\nAmazon Kindle Lighted Leather Cover,,,','Amazon Kindle Lighted Leather Cover,,,\\r\\nKindle Keyboard,,,','Amazon Standing Protective Case for Fire HD 6 (4th Generation) - Black,,,\\r\\nAmazon Standing Protective Case for Fire HD 6 (4th Generation) - Black,,,','Amazon Kindle Touch Leather Case (4th Generation - 2011 Release), Olive Green,,,\\r\\nAmazon Kindle Touch Leather Case (4th Generation - 2011 Release), Olive Green,,,',\n",
    "       'Fire Kids Edition Tablet, 7 Display, Wi-Fi, 16 GB, Green Kid-Proof Case']"
   ]
  },
  {
   "cell_type": "code",
   "execution_count": 35,
   "metadata": {},
   "outputs": [
    {
     "name": "stderr",
     "output_type": "stream",
     "text": [
      "C:\\ProgramData\\Anaconda3\\lib\\site-packages\\IPython\\core\\interactiveshell.py:3071: DtypeWarning: Columns (1,10) have mixed types.Specify dtype option on import or set low_memory=False.\n",
      "  has_raised = await self.run_ast_nodes(code_ast.body, cell_name,\n"
     ]
    }
   ],
   "source": [
    "df_2 = pd.read_csv('1429_1.csv')"
   ]
  },
  {
   "cell_type": "code",
   "execution_count": 36,
   "metadata": {},
   "outputs": [],
   "source": [
    "df_2['primaryCategories'] = df_2['name'].apply(lambda x: np.nan if x in list1 else 'Electronics')"
   ]
  },
  {
   "cell_type": "code",
   "execution_count": 37,
   "metadata": {},
   "outputs": [
    {
     "name": "stdout",
     "output_type": "stream",
     "text": [
      "number of electronics: Electronics    32968\n",
      "Name: primaryCategories, dtype: int64 Shape of df: (34660, 22)\n"
     ]
    }
   ],
   "source": [
    "\n",
    "print('number of electronics:', df_2['primaryCategories'].value_counts(),'Shape of df:', df_2.shape)"
   ]
  },
  {
   "cell_type": "raw",
   "metadata": {},
   "source": [
    "# We can see that out of 33k+ records from 1429 file, 95% belonged to the category - Electronics."
   ]
  },
  {
   "cell_type": "code",
   "execution_count": 38,
   "metadata": {},
   "outputs": [],
   "source": [
    "# Dropping unwanted columns \n",
    "\n",
    "# Removing columns from df that aren't in df_2\n",
    "df.drop(labels=['dateAdded', 'dateUpdated'], axis=1, inplace=True)\n",
    "\n",
    "# Removing unwanted columns from df_2\n",
    "df_2.drop(labels=['id','asins','brand','manufacturer','reviews.sourceURLs','reviews.id','reviews.dateSeen','reviews.userProvince', 'reviews.userCity','keys', 'reviews.dateAdded', 'reviews.didPurchase'], axis=1, inplace=True)"
   ]
  },
  {
   "cell_type": "code",
   "execution_count": 39,
   "metadata": {},
   "outputs": [
    {
     "data": {
      "text/plain": [
       "(set(), {'reviews.dateAdded', 'reviews.didPurchase'})"
      ]
     },
     "execution_count": 39,
     "metadata": {},
     "output_type": "execute_result"
    }
   ],
   "source": [
    "# Checking for common/uncommon columns\n",
    "set(df_2) - set(df), set(df) - set(df_2) "
   ]
  },
  {
   "cell_type": "code",
   "execution_count": 40,
   "metadata": {},
   "outputs": [
    {
     "data": {
      "text/plain": [
       "((33332, 12), (34660, 10))"
      ]
     },
     "execution_count": 40,
     "metadata": {},
     "output_type": "execute_result"
    }
   ],
   "source": [
    "df.shape, df_2.shape"
   ]
  },
  {
   "cell_type": "code",
   "execution_count": 41,
   "metadata": {},
   "outputs": [],
   "source": [
    "# Sorting columns before concatenating\n",
    "\n",
    "df_2 = df_2.reindex(sorted(df_2.columns), axis=1)\n",
    "df = df.reindex(sorted(df.columns), axis=1)"
   ]
  },
  {
   "cell_type": "code",
   "execution_count": 42,
   "metadata": {},
   "outputs": [
    {
     "data": {
      "text/plain": [
       "(67992, 12)"
      ]
     },
     "execution_count": 42,
     "metadata": {},
     "output_type": "execute_result"
    }
   ],
   "source": [
    "# Concatenating both the files\n",
    "\n",
    "df_new2 = pd.concat([df,df_2], axis=0)\n",
    "\n",
    "df_new2.shape"
   ]
  },
  {
   "cell_type": "code",
   "execution_count": 43,
   "metadata": {},
   "outputs": [
    {
     "data": {
      "text/plain": [
       "categories              0.000000\n",
       "name                    9.942346\n",
       "primaryCategories       2.488528\n",
       "reviews.date            0.057360\n",
       "reviews.dateAdded      98.452759\n",
       "reviews.didPurchase    99.986763\n",
       "reviews.doRecommend    18.884575\n",
       "reviews.numHelpful     18.746323\n",
       "reviews.rating          0.048535\n",
       "reviews.text            0.001471\n",
       "reviews.title           0.026474\n",
       "reviews.username        0.002942\n",
       "dtype: float64"
      ]
     },
     "execution_count": 43,
     "metadata": {},
     "output_type": "execute_result"
    }
   ],
   "source": [
    "# Checking the null values\n",
    "\n",
    "(df_new2.isnull().sum()/len(df_new2))*100"
   ]
  },
  {
   "cell_type": "code",
   "execution_count": 44,
   "metadata": {},
   "outputs": [],
   "source": [
    "#### Cleaning the primaryCategory column"
   ]
  },
  {
   "cell_type": "raw",
   "metadata": {},
   "source": [
    "# Cleaning the primaryCategory columns as there are these following anomalies:\n",
    "    - Battery products have 'Health & Beauty' in their primaryCategory feature\n",
    "    - Features like: 'Electronics,Media','Electronics,Hardware','Electronics,Furniture' can be clubbed under 'Electronics'"
   ]
  },
  {
   "cell_type": "code",
   "execution_count": 45,
   "metadata": {},
   "outputs": [],
   "source": [
    "# changing Battery's primary Category to Electronics from Health & Beauty\n",
    "df_new2.loc[(df_new2['name'] == 'AmazonBasics AAA Performance Alkaline Batteries (36 Count)') | (df_new2['name'] == 'AmazonBasics AA Performance Alkaline Batteries (48 Count) - Packaging May Vary'), 'primaryCategories'] = 'Electronics'\n",
    "\n",
    "\n",
    "# Replacing primaryCategories like 'Electronics/Media', 'Electronics/Toys' to 'Electronics'\n",
    "\n",
    "replace_elect = {'Electronics,Furniture':'Electronics', 'Electronics,Hardware':'Electronics','Electronics,Media':'Electronics','Toys & Games,Electronics':'Electronics','Office Supplies,Electronics':'Office Supplies'}\n",
    "df_new2['primaryCategories'] = df_new2['primaryCategories'].replace(replace_elect)"
   ]
  },
  {
   "cell_type": "code",
   "execution_count": 46,
   "metadata": {},
   "outputs": [
    {
     "data": {
      "text/plain": [
       "Electronics               65632\n",
       "Office Supplies             660\n",
       "Animals & Pet Supplies        6\n",
       "Home & Garden                 2\n",
       "Name: primaryCategories, dtype: int64"
      ]
     },
     "execution_count": 46,
     "metadata": {},
     "output_type": "execute_result"
    }
   ],
   "source": [
    "# value counts of primaryCategories\n",
    "\n",
    "df_new2['primaryCategories'].value_counts()"
   ]
  },
  {
   "cell_type": "code",
   "execution_count": 47,
   "metadata": {},
   "outputs": [],
   "source": [
    "df_new2.index = np.arange(0,67992)"
   ]
  },
  {
   "cell_type": "code",
   "execution_count": 49,
   "metadata": {},
   "outputs": [],
   "source": [
    "df_new2.to_csv('Amazon_Basic_EDA_02.csv')"
   ]
  },
  {
   "cell_type": "markdown",
   "metadata": {},
   "source": [
    " #  EDA"
   ]
  },
  {
   "cell_type": "code",
   "execution_count": 48,
   "metadata": {},
   "outputs": [
    {
     "data": {
      "text/plain": [
       "(67992, 12)"
      ]
     },
     "execution_count": 48,
     "metadata": {},
     "output_type": "execute_result"
    }
   ],
   "source": [
    "df_new2.shape"
   ]
  },
  {
   "cell_type": "code",
   "execution_count": 49,
   "metadata": {},
   "outputs": [
    {
     "name": "stdout",
     "output_type": "stream",
     "text": [
      "<class 'pandas.core.frame.DataFrame'>\n",
      "Int64Index: 67992 entries, 0 to 67991\n",
      "Data columns (total 12 columns):\n",
      " #   Column               Non-Null Count  Dtype  \n",
      "---  ------               --------------  -----  \n",
      " 0   categories           67992 non-null  object \n",
      " 1   name                 61232 non-null  object \n",
      " 2   primaryCategories    66300 non-null  object \n",
      " 3   reviews.date         67953 non-null  object \n",
      " 4   reviews.dateAdded    1052 non-null   object \n",
      " 5   reviews.didPurchase  9 non-null      object \n",
      " 6   reviews.doRecommend  55152 non-null  object \n",
      " 7   reviews.numHelpful   55246 non-null  float64\n",
      " 8   reviews.rating       67959 non-null  float64\n",
      " 9   reviews.text         67991 non-null  object \n",
      " 10  reviews.title        67974 non-null  object \n",
      " 11  reviews.username     67990 non-null  object \n",
      "dtypes: float64(2), object(10)\n",
      "memory usage: 6.7+ MB\n"
     ]
    }
   ],
   "source": [
    "df_new2.info()"
   ]
  },
  {
   "cell_type": "markdown",
   "metadata": {},
   "source": [
    "    There are two numerical columns reviews.rating and reviews.numHelpful;\n",
    "    categories, primaryCategories, reviews.doRecommend, reviews.username and name are categorical values. \n",
    "    The rest reviews.text are reviews.title are text values."
   ]
  },
  {
   "cell_type": "markdown",
   "metadata": {},
   "source": [
    "# Univariate Analysis"
   ]
  },
  {
   "cell_type": "code",
   "execution_count": 50,
   "metadata": {},
   "outputs": [
    {
     "data": {
      "text/plain": [
       "Index(['categories', 'name', 'primaryCategories', 'reviews.date',\n",
       "       'reviews.dateAdded', 'reviews.didPurchase', 'reviews.doRecommend',\n",
       "       'reviews.numHelpful', 'reviews.rating', 'reviews.text', 'reviews.title',\n",
       "       'reviews.username'],\n",
       "      dtype='object')"
      ]
     },
     "execution_count": 50,
     "metadata": {},
     "output_type": "execute_result"
    }
   ],
   "source": [
    "df_new2.columns"
   ]
  },
  {
   "cell_type": "code",
   "execution_count": 51,
   "metadata": {},
   "outputs": [],
   "source": [
    "import seaborn as sns\n",
    "import matplotlib.pyplot as plt"
   ]
  },
  {
   "cell_type": "markdown",
   "metadata": {},
   "source": [
    "### reviews.rating countplot"
   ]
  },
  {
   "cell_type": "code",
   "execution_count": 52,
   "metadata": {},
   "outputs": [
    {
     "data": {
      "image/png": "[encoded data removed]",
      "text/plain": [
       "<Figure size 432x288 with 1 Axes>"
      ]
     },
     "metadata": {
      "needs_background": "light"
     },
     "output_type": "display_data"
    }
   ],
   "source": [
    "sns.countplot(df['reviews.rating'])\n",
    "plt.title('Countplot of Rating column')\n",
    "plt.show()"
   ]
  },
  {
   "cell_type": "markdown",
   "metadata": {},
   "source": [
    "### do Recommend countplot"
   ]
  },
  {
   "cell_type": "code",
   "execution_count": 53,
   "metadata": {},
   "outputs": [
    {
     "data": {
      "image/png": "[encoded data removed]",
      "text/plain": [
       "<Figure size 432x288 with 1 Axes>"
      ]
     },
     "metadata": {
      "needs_background": "light"
     },
     "output_type": "display_data"
    }
   ],
   "source": [
    "sns.countplot(df['reviews.doRecommend'])\n",
    "plt.title('Countplot of doRecommend column')\n",
    "plt.show()"
   ]
  },
  {
   "cell_type": "markdown",
   "metadata": {},
   "source": [
    "### name countplot"
   ]
  },
  {
   "cell_type": "code",
   "execution_count": 54,
   "metadata": {},
   "outputs": [
    {
     "data": {
      "image/png": "[encoded data removed]",
      "text/plain": [
       "<Figure size 1080x1080 with 1 Axes>"
      ]
     },
     "metadata": {
      "needs_background": "light"
     },
     "output_type": "display_data"
    }
   ],
   "source": [
    "plt.figure(figsize = (15,15))\n",
    "plt.bar(height = df['name'].value_counts().sort_values(ascending = False).values, x = df['name'].value_counts().sort_values(ascending = False).index)\n",
    "plt.xticks(rotation = 90)\n",
    "plt.title('Countplot of name column')\n",
    "plt.show()"
   ]
  },
  {
   "cell_type": "code",
   "execution_count": 71,
   "metadata": {},
   "outputs": [
    {
     "data": {
      "text/plain": [
       "count      125.000000\n",
       "mean       489.856000\n",
       "std       1409.729811\n",
       "min          1.000000\n",
       "25%          4.000000\n",
       "50%         21.000000\n",
       "75%        225.000000\n",
       "max      10966.000000\n",
       "Name: name, dtype: float64"
      ]
     },
     "execution_count": 71,
     "metadata": {},
     "output_type": "execute_result"
    }
   ],
   "source": [
    "df_new2['name'].value_counts().describe()"
   ]
  },
  {
   "cell_type": "markdown",
   "metadata": {},
   "source": [
    "The max no. of reviews for a product is 10966. We can see that 50% of products have less than 21 reviews and 75% products have less than 225 reviews."
   ]
  },
  {
   "cell_type": "code",
   "execution_count": 55,
   "metadata": {},
   "outputs": [
    {
     "data": {
      "text/plain": [
       "Fire Tablet, 7 Display, Wi-Fi, 8 GB - Includes Special Offers, Magenta                                       10966\n",
       "AmazonBasics AAA Performance Alkaline Batteries (36 Count)                                                    8343\n",
       "AmazonBasics AA Performance Alkaline Batteries (48 Count) - Packaging May Vary                                3728\n",
       "Echo (White),,,\\r\\nEcho (White),,,                                                                            3309\n",
       "Amazon Kindle Paperwhite - eBook reader - 4 GB - 6 monochrome Paperwhite - touchscreen - Wi-Fi - black,,,     3176\n",
       "Fire Kids Edition Tablet, 7 Display, Wi-Fi, 16 GB, Green Kid-Proof Case                                       3114\n",
       "All-New Fire HD 8 Tablet, 8 HD Display, Wi-Fi, 16 GB - Includes Special Offers, Magenta                       2814\n",
       "Amazon Fire Tv,,,\\r\\nAmazon Fire Tv,,,                                                                        2527\n",
       "Fire HD 8 Tablet with Alexa, 8 HD Display, 16 GB, Tangerine - with Special Offers                             2443\n",
       "All-New Fire HD 8 Tablet, 8 HD Display, Wi-Fi, 16 GB - Includes Special Offers, Black                         2370\n",
       "Name: name, dtype: int64"
      ]
     },
     "execution_count": 55,
     "metadata": {},
     "output_type": "execute_result"
    }
   ],
   "source": [
    "df_new2['name'].value_counts().sort_values(ascending = False).head(10)"
   ]
  },
  {
   "cell_type": "markdown",
   "metadata": {},
   "source": [
    "#### Top 10 products countplot"
   ]
  },
  {
   "cell_type": "code",
   "execution_count": 56,
   "metadata": {},
   "outputs": [
    {
     "name": "stderr",
     "output_type": "stream",
     "text": [
      "C:\\ProgramData\\Anaconda3\\lib\\site-packages\\matplotlib\\backends\\backend_agg.py:214: RuntimeWarning: Glyph 13 missing from current font.\n",
      "  font.set_text(s, 0.0, flags=flags)\n",
      "C:\\ProgramData\\Anaconda3\\lib\\site-packages\\matplotlib\\backends\\backend_agg.py:183: RuntimeWarning: Glyph 13 missing from current font.\n",
      "  font.set_text(s, 0, flags=flags)\n"
     ]
    },
    {
     "data": {
      "image/png": "[encoded data removed]",
      "text/plain": [
       "<Figure size 1080x576 with 1 Axes>"
      ]
     },
     "metadata": {
      "needs_background": "light"
     },
     "output_type": "display_data"
    }
   ],
   "source": [
    "plt.figure(figsize = (15,8))\n",
    "plt.barh(width = df_new2['name'].value_counts().sort_values(ascending = False).head(10).values, y = df_new2['name'].value_counts().sort_values(ascending = False).head(10).index)\n",
    "plt.xticks(rotation = 90)\n",
    "plt.title('Countplot of top 10 products')\n",
    "plt.show()"
   ]
  },
  {
   "cell_type": "code",
   "execution_count": 57,
   "metadata": {},
   "outputs": [
    {
     "data": {
      "image/png": "[encoded data removed]",
      "text/plain": [
       "<Figure size 432x288 with 1 Axes>"
      ]
     },
     "metadata": {
      "needs_background": "light"
     },
     "output_type": "display_data"
    }
   ],
   "source": [
    "sns.boxplot(df_new2['name'].value_counts())\n",
    "plt.title('Boxplot of the number of reviews with respect to name of the product')\n",
    "plt.show()"
   ]
  },
  {
   "cell_type": "markdown",
   "metadata": {},
   "source": [
    "### countplot of categories"
   ]
  },
  {
   "cell_type": "code",
   "execution_count": 58,
   "metadata": {},
   "outputs": [
    {
     "data": {
      "image/png": "[encoded data removed]",
      "text/plain": [
       "<Figure size 1080x576 with 1 Axes>"
      ]
     },
     "metadata": {
      "needs_background": "light"
     },
     "output_type": "display_data"
    }
   ],
   "source": [
    "plt.figure(figsize = (15,8))\n",
    "plt.barh(width = df_new2['primaryCategories'].value_counts(), y = df_new2['primaryCategories'].value_counts().index)\n",
    "plt.title('Countplot of products in each category')\n",
    "plt.show()"
   ]
  },
  {
   "cell_type": "code",
   "execution_count": 59,
   "metadata": {},
   "outputs": [
    {
     "data": {
      "text/plain": [
       "Electronics               0.965290\n",
       "Office Supplies           0.009707\n",
       "Animals & Pet Supplies    0.000088\n",
       "Home & Garden             0.000029\n",
       "Name: primaryCategories, dtype: float64"
      ]
     },
     "execution_count": 59,
     "metadata": {},
     "output_type": "execute_result"
    }
   ],
   "source": [
    "#percentage of values that each category occupies\n",
    "df_new2['primaryCategories'].value_counts()/df_new2.shape[0]"
   ]
  },
  {
   "cell_type": "markdown",
   "metadata": {},
   "source": [
    "More than 96% data is from Electronics column alone."
   ]
  },
  {
   "cell_type": "markdown",
   "metadata": {},
   "source": [
    "### countplot of users"
   ]
  },
  {
   "cell_type": "code",
   "execution_count": 60,
   "metadata": {},
   "outputs": [
    {
     "data": {
      "text/plain": [
       "ByAmazon Customer    0.013075\n",
       "Mike                 0.003339\n",
       "Chris                0.002133\n",
       "John                 0.001883\n",
       "Dave                 0.001868\n",
       "                       ...   \n",
       "tiny                 0.000015\n",
       "ByJack G Hardy       0.000015\n",
       "Lisha                0.000015\n",
       "bariyo7505           0.000015\n",
       "Midman               0.000015\n",
       "Name: reviews.username, Length: 37571, dtype: float64"
      ]
     },
     "execution_count": 60,
     "metadata": {},
     "output_type": "execute_result"
    }
   ],
   "source": [
    "#percentage of values that each category occupies\n",
    "df_new2['reviews.username'].value_counts()/df_new2.shape[0]"
   ]
  },
  {
   "cell_type": "markdown",
   "metadata": {},
   "source": [
    "We can see from the above that 1.3 percent of the reviews are ByAmazon Customer."
   ]
  },
  {
   "cell_type": "code",
   "execution_count": 99,
   "metadata": {},
   "outputs": [
    {
     "data": {
      "image/png": "[encoded data removed]",
      "text/plain": [
       "<Figure size 1080x576 with 1 Axes>"
      ]
     },
     "metadata": {
      "needs_background": "light"
     },
     "output_type": "display_data"
    }
   ],
   "source": [
    "plt.figure(figsize = (15,8))\n",
    "plt.barh(width = df_new2['reviews.username'].value_counts().head(10), y = df_new2['reviews.username'].value_counts().head(10).index)\n",
    "plt.title('Countplot of top 10 users')\n",
    "plt.show()"
   ]
  },
  {
   "cell_type": "code",
   "execution_count": 100,
   "metadata": {},
   "outputs": [
    {
     "data": {
      "image/png": "[encoded data removed]",
      "text/plain": [
       "<Figure size 1080x576 with 1 Axes>"
      ]
     },
     "metadata": {
      "needs_background": "light"
     },
     "output_type": "display_data"
    }
   ],
   "source": [
    "plt.figure(figsize = (15,8))\n",
    "plt.barh(width = df_new2['reviews.username'].value_counts().tail(10), y = df_new2['reviews.username'].value_counts().tail(10).index)\n",
    "plt.title('Countplot of bottom 10 users')\n",
    "plt.show()"
   ]
  },
  {
   "cell_type": "code",
   "execution_count": 101,
   "metadata": {},
   "outputs": [
    {
     "data": {
      "text/plain": [
       "count    37571.000000\n",
       "mean         1.809640\n",
       "std          5.546739\n",
       "min          1.000000\n",
       "25%          1.000000\n",
       "50%          1.000000\n",
       "75%          2.000000\n",
       "max        889.000000\n",
       "Name: reviews.username, dtype: float64"
      ]
     },
     "execution_count": 101,
     "metadata": {},
     "output_type": "execute_result"
    }
   ],
   "source": [
    "df_new2['reviews.username'].value_counts().describe()"
   ]
  },
  {
   "cell_type": "markdown",
   "metadata": {},
   "source": [
    "We can see that 75% of the users have written only 2 reviews."
   ]
  },
  {
   "cell_type": "code",
   "execution_count": 102,
   "metadata": {},
   "outputs": [
    {
     "data": {
      "text/plain": [
       "2"
      ]
     },
     "execution_count": 102,
     "metadata": {},
     "output_type": "execute_result"
    }
   ],
   "source": [
    "df_new2['reviews.username'].isna().sum()"
   ]
  },
  {
   "cell_type": "markdown",
   "metadata": {},
   "source": [
    "There are two reviews where there is no username."
   ]
  },
  {
   "cell_type": "code",
   "execution_count": 103,
   "metadata": {},
   "outputs": [
    {
     "data": {
      "image/png": "[encoded data removed]",
      "text/plain": [
       "<Figure size 432x288 with 1 Axes>"
      ]
     },
     "metadata": {
      "needs_background": "light"
     },
     "output_type": "display_data"
    }
   ],
   "source": [
    "sns.boxplot(df_new2['reviews.username'].value_counts())\n",
    "plt.title('Boxplot of the number of reviews with respect to users')\n",
    "plt.show()"
   ]
  },
  {
   "cell_type": "markdown",
   "metadata": {},
   "source": [
    "### reviews.date countplot"
   ]
  },
  {
   "cell_type": "code",
   "execution_count": 120,
   "metadata": {},
   "outputs": [],
   "source": [
    "df_new3 = df_new2.copy()"
   ]
  },
  {
   "cell_type": "code",
   "execution_count": 121,
   "metadata": {},
   "outputs": [],
   "source": [
    "df_new3.drop(labels = df_new3[df_new3['reviews.date'].isna()].index, axis = 0, inplace = True)"
   ]
  },
  {
   "cell_type": "code",
   "execution_count": 122,
   "metadata": {},
   "outputs": [],
   "source": [
    "#changing reviews.date to datetime format\n",
    "import datetime\n",
    "for i in range(len(df_new3['reviews.date'])):\n",
    "    if len(df_new3.iloc[i,3]) == 24:\n",
    "        df_new3.iloc[i,3] = pd.to_datetime(df_new3.iloc[i,3], format='%Y-%m-%dT%X.000Z')\n",
    "        #datetime.datetime.strptime(df_new3.iloc[i,3],'%Y-%m-%dT%X.000Z' )\n",
    "    else:\n",
    "        df_new3.iloc[i,3] = pd.to_datetime(df_new3.iloc[i,3], format='%Y-%m-%dT%XZ')\n",
    "        #datetime.datetime.strptime(df_new3.iloc[i,3],'%Y-%m-%dT%XZ' )"
   ]
  },
  {
   "cell_type": "code",
   "execution_count": 124,
   "metadata": {},
   "outputs": [
    {
     "data": {
      "text/plain": [
       "2017    32129\n",
       "2016    28745\n",
       "2015     5320\n",
       "2018     1497\n",
       "2014      194\n",
       "2012       23\n",
       "2013       16\n",
       "2019        9\n",
       "2011        9\n",
       "2010        8\n",
       "2009        3\n",
       "Name: reviews.date, dtype: int64"
      ]
     },
     "execution_count": 124,
     "metadata": {},
     "output_type": "execute_result"
    }
   ],
   "source": [
    "df_new3['reviews.date'].dt.year.value_counts()"
   ]
  },
  {
   "cell_type": "code",
   "execution_count": 128,
   "metadata": {},
   "outputs": [],
   "source": [
    "df_new3['reviews.date'] = df_new3['reviews.date'].astype('datetime64[ns]')"
   ]
  },
  {
   "cell_type": "code",
   "execution_count": 146,
   "metadata": {},
   "outputs": [
    {
     "data": {
      "text/plain": [
       "<matplotlib.legend.Legend at 0x1ca43f3d850>"
      ]
     },
     "execution_count": 146,
     "metadata": {},
     "output_type": "execute_result"
    },
    {
     "data": {
      "image/png": "[encoded data removed]",
      "text/plain": [
       "<Figure size 1296x432 with 1 Axes>"
      ]
     },
     "metadata": {
      "needs_background": "light"
     },
     "output_type": "display_data"
    }
   ],
   "source": [
    "latest_data = df_new3[df_new3['reviews.date'] > '2016']\n",
    "\n",
    "latest_data.sort_values(by = 'reviews.date').groupby('reviews.date').size().rename('reviews').plot(figsize=(18, 6), title = 'Number of reviews')\n",
    "\n",
    "plt.legend()"
   ]
  },
  {
   "cell_type": "code",
   "execution_count": 118,
   "metadata": {},
   "outputs": [
    {
     "data": {
      "text/plain": [
       "categories                 0\n",
       "name                    6746\n",
       "primaryCategories       1690\n",
       "reviews.date               0\n",
       "reviews.doRecommend    12799\n",
       "reviews.numHelpful     12717\n",
       "reviews.rating            23\n",
       "reviews.text               0\n",
       "reviews.title              0\n",
       "reviews.username           1\n",
       "text.scores                0\n",
       "title.scores               0\n",
       "text.compound              0\n",
       "title.compound             0\n",
       "texttitle.scores           0\n",
       "texttitle.compound         0\n",
       "dtype: int64"
      ]
     },
     "execution_count": 118,
     "metadata": {},
     "output_type": "execute_result"
    }
   ],
   "source": [
    "df_new3.isna().sum()"
   ]
  },
  {
   "cell_type": "code",
   "execution_count": 122,
   "metadata": {},
   "outputs": [
    {
     "data": {
      "text/plain": [
       "count                   67934\n",
       "unique                   1400\n",
       "top       2017-01-23 00:00:00\n",
       "freq                     1314\n",
       "Name: reviews.date, dtype: object"
      ]
     },
     "execution_count": 122,
     "metadata": {},
     "output_type": "execute_result"
    }
   ],
   "source": [
    "df_new3['reviews.date'].describe()"
   ]
  },
  {
   "cell_type": "code",
   "execution_count": 148,
   "metadata": {},
   "outputs": [
    {
     "data": {
      "text/html": [
       "<div>\n",
       "<style scoped>\n",
       "    .dataframe tbody tr th:only-of-type {\n",
       "        vertical-align: middle;\n",
       "    }\n",
       "\n",
       "    .dataframe tbody tr th {\n",
       "        vertical-align: top;\n",
       "    }\n",
       "\n",
       "    .dataframe thead th {\n",
       "        text-align: right;\n",
       "    }\n",
       "</style>\n",
       "<table border=\"1\" class=\"dataframe\">\n",
       "  <thead>\n",
       "    <tr style=\"text-align: right;\">\n",
       "      <th></th>\n",
       "      <th>reviews.numHelpful</th>\n",
       "      <th>reviews.rating</th>\n",
       "      <th>text.compound</th>\n",
       "      <th>title.compound</th>\n",
       "      <th>texttitle.compound</th>\n",
       "    </tr>\n",
       "  </thead>\n",
       "  <tbody>\n",
       "    <tr>\n",
       "      <th>count</th>\n",
       "      <td>1285.000000</td>\n",
       "      <td>1314.000000</td>\n",
       "      <td>1314.000000</td>\n",
       "      <td>1314.000000</td>\n",
       "      <td>1314.000000</td>\n",
       "    </tr>\n",
       "    <tr>\n",
       "      <th>mean</th>\n",
       "      <td>0.005447</td>\n",
       "      <td>4.600457</td>\n",
       "      <td>0.642713</td>\n",
       "      <td>0.468875</td>\n",
       "      <td>0.646968</td>\n",
       "    </tr>\n",
       "    <tr>\n",
       "      <th>std</th>\n",
       "      <td>0.092397</td>\n",
       "      <td>0.665343</td>\n",
       "      <td>0.319398</td>\n",
       "      <td>0.273420</td>\n",
       "      <td>0.348513</td>\n",
       "    </tr>\n",
       "    <tr>\n",
       "      <th>min</th>\n",
       "      <td>0.000000</td>\n",
       "      <td>1.000000</td>\n",
       "      <td>-0.872000</td>\n",
       "      <td>-0.476700</td>\n",
       "      <td>-0.872000</td>\n",
       "    </tr>\n",
       "    <tr>\n",
       "      <th>25%</th>\n",
       "      <td>0.000000</td>\n",
       "      <td>4.000000</td>\n",
       "      <td>0.557400</td>\n",
       "      <td>0.440400</td>\n",
       "      <td>0.571900</td>\n",
       "    </tr>\n",
       "    <tr>\n",
       "      <th>50%</th>\n",
       "      <td>0.000000</td>\n",
       "      <td>5.000000</td>\n",
       "      <td>0.732600</td>\n",
       "      <td>0.599400</td>\n",
       "      <td>0.777400</td>\n",
       "    </tr>\n",
       "    <tr>\n",
       "      <th>75%</th>\n",
       "      <td>0.000000</td>\n",
       "      <td>5.000000</td>\n",
       "      <td>0.871800</td>\n",
       "      <td>0.624900</td>\n",
       "      <td>0.890600</td>\n",
       "    </tr>\n",
       "    <tr>\n",
       "      <th>max</th>\n",
       "      <td>2.000000</td>\n",
       "      <td>5.000000</td>\n",
       "      <td>0.992600</td>\n",
       "      <td>0.927400</td>\n",
       "      <td>0.992600</td>\n",
       "    </tr>\n",
       "  </tbody>\n",
       "</table>\n",
       "</div>"
      ],
      "text/plain": [
       "       reviews.numHelpful  reviews.rating  text.compound  title.compound  \\\n",
       "count         1285.000000     1314.000000    1314.000000     1314.000000   \n",
       "mean             0.005447        4.600457       0.642713        0.468875   \n",
       "std              0.092397        0.665343       0.319398        0.273420   \n",
       "min              0.000000        1.000000      -0.872000       -0.476700   \n",
       "25%              0.000000        4.000000       0.557400        0.440400   \n",
       "50%              0.000000        5.000000       0.732600        0.599400   \n",
       "75%              0.000000        5.000000       0.871800        0.624900   \n",
       "max              2.000000        5.000000       0.992600        0.927400   \n",
       "\n",
       "       texttitle.compound  \n",
       "count         1314.000000  \n",
       "mean             0.646968  \n",
       "std              0.348513  \n",
       "min             -0.872000  \n",
       "25%              0.571900  \n",
       "50%              0.777400  \n",
       "75%              0.890600  \n",
       "max              0.992600  "
      ]
     },
     "execution_count": 148,
     "metadata": {},
     "output_type": "execute_result"
    }
   ],
   "source": [
    "df_new3.groupby('reviews.date').get_group('2017-01-23 00:00:00').describe()"
   ]
  },
  {
   "cell_type": "code",
   "execution_count": 135,
   "metadata": {},
   "outputs": [
    {
     "ename": "ModuleNotFoundError",
     "evalue": "No module named 'nltk.wordcloud'",
     "output_type": "error",
     "traceback": [
      "\u001b[1;31m---------------------------------------------------------------------------\u001b[0m",
      "\u001b[1;31mModuleNotFoundError\u001b[0m                       Traceback (most recent call last)",
      "\u001b[1;32m<ipython-input-135-8acca38a3cc9>\u001b[0m in \u001b[0;36m<module>\u001b[1;34m\u001b[0m\n\u001b[0;32m      1\u001b[0m \u001b[0mtext_cols\u001b[0m \u001b[1;33m=\u001b[0m \u001b[1;33m[\u001b[0m\u001b[1;34m'reviews.text'\u001b[0m\u001b[1;33m,\u001b[0m \u001b[1;34m'reviews.title'\u001b[0m\u001b[1;33m]\u001b[0m\u001b[1;33m\u001b[0m\u001b[1;33m\u001b[0m\u001b[0m\n\u001b[1;32m----> 2\u001b[1;33m \u001b[1;32mfrom\u001b[0m \u001b[0mnltk\u001b[0m\u001b[1;33m.\u001b[0m\u001b[0mwordcloud\u001b[0m \u001b[1;32mimport\u001b[0m \u001b[0mWordCloud\u001b[0m\u001b[1;33m,\u001b[0m \u001b[0mSTOPWORDS\u001b[0m\u001b[1;33m\u001b[0m\u001b[1;33m\u001b[0m\u001b[0m\n\u001b[0m\u001b[0;32m      3\u001b[0m \u001b[1;33m\u001b[0m\u001b[0m\n\u001b[0;32m      4\u001b[0m \u001b[0mwc\u001b[0m \u001b[1;33m=\u001b[0m \u001b[0mWordCloud\u001b[0m\u001b[1;33m(\u001b[0m\u001b[0mstopwords\u001b[0m \u001b[1;33m=\u001b[0m \u001b[0mset\u001b[0m\u001b[1;33m(\u001b[0m\u001b[0mlist\u001b[0m\u001b[1;33m(\u001b[0m\u001b[0mSTOPWORDS\u001b[0m\u001b[1;33m)\u001b[0m \u001b[1;33m+\u001b[0m \u001b[1;33m[\u001b[0m\u001b[1;34m'|'\u001b[0m\u001b[1;33m]\u001b[0m\u001b[1;33m)\u001b[0m\u001b[1;33m,\u001b[0m \u001b[0mrandom_state\u001b[0m \u001b[1;33m=\u001b[0m \u001b[1;36m42\u001b[0m\u001b[1;33m)\u001b[0m\u001b[1;33m\u001b[0m\u001b[1;33m\u001b[0m\u001b[0m\n\u001b[0;32m      5\u001b[0m \u001b[0mfig\u001b[0m\u001b[1;33m,\u001b[0m \u001b[0maxes\u001b[0m \u001b[1;33m=\u001b[0m \u001b[0mplt\u001b[0m\u001b[1;33m.\u001b[0m\u001b[0msubplots\u001b[0m\u001b[1;33m(\u001b[0m\u001b[1;36m2\u001b[0m\u001b[1;33m,\u001b[0m \u001b[1;36m2\u001b[0m\u001b[1;33m,\u001b[0m \u001b[0mfigsize\u001b[0m\u001b[1;33m=\u001b[0m\u001b[1;33m(\u001b[0m\u001b[1;36m20\u001b[0m\u001b[1;33m,\u001b[0m \u001b[1;36m12\u001b[0m\u001b[1;33m)\u001b[0m\u001b[1;33m)\u001b[0m\u001b[1;33m\u001b[0m\u001b[1;33m\u001b[0m\u001b[0m\n",
      "\u001b[1;31mModuleNotFoundError\u001b[0m: No module named 'nltk.wordcloud'"
     ]
    }
   ],
   "source": [
    "text_cols = ['reviews.text', 'reviews.title']\n",
    "from wordcloud import WordCloud, STOPWORDS\n",
    "\n",
    "wc = WordCloud(stopwords = set(list(STOPWORDS) + ['|']), random_state = 42)\n",
    "fig, axes = plt.subplots(2, 2, figsize=(20, 12))\n",
    "axes = [ax for axes_row in axes for ax in axes_row]\n",
    "\n",
    "for i, c in enumerate(text_cols):\n",
    "  op = wc.generate(str(train[c]))\n",
    "  _ = axes[i].imshow(op)\n",
    "  _ = axes[i].set_title(c.upper(), fontsize=24)\n",
    "  _ = axes[i].axis('off')\n",
    "\n",
    "_ = fig.delaxes(axes[3])"
   ]
  },
  {
   "cell_type": "markdown",
   "metadata": {},
   "source": [
    "# Decision Tree to impute do Recommend\n"
   ]
  },
  {
   "cell_type": "code",
   "execution_count": 50,
   "metadata": {},
   "outputs": [
    {
     "data": {
      "text/plain": [
       "<BarContainer object of 5 artists>"
      ]
     },
     "execution_count": 50,
     "metadata": {},
     "output_type": "execute_result"
    },
    {
     "data": {
      "image/png": "[encoded data removed]",
      "text/plain": [
       "<Figure size 1080x720 with 1 Axes>"
      ]
     },
     "metadata": {
      "needs_background": "light"
     },
     "output_type": "display_data"
    }
   ],
   "source": [
    "import matplotlib.pyplot as plt\n",
    "plt.figure(figsize = (15,10))\n",
    "bars = df_new2[df_new2['reviews.doRecommend']==True]['reviews.rating'].value_counts().sort_index().values\n",
    "plt.bar(x = df_new2[df_new2['reviews.doRecommend']==True]['reviews.rating'].value_counts().sort_index().index,height = df_new2[df_new2['reviews.doRecommend']==True]['reviews.rating'].value_counts().sort_index().values, color = 'green' )\n",
    "plt.bar(x = df_new2[df_new2['reviews.doRecommend']==False]['reviews.rating'].value_counts().sort_index().index,height = df_new2[df_new2['reviews.doRecommend']==False]['reviews.rating'].value_counts().sort_index().values, bottom = bars, color = 'red' )"
   ]
  },
  {
   "cell_type": "code",
   "execution_count": 51,
   "metadata": {},
   "outputs": [],
   "source": [
    "y = df_new2['reviews.doRecommend']"
   ]
  },
  {
   "cell_type": "code",
   "execution_count": 52,
   "metadata": {},
   "outputs": [],
   "source": [
    "y.dropna(inplace = True)"
   ]
  },
  {
   "cell_type": "code",
   "execution_count": 53,
   "metadata": {},
   "outputs": [
    {
     "data": {
      "text/plain": [
       "0"
      ]
     },
     "execution_count": 53,
     "metadata": {},
     "output_type": "execute_result"
    }
   ],
   "source": [
    "y.isna().sum()"
   ]
  },
  {
   "cell_type": "code",
   "execution_count": 54,
   "metadata": {},
   "outputs": [
    {
     "data": {
      "text/plain": [
       "True     52800\n",
       "False     2352\n",
       "Name: reviews.doRecommend, dtype: int64"
      ]
     },
     "execution_count": 54,
     "metadata": {},
     "output_type": "execute_result"
    }
   ],
   "source": [
    "y.value_counts()"
   ]
  },
  {
   "cell_type": "code",
   "execution_count": 55,
   "metadata": {},
   "outputs": [],
   "source": [
    "y = y.astype(int)"
   ]
  },
  {
   "cell_type": "code",
   "execution_count": 56,
   "metadata": {},
   "outputs": [
    {
     "data": {
      "text/plain": [
       "1    52800\n",
       "0     2352\n",
       "Name: reviews.doRecommend, dtype: int64"
      ]
     },
     "execution_count": 56,
     "metadata": {},
     "output_type": "execute_result"
    }
   ],
   "source": [
    "y.value_counts()"
   ]
  },
  {
   "cell_type": "code",
   "execution_count": 57,
   "metadata": {},
   "outputs": [
    {
     "data": {
      "text/plain": [
       "(55152,)"
      ]
     },
     "execution_count": 57,
     "metadata": {},
     "output_type": "execute_result"
    }
   ],
   "source": [
    "y.shape"
   ]
  },
  {
   "cell_type": "code",
   "execution_count": 58,
   "metadata": {},
   "outputs": [],
   "source": [
    "X = df_new2.iloc[y.index]['reviews.rating']"
   ]
  },
  {
   "cell_type": "code",
   "execution_count": 59,
   "metadata": {},
   "outputs": [
    {
     "data": {
      "text/plain": [
       "(55152,)"
      ]
     },
     "execution_count": 59,
     "metadata": {},
     "output_type": "execute_result"
    }
   ],
   "source": [
    "X.shape"
   ]
  },
  {
   "cell_type": "code",
   "execution_count": 60,
   "metadata": {},
   "outputs": [
    {
     "data": {
      "text/plain": [
       "5.0    37646\n",
       "4.0    13907\n",
       "3.0     2326\n",
       "2.0      648\n",
       "1.0      625\n",
       "Name: reviews.rating, dtype: int64"
      ]
     },
     "execution_count": 60,
     "metadata": {},
     "output_type": "execute_result"
    }
   ],
   "source": [
    "X.value_counts()"
   ]
  },
  {
   "cell_type": "code",
   "execution_count": 61,
   "metadata": {},
   "outputs": [],
   "source": [
    "from sklearn.model_selection import train_test_split\n",
    "import statsmodels.api as sm\n",
    "X_train, X_test, y_train, y_test= train_test_split(sm.add_constant(X),y, test_size = 0.3, random_state = 10)"
   ]
  },
  {
   "cell_type": "code",
   "execution_count": 62,
   "metadata": {},
   "outputs": [
    {
     "data": {
      "text/plain": [
       "LogisticRegression()"
      ]
     },
     "execution_count": 62,
     "metadata": {},
     "output_type": "execute_result"
    }
   ],
   "source": [
    "from sklearn.linear_model import LogisticRegression\n",
    "lr = LogisticRegression()\n",
    "lr.fit(X_train, y_train)"
   ]
  },
  {
   "cell_type": "code",
   "execution_count": 63,
   "metadata": {},
   "outputs": [
    {
     "data": {
      "text/plain": [
       "0.976946588613169"
      ]
     },
     "execution_count": 63,
     "metadata": {},
     "output_type": "execute_result"
    }
   ],
   "source": [
    "lr.score(X_train , y_train)"
   ]
  },
  {
   "cell_type": "code",
   "execution_count": 64,
   "metadata": {},
   "outputs": [
    {
     "name": "stdout",
     "output_type": "stream",
     "text": [
      "[[  396   381]\n",
      " [   44 15725]]\n",
      "              precision    recall  f1-score   support\n",
      "\n",
      "           0       0.90      0.51      0.65       777\n",
      "           1       0.98      1.00      0.99     15769\n",
      "\n",
      "    accuracy                           0.97     16546\n",
      "   macro avg       0.94      0.75      0.82     16546\n",
      "weighted avg       0.97      0.97      0.97     16546\n",
      "\n"
     ]
    }
   ],
   "source": [
    "predicted = lr.predict(X_test)\n",
    "from sklearn.metrics import confusion_matrix,classification_report,recall_score,precision_score,f1_score\n",
    "print(confusion_matrix(y_test,predicted))\n",
    "print(classification_report(y_test,predicted))"
   ]
  },
  {
   "cell_type": "markdown",
   "metadata": {},
   "source": [
    "need to add more rows for imputation of doRecommend \n"
   ]
  },
  {
   "cell_type": "markdown",
   "metadata": {},
   "source": [
    "# Vader Analysis"
   ]
  },
  {
   "cell_type": "code",
   "execution_count": 50,
   "metadata": {},
   "outputs": [],
   "source": [
    "import nltk"
   ]
  },
  {
   "cell_type": "code",
   "execution_count": 51,
   "metadata": {},
   "outputs": [
    {
     "name": "stderr",
     "output_type": "stream",
     "text": [
      "[nltk_data] Downloading package vader_lexicon to\n",
      "[nltk_data]     C:\\Users\\Navin\\AppData\\Roaming\\nltk_data...\n",
      "[nltk_data]   Package vader_lexicon is already up-to-date!\n"
     ]
    },
    {
     "data": {
      "text/plain": [
       "True"
      ]
     },
     "execution_count": 51,
     "metadata": {},
     "output_type": "execute_result"
    }
   ],
   "source": [
    "nltk.download('vader_lexicon')"
   ]
  },
  {
   "cell_type": "code",
   "execution_count": 52,
   "metadata": {},
   "outputs": [],
   "source": [
    "from nltk.sentiment.vader import SentimentIntensityAnalyzer\n",
    "sid = SentimentIntensityAnalyzer()"
   ]
  },
  {
   "cell_type": "code",
   "execution_count": 53,
   "metadata": {},
   "outputs": [
    {
     "data": {
      "text/plain": [
       "{'neg': 0.0, 'neu': 0.425, 'pos': 0.575, 'compound': 0.8877}"
      ]
     },
     "execution_count": 53,
     "metadata": {},
     "output_type": "execute_result"
    }
   ],
   "source": [
    "#demo\n",
    "a = 'This was the best, most awesome movie EVER MADE!!!'\n",
    "sid.polarity_scores(a)"
   ]
  },
  {
   "cell_type": "code",
   "execution_count": 54,
   "metadata": {},
   "outputs": [
    {
     "data": {
      "text/plain": [
       "{'neg': 0.0, 'neu': 0.508, 'pos': 0.492, 'compound': 0.4404}"
      ]
     },
     "execution_count": 54,
     "metadata": {},
     "output_type": "execute_result"
    }
   ],
   "source": [
    "#demo\n",
    "a = 'This was a good movie.'\n",
    "sid.polarity_scores(a)"
   ]
  },
  {
   "cell_type": "code",
   "execution_count": 55,
   "metadata": {},
   "outputs": [],
   "source": [
    "df_new2.drop(index = 36443, inplace = True) #dropping the record which doesn't have review.text"
   ]
  },
  {
   "cell_type": "code",
   "execution_count": 56,
   "metadata": {},
   "outputs": [],
   "source": [
    "df_new2['text.scores'] = df_new2['reviews.text'].apply(lambda review: sid.polarity_scores(review))"
   ]
  },
  {
   "cell_type": "code",
   "execution_count": 57,
   "metadata": {},
   "outputs": [
    {
     "data": {
      "text/plain": [
       "18"
      ]
     },
     "execution_count": 57,
     "metadata": {},
     "output_type": "execute_result"
    }
   ],
   "source": [
    "df_new2['reviews.title'].isna().sum()"
   ]
  },
  {
   "cell_type": "code",
   "execution_count": 58,
   "metadata": {},
   "outputs": [
    {
     "data": {
      "text/plain": [
       "Int64Index([28666, 28667, 28679, 28727, 28808, 28935, 28950, 29066, 29095,\n",
       "            29116, 29160, 29268, 29275, 36415, 55285, 58847, 61910, 62012],\n",
       "           dtype='int64')"
      ]
     },
     "execution_count": 58,
     "metadata": {},
     "output_type": "execute_result"
    }
   ],
   "source": [
    "df_new2[df_new2['reviews.title'].isna()].index"
   ]
  },
  {
   "cell_type": "code",
   "execution_count": 59,
   "metadata": {},
   "outputs": [],
   "source": [
    "df_new2.drop(labels = df_new2[df_new2['reviews.title'].isna()].index, axis = 0, inplace = True)"
   ]
  },
  {
   "cell_type": "code",
   "execution_count": 60,
   "metadata": {},
   "outputs": [],
   "source": [
    "df_new2['title.scores'] = df_new2['reviews.title'].apply(lambda review: sid.polarity_scores(review))"
   ]
  },
  {
   "cell_type": "code",
   "execution_count": 61,
   "metadata": {},
   "outputs": [
    {
     "data": {
      "text/plain": [
       "Index(['categories', 'name', 'primaryCategories', 'reviews.date',\n",
       "       'reviews.doRecommend', 'reviews.numHelpful', 'reviews.rating',\n",
       "       'reviews.text', 'reviews.title', 'reviews.username', 'text.scores',\n",
       "       'title.scores'],\n",
       "      dtype='object')"
      ]
     },
     "execution_count": 61,
     "metadata": {},
     "output_type": "execute_result"
    }
   ],
   "source": [
    "df_new2.columns"
   ]
  },
  {
   "cell_type": "code",
   "execution_count": 62,
   "metadata": {},
   "outputs": [
    {
     "data": {
      "text/plain": [
       "(67973, 12)"
      ]
     },
     "execution_count": 62,
     "metadata": {},
     "output_type": "execute_result"
    }
   ],
   "source": [
    "df_new2.shape"
   ]
  },
  {
   "cell_type": "code",
   "execution_count": 63,
   "metadata": {},
   "outputs": [],
   "source": [
    "df_new2.index = np.arange(0,67973)"
   ]
  },
  {
   "cell_type": "code",
   "execution_count": 64,
   "metadata": {},
   "outputs": [],
   "source": [
    "df_new2['text.compound']  = df_new2['text.scores'].apply(lambda score_dict: score_dict['compound'])\n",
    "df_new2['title.compound']  = df_new2['title.scores'].apply(lambda score_dict: score_dict['compound'])"
   ]
  },
  {
   "cell_type": "code",
   "execution_count": 65,
   "metadata": {},
   "outputs": [],
   "source": [
    "texttitlescores = []\n",
    "for i in range(df_new2.shape[0]):\n",
    "    if df_new2.iloc[i,12] != df_new2.iloc[i,13]:\n",
    "        texttitlescores.append(sid.polarity_scores(df_new2.iloc[i,7]+'. '+df_new2.iloc[i,8]))\n",
    "    else:\n",
    "        texttitlescores.append(df_new2.iloc[i,10])"
   ]
  },
  {
   "cell_type": "code",
   "execution_count": 66,
   "metadata": {},
   "outputs": [
    {
     "data": {
      "text/plain": [
       "0"
      ]
     },
     "execution_count": 66,
     "metadata": {},
     "output_type": "execute_result"
    }
   ],
   "source": [
    "df_new2['reviews.text'].isna().sum()"
   ]
  },
  {
   "cell_type": "code",
   "execution_count": 67,
   "metadata": {},
   "outputs": [],
   "source": [
    "df_new2['texttitle.scores'] = texttitlescores"
   ]
  },
  {
   "cell_type": "code",
   "execution_count": 68,
   "metadata": {},
   "outputs": [
    {
     "data": {
      "text/html": [
       "<div>\n",
       "<style scoped>\n",
       "    .dataframe tbody tr th:only-of-type {\n",
       "        vertical-align: middle;\n",
       "    }\n",
       "\n",
       "    .dataframe tbody tr th {\n",
       "        vertical-align: top;\n",
       "    }\n",
       "\n",
       "    .dataframe thead th {\n",
       "        text-align: right;\n",
       "    }\n",
       "</style>\n",
       "<table border=\"1\" class=\"dataframe\">\n",
       "  <thead>\n",
       "    <tr style=\"text-align: right;\">\n",
       "      <th></th>\n",
       "      <th>categories</th>\n",
       "      <th>name</th>\n",
       "      <th>primaryCategories</th>\n",
       "      <th>reviews.date</th>\n",
       "      <th>reviews.doRecommend</th>\n",
       "      <th>reviews.numHelpful</th>\n",
       "      <th>reviews.rating</th>\n",
       "      <th>reviews.text</th>\n",
       "      <th>reviews.title</th>\n",
       "      <th>reviews.username</th>\n",
       "      <th>text.scores</th>\n",
       "      <th>title.scores</th>\n",
       "      <th>text.compound</th>\n",
       "      <th>title.compound</th>\n",
       "      <th>texttitle.scores</th>\n",
       "    </tr>\n",
       "  </thead>\n",
       "  <tbody>\n",
       "    <tr>\n",
       "      <th>0</th>\n",
       "      <td>AA,AAA,Health,Electronics,Health &amp; Household,C...</td>\n",
       "      <td>AmazonBasics AAA Performance Alkaline Batterie...</td>\n",
       "      <td>Electronics</td>\n",
       "      <td>2017-03-02T00:00:00.000Z</td>\n",
       "      <td>NaN</td>\n",
       "      <td>NaN</td>\n",
       "      <td>3.0</td>\n",
       "      <td>I order 3 of them and one of the item is bad q...</td>\n",
       "      <td>... 3 of them and one of the item is bad quali...</td>\n",
       "      <td>Byger yang</td>\n",
       "      <td>{'neg': 0.186, 'neu': 0.814, 'pos': 0.0, 'comp...</td>\n",
       "      <td>{'neg': 0.263, 'neu': 0.737, 'pos': 0.0, 'comp...</td>\n",
       "      <td>-0.6908</td>\n",
       "      <td>-0.6908</td>\n",
       "      <td>{'neg': 0.186, 'neu': 0.814, 'pos': 0.0, 'comp...</td>\n",
       "    </tr>\n",
       "    <tr>\n",
       "      <th>1</th>\n",
       "      <td>AA,AAA,Health,Electronics,Health &amp; Household,C...</td>\n",
       "      <td>AmazonBasics AAA Performance Alkaline Batterie...</td>\n",
       "      <td>Electronics</td>\n",
       "      <td>2016-08-31T00:00:00.000Z</td>\n",
       "      <td>NaN</td>\n",
       "      <td>NaN</td>\n",
       "      <td>4.0</td>\n",
       "      <td>Bulk is always the less expensive way to go fo...</td>\n",
       "      <td>... always the less expensive way to go for pr...</td>\n",
       "      <td>ByMG</td>\n",
       "      <td>{'neg': 0.0, 'neu': 0.828, 'pos': 0.172, 'comp...</td>\n",
       "      <td>{'neg': 0.0, 'neu': 0.8, 'pos': 0.2, 'compound...</td>\n",
       "      <td>0.3612</td>\n",
       "      <td>0.3612</td>\n",
       "      <td>{'neg': 0.0, 'neu': 0.828, 'pos': 0.172, 'comp...</td>\n",
       "    </tr>\n",
       "    <tr>\n",
       "      <th>2</th>\n",
       "      <td>AA,AAA,Health,Electronics,Health &amp; Household,C...</td>\n",
       "      <td>AmazonBasics AAA Performance Alkaline Batterie...</td>\n",
       "      <td>Electronics</td>\n",
       "      <td>2016-12-06T00:00:00.000Z</td>\n",
       "      <td>NaN</td>\n",
       "      <td>NaN</td>\n",
       "      <td>5.0</td>\n",
       "      <td>Well they are not Duracell but for the price i...</td>\n",
       "      <td>... are not Duracell but for the price i am ha...</td>\n",
       "      <td>BySharon Lambert</td>\n",
       "      <td>{'neg': 0.0, 'neu': 0.577, 'pos': 0.423, 'comp...</td>\n",
       "      <td>{'neg': 0.0, 'neu': 0.641, 'pos': 0.359, 'comp...</td>\n",
       "      <td>0.7650</td>\n",
       "      <td>0.7227</td>\n",
       "      <td>{'neg': 0.0, 'neu': 0.742, 'pos': 0.258, 'comp...</td>\n",
       "    </tr>\n",
       "    <tr>\n",
       "      <th>3</th>\n",
       "      <td>AA,AAA,Health,Electronics,Health &amp; Household,C...</td>\n",
       "      <td>AmazonBasics AAA Performance Alkaline Batterie...</td>\n",
       "      <td>Electronics</td>\n",
       "      <td>2016-03-28T00:00:00.000Z</td>\n",
       "      <td>NaN</td>\n",
       "      <td>NaN</td>\n",
       "      <td>5.0</td>\n",
       "      <td>Seem to work as well as name brand batteries a...</td>\n",
       "      <td>... as well as name brand batteries at a much ...</td>\n",
       "      <td>Bymark sexson</td>\n",
       "      <td>{'neg': 0.0, 'neu': 0.688, 'pos': 0.312, 'comp...</td>\n",
       "      <td>{'neg': 0.0, 'neu': 0.615, 'pos': 0.385, 'comp...</td>\n",
       "      <td>0.6124</td>\n",
       "      <td>0.6124</td>\n",
       "      <td>{'neg': 0.0, 'neu': 0.688, 'pos': 0.312, 'comp...</td>\n",
       "    </tr>\n",
       "    <tr>\n",
       "      <th>4</th>\n",
       "      <td>AA,AAA,Health,Electronics,Health &amp; Household,C...</td>\n",
       "      <td>AmazonBasics AAA Performance Alkaline Batterie...</td>\n",
       "      <td>Electronics</td>\n",
       "      <td>2017-04-22T00:00:00.000Z</td>\n",
       "      <td>NaN</td>\n",
       "      <td>NaN</td>\n",
       "      <td>5.0</td>\n",
       "      <td>These batteries are very long lasting the pric...</td>\n",
       "      <td>... batteries are very long lasting the price ...</td>\n",
       "      <td>Bylinda</td>\n",
       "      <td>{'neg': 0.0, 'neu': 0.687, 'pos': 0.313, 'comp...</td>\n",
       "      <td>{'neg': 0.0, 'neu': 0.687, 'pos': 0.313, 'comp...</td>\n",
       "      <td>0.6249</td>\n",
       "      <td>0.6249</td>\n",
       "      <td>{'neg': 0.0, 'neu': 0.687, 'pos': 0.313, 'comp...</td>\n",
       "    </tr>\n",
       "  </tbody>\n",
       "</table>\n",
       "</div>"
      ],
      "text/plain": [
       "                                          categories  \\\n",
       "0  AA,AAA,Health,Electronics,Health & Household,C...   \n",
       "1  AA,AAA,Health,Electronics,Health & Household,C...   \n",
       "2  AA,AAA,Health,Electronics,Health & Household,C...   \n",
       "3  AA,AAA,Health,Electronics,Health & Household,C...   \n",
       "4  AA,AAA,Health,Electronics,Health & Household,C...   \n",
       "\n",
       "                                                name primaryCategories  \\\n",
       "0  AmazonBasics AAA Performance Alkaline Batterie...       Electronics   \n",
       "1  AmazonBasics AAA Performance Alkaline Batterie...       Electronics   \n",
       "2  AmazonBasics AAA Performance Alkaline Batterie...       Electronics   \n",
       "3  AmazonBasics AAA Performance Alkaline Batterie...       Electronics   \n",
       "4  AmazonBasics AAA Performance Alkaline Batterie...       Electronics   \n",
       "\n",
       "               reviews.date reviews.doRecommend  reviews.numHelpful  \\\n",
       "0  2017-03-02T00:00:00.000Z                 NaN                 NaN   \n",
       "1  2016-08-31T00:00:00.000Z                 NaN                 NaN   \n",
       "2  2016-12-06T00:00:00.000Z                 NaN                 NaN   \n",
       "3  2016-03-28T00:00:00.000Z                 NaN                 NaN   \n",
       "4  2017-04-22T00:00:00.000Z                 NaN                 NaN   \n",
       "\n",
       "   reviews.rating                                       reviews.text  \\\n",
       "0             3.0  I order 3 of them and one of the item is bad q...   \n",
       "1             4.0  Bulk is always the less expensive way to go fo...   \n",
       "2             5.0  Well they are not Duracell but for the price i...   \n",
       "3             5.0  Seem to work as well as name brand batteries a...   \n",
       "4             5.0  These batteries are very long lasting the pric...   \n",
       "\n",
       "                                       reviews.title  reviews.username  \\\n",
       "0  ... 3 of them and one of the item is bad quali...        Byger yang   \n",
       "1  ... always the less expensive way to go for pr...              ByMG   \n",
       "2  ... are not Duracell but for the price i am ha...  BySharon Lambert   \n",
       "3  ... as well as name brand batteries at a much ...     Bymark sexson   \n",
       "4  ... batteries are very long lasting the price ...           Bylinda   \n",
       "\n",
       "                                         text.scores  \\\n",
       "0  {'neg': 0.186, 'neu': 0.814, 'pos': 0.0, 'comp...   \n",
       "1  {'neg': 0.0, 'neu': 0.828, 'pos': 0.172, 'comp...   \n",
       "2  {'neg': 0.0, 'neu': 0.577, 'pos': 0.423, 'comp...   \n",
       "3  {'neg': 0.0, 'neu': 0.688, 'pos': 0.312, 'comp...   \n",
       "4  {'neg': 0.0, 'neu': 0.687, 'pos': 0.313, 'comp...   \n",
       "\n",
       "                                        title.scores  text.compound  \\\n",
       "0  {'neg': 0.263, 'neu': 0.737, 'pos': 0.0, 'comp...        -0.6908   \n",
       "1  {'neg': 0.0, 'neu': 0.8, 'pos': 0.2, 'compound...         0.3612   \n",
       "2  {'neg': 0.0, 'neu': 0.641, 'pos': 0.359, 'comp...         0.7650   \n",
       "3  {'neg': 0.0, 'neu': 0.615, 'pos': 0.385, 'comp...         0.6124   \n",
       "4  {'neg': 0.0, 'neu': 0.687, 'pos': 0.313, 'comp...         0.6249   \n",
       "\n",
       "   title.compound                                   texttitle.scores  \n",
       "0         -0.6908  {'neg': 0.186, 'neu': 0.814, 'pos': 0.0, 'comp...  \n",
       "1          0.3612  {'neg': 0.0, 'neu': 0.828, 'pos': 0.172, 'comp...  \n",
       "2          0.7227  {'neg': 0.0, 'neu': 0.742, 'pos': 0.258, 'comp...  \n",
       "3          0.6124  {'neg': 0.0, 'neu': 0.688, 'pos': 0.312, 'comp...  \n",
       "4          0.6249  {'neg': 0.0, 'neu': 0.687, 'pos': 0.313, 'comp...  "
      ]
     },
     "execution_count": 68,
     "metadata": {},
     "output_type": "execute_result"
    }
   ],
   "source": [
    "df_new2.head()"
   ]
  },
  {
   "cell_type": "code",
   "execution_count": 69,
   "metadata": {},
   "outputs": [
    {
     "data": {
      "text/html": [
       "<div>\n",
       "<style scoped>\n",
       "    .dataframe tbody tr th:only-of-type {\n",
       "        vertical-align: middle;\n",
       "    }\n",
       "\n",
       "    .dataframe tbody tr th {\n",
       "        vertical-align: top;\n",
       "    }\n",
       "\n",
       "    .dataframe thead th {\n",
       "        text-align: right;\n",
       "    }\n",
       "</style>\n",
       "<table border=\"1\" class=\"dataframe\">\n",
       "  <thead>\n",
       "    <tr style=\"text-align: right;\">\n",
       "      <th></th>\n",
       "      <th>categories</th>\n",
       "      <th>name</th>\n",
       "      <th>primaryCategories</th>\n",
       "      <th>reviews.date</th>\n",
       "      <th>reviews.doRecommend</th>\n",
       "      <th>reviews.numHelpful</th>\n",
       "      <th>reviews.rating</th>\n",
       "      <th>reviews.text</th>\n",
       "      <th>reviews.title</th>\n",
       "      <th>reviews.username</th>\n",
       "      <th>text.scores</th>\n",
       "      <th>title.scores</th>\n",
       "      <th>text.compound</th>\n",
       "      <th>title.compound</th>\n",
       "      <th>texttitle.scores</th>\n",
       "      <th>texttitle.compound</th>\n",
       "    </tr>\n",
       "  </thead>\n",
       "  <tbody>\n",
       "    <tr>\n",
       "      <th>0</th>\n",
       "      <td>AA,AAA,Health,Electronics,Health &amp; Household,C...</td>\n",
       "      <td>AmazonBasics AAA Performance Alkaline Batterie...</td>\n",
       "      <td>Electronics</td>\n",
       "      <td>2017-03-02T00:00:00.000Z</td>\n",
       "      <td>NaN</td>\n",
       "      <td>NaN</td>\n",
       "      <td>3.0</td>\n",
       "      <td>I order 3 of them and one of the item is bad q...</td>\n",
       "      <td>... 3 of them and one of the item is bad quali...</td>\n",
       "      <td>Byger yang</td>\n",
       "      <td>{'neg': 0.186, 'neu': 0.814, 'pos': 0.0, 'comp...</td>\n",
       "      <td>{'neg': 0.263, 'neu': 0.737, 'pos': 0.0, 'comp...</td>\n",
       "      <td>-0.6908</td>\n",
       "      <td>-0.6908</td>\n",
       "      <td>{'neg': 0.186, 'neu': 0.814, 'pos': 0.0, 'comp...</td>\n",
       "      <td>-0.6908</td>\n",
       "    </tr>\n",
       "    <tr>\n",
       "      <th>1</th>\n",
       "      <td>AA,AAA,Health,Electronics,Health &amp; Household,C...</td>\n",
       "      <td>AmazonBasics AAA Performance Alkaline Batterie...</td>\n",
       "      <td>Electronics</td>\n",
       "      <td>2016-08-31T00:00:00.000Z</td>\n",
       "      <td>NaN</td>\n",
       "      <td>NaN</td>\n",
       "      <td>4.0</td>\n",
       "      <td>Bulk is always the less expensive way to go fo...</td>\n",
       "      <td>... always the less expensive way to go for pr...</td>\n",
       "      <td>ByMG</td>\n",
       "      <td>{'neg': 0.0, 'neu': 0.828, 'pos': 0.172, 'comp...</td>\n",
       "      <td>{'neg': 0.0, 'neu': 0.8, 'pos': 0.2, 'compound...</td>\n",
       "      <td>0.3612</td>\n",
       "      <td>0.3612</td>\n",
       "      <td>{'neg': 0.0, 'neu': 0.828, 'pos': 0.172, 'comp...</td>\n",
       "      <td>0.3612</td>\n",
       "    </tr>\n",
       "    <tr>\n",
       "      <th>2</th>\n",
       "      <td>AA,AAA,Health,Electronics,Health &amp; Household,C...</td>\n",
       "      <td>AmazonBasics AAA Performance Alkaline Batterie...</td>\n",
       "      <td>Electronics</td>\n",
       "      <td>2016-12-06T00:00:00.000Z</td>\n",
       "      <td>NaN</td>\n",
       "      <td>NaN</td>\n",
       "      <td>5.0</td>\n",
       "      <td>Well they are not Duracell but for the price i...</td>\n",
       "      <td>... are not Duracell but for the price i am ha...</td>\n",
       "      <td>BySharon Lambert</td>\n",
       "      <td>{'neg': 0.0, 'neu': 0.577, 'pos': 0.423, 'comp...</td>\n",
       "      <td>{'neg': 0.0, 'neu': 0.641, 'pos': 0.359, 'comp...</td>\n",
       "      <td>0.7650</td>\n",
       "      <td>0.7227</td>\n",
       "      <td>{'neg': 0.0, 'neu': 0.742, 'pos': 0.258, 'comp...</td>\n",
       "      <td>0.7650</td>\n",
       "    </tr>\n",
       "    <tr>\n",
       "      <th>3</th>\n",
       "      <td>AA,AAA,Health,Electronics,Health &amp; Household,C...</td>\n",
       "      <td>AmazonBasics AAA Performance Alkaline Batterie...</td>\n",
       "      <td>Electronics</td>\n",
       "      <td>2016-03-28T00:00:00.000Z</td>\n",
       "      <td>NaN</td>\n",
       "      <td>NaN</td>\n",
       "      <td>5.0</td>\n",
       "      <td>Seem to work as well as name brand batteries a...</td>\n",
       "      <td>... as well as name brand batteries at a much ...</td>\n",
       "      <td>Bymark sexson</td>\n",
       "      <td>{'neg': 0.0, 'neu': 0.688, 'pos': 0.312, 'comp...</td>\n",
       "      <td>{'neg': 0.0, 'neu': 0.615, 'pos': 0.385, 'comp...</td>\n",
       "      <td>0.6124</td>\n",
       "      <td>0.6124</td>\n",
       "      <td>{'neg': 0.0, 'neu': 0.688, 'pos': 0.312, 'comp...</td>\n",
       "      <td>0.6124</td>\n",
       "    </tr>\n",
       "    <tr>\n",
       "      <th>4</th>\n",
       "      <td>AA,AAA,Health,Electronics,Health &amp; Household,C...</td>\n",
       "      <td>AmazonBasics AAA Performance Alkaline Batterie...</td>\n",
       "      <td>Electronics</td>\n",
       "      <td>2017-04-22T00:00:00.000Z</td>\n",
       "      <td>NaN</td>\n",
       "      <td>NaN</td>\n",
       "      <td>5.0</td>\n",
       "      <td>These batteries are very long lasting the pric...</td>\n",
       "      <td>... batteries are very long lasting the price ...</td>\n",
       "      <td>Bylinda</td>\n",
       "      <td>{'neg': 0.0, 'neu': 0.687, 'pos': 0.313, 'comp...</td>\n",
       "      <td>{'neg': 0.0, 'neu': 0.687, 'pos': 0.313, 'comp...</td>\n",
       "      <td>0.6249</td>\n",
       "      <td>0.6249</td>\n",
       "      <td>{'neg': 0.0, 'neu': 0.687, 'pos': 0.313, 'comp...</td>\n",
       "      <td>0.6249</td>\n",
       "    </tr>\n",
       "  </tbody>\n",
       "</table>\n",
       "</div>"
      ],
      "text/plain": [
       "                                          categories  \\\n",
       "0  AA,AAA,Health,Electronics,Health & Household,C...   \n",
       "1  AA,AAA,Health,Electronics,Health & Household,C...   \n",
       "2  AA,AAA,Health,Electronics,Health & Household,C...   \n",
       "3  AA,AAA,Health,Electronics,Health & Household,C...   \n",
       "4  AA,AAA,Health,Electronics,Health & Household,C...   \n",
       "\n",
       "                                                name primaryCategories  \\\n",
       "0  AmazonBasics AAA Performance Alkaline Batterie...       Electronics   \n",
       "1  AmazonBasics AAA Performance Alkaline Batterie...       Electronics   \n",
       "2  AmazonBasics AAA Performance Alkaline Batterie...       Electronics   \n",
       "3  AmazonBasics AAA Performance Alkaline Batterie...       Electronics   \n",
       "4  AmazonBasics AAA Performance Alkaline Batterie...       Electronics   \n",
       "\n",
       "               reviews.date reviews.doRecommend  reviews.numHelpful  \\\n",
       "0  2017-03-02T00:00:00.000Z                 NaN                 NaN   \n",
       "1  2016-08-31T00:00:00.000Z                 NaN                 NaN   \n",
       "2  2016-12-06T00:00:00.000Z                 NaN                 NaN   \n",
       "3  2016-03-28T00:00:00.000Z                 NaN                 NaN   \n",
       "4  2017-04-22T00:00:00.000Z                 NaN                 NaN   \n",
       "\n",
       "   reviews.rating                                       reviews.text  \\\n",
       "0             3.0  I order 3 of them and one of the item is bad q...   \n",
       "1             4.0  Bulk is always the less expensive way to go fo...   \n",
       "2             5.0  Well they are not Duracell but for the price i...   \n",
       "3             5.0  Seem to work as well as name brand batteries a...   \n",
       "4             5.0  These batteries are very long lasting the pric...   \n",
       "\n",
       "                                       reviews.title  reviews.username  \\\n",
       "0  ... 3 of them and one of the item is bad quali...        Byger yang   \n",
       "1  ... always the less expensive way to go for pr...              ByMG   \n",
       "2  ... are not Duracell but for the price i am ha...  BySharon Lambert   \n",
       "3  ... as well as name brand batteries at a much ...     Bymark sexson   \n",
       "4  ... batteries are very long lasting the price ...           Bylinda   \n",
       "\n",
       "                                         text.scores  \\\n",
       "0  {'neg': 0.186, 'neu': 0.814, 'pos': 0.0, 'comp...   \n",
       "1  {'neg': 0.0, 'neu': 0.828, 'pos': 0.172, 'comp...   \n",
       "2  {'neg': 0.0, 'neu': 0.577, 'pos': 0.423, 'comp...   \n",
       "3  {'neg': 0.0, 'neu': 0.688, 'pos': 0.312, 'comp...   \n",
       "4  {'neg': 0.0, 'neu': 0.687, 'pos': 0.313, 'comp...   \n",
       "\n",
       "                                        title.scores  text.compound  \\\n",
       "0  {'neg': 0.263, 'neu': 0.737, 'pos': 0.0, 'comp...        -0.6908   \n",
       "1  {'neg': 0.0, 'neu': 0.8, 'pos': 0.2, 'compound...         0.3612   \n",
       "2  {'neg': 0.0, 'neu': 0.641, 'pos': 0.359, 'comp...         0.7650   \n",
       "3  {'neg': 0.0, 'neu': 0.615, 'pos': 0.385, 'comp...         0.6124   \n",
       "4  {'neg': 0.0, 'neu': 0.687, 'pos': 0.313, 'comp...         0.6249   \n",
       "\n",
       "   title.compound                                   texttitle.scores  \\\n",
       "0         -0.6908  {'neg': 0.186, 'neu': 0.814, 'pos': 0.0, 'comp...   \n",
       "1          0.3612  {'neg': 0.0, 'neu': 0.828, 'pos': 0.172, 'comp...   \n",
       "2          0.7227  {'neg': 0.0, 'neu': 0.742, 'pos': 0.258, 'comp...   \n",
       "3          0.6124  {'neg': 0.0, 'neu': 0.688, 'pos': 0.312, 'comp...   \n",
       "4          0.6249  {'neg': 0.0, 'neu': 0.687, 'pos': 0.313, 'comp...   \n",
       "\n",
       "   texttitle.compound  \n",
       "0             -0.6908  \n",
       "1              0.3612  \n",
       "2              0.7650  \n",
       "3              0.6124  \n",
       "4              0.6249  "
      ]
     },
     "execution_count": 69,
     "metadata": {},
     "output_type": "execute_result"
    }
   ],
   "source": [
    "df_new2['texttitle.compound']  = df_new2['texttitle.scores'].apply(lambda score_dict: score_dict['compound'])\n",
    "\n",
    "df_new2.head()"
   ]
  },
  {
   "cell_type": "code",
   "execution_count": 70,
   "metadata": {},
   "outputs": [
    {
     "data": {
      "text/plain": [
       "'I order 3 of them and one of the item is bad quality. Is missing backup spring so I have to put a pcs of aluminum to make the battery work.'"
      ]
     },
     "execution_count": 70,
     "metadata": {},
     "output_type": "execute_result"
    }
   ],
   "source": [
    "df_new2['reviews.text'][0]"
   ]
  },
  {
   "cell_type": "code",
   "execution_count": 71,
   "metadata": {},
   "outputs": [
    {
     "data": {
      "text/plain": [
       "'... 3 of them and one of the item is bad quality. Is missing backup spring so I have ...'"
      ]
     },
     "execution_count": 71,
     "metadata": {},
     "output_type": "execute_result"
    }
   ],
   "source": [
    "df_new2['reviews.title'][0]"
   ]
  },
  {
   "cell_type": "code",
   "execution_count": 72,
   "metadata": {},
   "outputs": [
    {
     "data": {
      "text/html": [
       "<div>\n",
       "<style scoped>\n",
       "    .dataframe tbody tr th:only-of-type {\n",
       "        vertical-align: middle;\n",
       "    }\n",
       "\n",
       "    .dataframe tbody tr th {\n",
       "        vertical-align: top;\n",
       "    }\n",
       "\n",
       "    .dataframe thead th {\n",
       "        text-align: right;\n",
       "    }\n",
       "</style>\n",
       "<table border=\"1\" class=\"dataframe\">\n",
       "  <thead>\n",
       "    <tr style=\"text-align: right;\">\n",
       "      <th></th>\n",
       "      <th>categories</th>\n",
       "      <th>name</th>\n",
       "      <th>primaryCategories</th>\n",
       "      <th>reviews.date</th>\n",
       "      <th>reviews.doRecommend</th>\n",
       "      <th>reviews.numHelpful</th>\n",
       "      <th>reviews.rating</th>\n",
       "      <th>reviews.text</th>\n",
       "      <th>reviews.title</th>\n",
       "      <th>reviews.username</th>\n",
       "      <th>text.scores</th>\n",
       "      <th>title.scores</th>\n",
       "      <th>text.compound</th>\n",
       "      <th>title.compound</th>\n",
       "      <th>texttitle.scores</th>\n",
       "      <th>texttitle.compound</th>\n",
       "    </tr>\n",
       "  </thead>\n",
       "  <tbody>\n",
       "    <tr>\n",
       "      <th>0</th>\n",
       "      <td>AA,AAA,Health,Electronics,Health &amp; Household,C...</td>\n",
       "      <td>AmazonBasics AAA Performance Alkaline Batterie...</td>\n",
       "      <td>Electronics</td>\n",
       "      <td>2017-03-02T00:00:00.000Z</td>\n",
       "      <td>NaN</td>\n",
       "      <td>NaN</td>\n",
       "      <td>3.0</td>\n",
       "      <td>I order 3 of them and one of the item is bad q...</td>\n",
       "      <td>... 3 of them and one of the item is bad quali...</td>\n",
       "      <td>Byger yang</td>\n",
       "      <td>{'neg': 0.186, 'neu': 0.814, 'pos': 0.0, 'comp...</td>\n",
       "      <td>{'neg': 0.263, 'neu': 0.737, 'pos': 0.0, 'comp...</td>\n",
       "      <td>-0.6908</td>\n",
       "      <td>-0.6908</td>\n",
       "      <td>{'neg': 0.186, 'neu': 0.814, 'pos': 0.0, 'comp...</td>\n",
       "      <td>-0.6908</td>\n",
       "    </tr>\n",
       "    <tr>\n",
       "      <th>1</th>\n",
       "      <td>AA,AAA,Health,Electronics,Health &amp; Household,C...</td>\n",
       "      <td>AmazonBasics AAA Performance Alkaline Batterie...</td>\n",
       "      <td>Electronics</td>\n",
       "      <td>2016-08-31T00:00:00.000Z</td>\n",
       "      <td>NaN</td>\n",
       "      <td>NaN</td>\n",
       "      <td>4.0</td>\n",
       "      <td>Bulk is always the less expensive way to go fo...</td>\n",
       "      <td>... always the less expensive way to go for pr...</td>\n",
       "      <td>ByMG</td>\n",
       "      <td>{'neg': 0.0, 'neu': 0.828, 'pos': 0.172, 'comp...</td>\n",
       "      <td>{'neg': 0.0, 'neu': 0.8, 'pos': 0.2, 'compound...</td>\n",
       "      <td>0.3612</td>\n",
       "      <td>0.3612</td>\n",
       "      <td>{'neg': 0.0, 'neu': 0.828, 'pos': 0.172, 'comp...</td>\n",
       "      <td>0.3612</td>\n",
       "    </tr>\n",
       "    <tr>\n",
       "      <th>3</th>\n",
       "      <td>AA,AAA,Health,Electronics,Health &amp; Household,C...</td>\n",
       "      <td>AmazonBasics AAA Performance Alkaline Batterie...</td>\n",
       "      <td>Electronics</td>\n",
       "      <td>2016-03-28T00:00:00.000Z</td>\n",
       "      <td>NaN</td>\n",
       "      <td>NaN</td>\n",
       "      <td>5.0</td>\n",
       "      <td>Seem to work as well as name brand batteries a...</td>\n",
       "      <td>... as well as name brand batteries at a much ...</td>\n",
       "      <td>Bymark sexson</td>\n",
       "      <td>{'neg': 0.0, 'neu': 0.688, 'pos': 0.312, 'comp...</td>\n",
       "      <td>{'neg': 0.0, 'neu': 0.615, 'pos': 0.385, 'comp...</td>\n",
       "      <td>0.6124</td>\n",
       "      <td>0.6124</td>\n",
       "      <td>{'neg': 0.0, 'neu': 0.688, 'pos': 0.312, 'comp...</td>\n",
       "      <td>0.6124</td>\n",
       "    </tr>\n",
       "    <tr>\n",
       "      <th>4</th>\n",
       "      <td>AA,AAA,Health,Electronics,Health &amp; Household,C...</td>\n",
       "      <td>AmazonBasics AAA Performance Alkaline Batterie...</td>\n",
       "      <td>Electronics</td>\n",
       "      <td>2017-04-22T00:00:00.000Z</td>\n",
       "      <td>NaN</td>\n",
       "      <td>NaN</td>\n",
       "      <td>5.0</td>\n",
       "      <td>These batteries are very long lasting the pric...</td>\n",
       "      <td>... batteries are very long lasting the price ...</td>\n",
       "      <td>Bylinda</td>\n",
       "      <td>{'neg': 0.0, 'neu': 0.687, 'pos': 0.313, 'comp...</td>\n",
       "      <td>{'neg': 0.0, 'neu': 0.687, 'pos': 0.313, 'comp...</td>\n",
       "      <td>0.6249</td>\n",
       "      <td>0.6249</td>\n",
       "      <td>{'neg': 0.0, 'neu': 0.687, 'pos': 0.313, 'comp...</td>\n",
       "      <td>0.6249</td>\n",
       "    </tr>\n",
       "    <tr>\n",
       "      <th>6</th>\n",
       "      <td>AA,AAA,Health,Electronics,Health &amp; Household,C...</td>\n",
       "      <td>AmazonBasics AAA Performance Alkaline Batterie...</td>\n",
       "      <td>Electronics</td>\n",
       "      <td>2017-04-17T00:00:00.000Z</td>\n",
       "      <td>NaN</td>\n",
       "      <td>NaN</td>\n",
       "      <td>5.0</td>\n",
       "      <td>ive not had any problame with these batteries ...</td>\n",
       "      <td>... batteries have ordered them in the past be...</td>\n",
       "      <td>ByAmazon Customer</td>\n",
       "      <td>{'neg': 0.0, 'neu': 0.834, 'pos': 0.166, 'comp...</td>\n",
       "      <td>{'neg': 0.0, 'neu': 0.758, 'pos': 0.242, 'comp...</td>\n",
       "      <td>0.4927</td>\n",
       "      <td>0.4927</td>\n",
       "      <td>{'neg': 0.0, 'neu': 0.834, 'pos': 0.166, 'comp...</td>\n",
       "      <td>0.4927</td>\n",
       "    </tr>\n",
       "    <tr>\n",
       "      <th>...</th>\n",
       "      <td>...</td>\n",
       "      <td>...</td>\n",
       "      <td>...</td>\n",
       "      <td>...</td>\n",
       "      <td>...</td>\n",
       "      <td>...</td>\n",
       "      <td>...</td>\n",
       "      <td>...</td>\n",
       "      <td>...</td>\n",
       "      <td>...</td>\n",
       "      <td>...</td>\n",
       "      <td>...</td>\n",
       "      <td>...</td>\n",
       "      <td>...</td>\n",
       "      <td>...</td>\n",
       "      <td>...</td>\n",
       "    </tr>\n",
       "    <tr>\n",
       "      <th>67798</th>\n",
       "      <td>Back To College,College Electronics,College Tv...</td>\n",
       "      <td>NaN</td>\n",
       "      <td>Electronics</td>\n",
       "      <td>2015-12-04T00:00:00.000Z</td>\n",
       "      <td>True</td>\n",
       "      <td>0.0</td>\n",
       "      <td>5.0</td>\n",
       "      <td>PURCHASED THE FIRE BOX WITH THE INTENT OF GETT...</td>\n",
       "      <td>QUICKER THAN THE FIRE STICK</td>\n",
       "      <td>JAVI</td>\n",
       "      <td>{'neg': 0.194, 'neu': 0.806, 'pos': 0.0, 'comp...</td>\n",
       "      <td>{'neg': 0.375, 'neu': 0.625, 'pos': 0.0, 'comp...</td>\n",
       "      <td>-0.3400</td>\n",
       "      <td>-0.3400</td>\n",
       "      <td>{'neg': 0.194, 'neu': 0.806, 'pos': 0.0, 'comp...</td>\n",
       "      <td>-0.3400</td>\n",
       "    </tr>\n",
       "    <tr>\n",
       "      <th>67836</th>\n",
       "      <td>Back To College,College Electronics,College Tv...</td>\n",
       "      <td>NaN</td>\n",
       "      <td>Electronics</td>\n",
       "      <td>2015-12-12T00:00:00.000Z</td>\n",
       "      <td>True</td>\n",
       "      <td>0.0</td>\n",
       "      <td>5.0</td>\n",
       "      <td>One of the best TV boxes on the market hands d...</td>\n",
       "      <td>One of the best TV boxes on the market.</td>\n",
       "      <td>Tolins</td>\n",
       "      <td>{'neg': 0.0, 'neu': 0.704, 'pos': 0.296, 'comp...</td>\n",
       "      <td>{'neg': 0.0, 'neu': 0.656, 'pos': 0.344, 'comp...</td>\n",
       "      <td>0.6369</td>\n",
       "      <td>0.6369</td>\n",
       "      <td>{'neg': 0.0, 'neu': 0.704, 'pos': 0.296, 'comp...</td>\n",
       "      <td>0.6369</td>\n",
       "    </tr>\n",
       "    <tr>\n",
       "      <th>67875</th>\n",
       "      <td>Back To College,College Electronics,College Tv...</td>\n",
       "      <td>NaN</td>\n",
       "      <td>Electronics</td>\n",
       "      <td>2015-12-18T00:00:00.000Z</td>\n",
       "      <td>True</td>\n",
       "      <td>3.0</td>\n",
       "      <td>5.0</td>\n",
       "      <td>Got my FireTv box with kodi and is working awe...</td>\n",
       "      <td>Awesome</td>\n",
       "      <td>Rick</td>\n",
       "      <td>{'neg': 0.0, 'neu': 0.687, 'pos': 0.313, 'comp...</td>\n",
       "      <td>{'neg': 0.0, 'neu': 0.0, 'pos': 1.0, 'compound...</td>\n",
       "      <td>0.6249</td>\n",
       "      <td>0.6249</td>\n",
       "      <td>{'neg': 0.0, 'neu': 0.687, 'pos': 0.313, 'comp...</td>\n",
       "      <td>0.6249</td>\n",
       "    </tr>\n",
       "    <tr>\n",
       "      <th>67931</th>\n",
       "      <td>Back To College,College Electronics,College Tv...</td>\n",
       "      <td>NaN</td>\n",
       "      <td>Electronics</td>\n",
       "      <td>2015-12-29T00:00:00.000Z</td>\n",
       "      <td>True</td>\n",
       "      <td>0.0</td>\n",
       "      <td>5.0</td>\n",
       "      <td>Love that I don't have to clutter my living ro...</td>\n",
       "      <td>love it</td>\n",
       "      <td>Tony</td>\n",
       "      <td>{'neg': 0.0, 'neu': 0.704, 'pos': 0.296, 'comp...</td>\n",
       "      <td>{'neg': 0.0, 'neu': 0.192, 'pos': 0.808, 'comp...</td>\n",
       "      <td>0.6369</td>\n",
       "      <td>0.6369</td>\n",
       "      <td>{'neg': 0.0, 'neu': 0.704, 'pos': 0.296, 'comp...</td>\n",
       "      <td>0.6369</td>\n",
       "    </tr>\n",
       "    <tr>\n",
       "      <th>67933</th>\n",
       "      <td>Back To College,College Electronics,College Tv...</td>\n",
       "      <td>NaN</td>\n",
       "      <td>Electronics</td>\n",
       "      <td>2016-05-07T00:00:00.000Z</td>\n",
       "      <td>True</td>\n",
       "      <td>0.0</td>\n",
       "      <td>4.0</td>\n",
       "      <td>I am now able to stream tv and movies from aro...</td>\n",
       "      <td>Works great</td>\n",
       "      <td>jeepcj71</td>\n",
       "      <td>{'neg': 0.0, 'neu': 0.76, 'pos': 0.24, 'compou...</td>\n",
       "      <td>{'neg': 0.0, 'neu': 0.196, 'pos': 0.804, 'comp...</td>\n",
       "      <td>0.6249</td>\n",
       "      <td>0.6249</td>\n",
       "      <td>{'neg': 0.0, 'neu': 0.76, 'pos': 0.24, 'compou...</td>\n",
       "      <td>0.6249</td>\n",
       "    </tr>\n",
       "  </tbody>\n",
       "</table>\n",
       "<p>4450 rows × 16 columns</p>\n",
       "</div>"
      ],
      "text/plain": [
       "                                              categories  \\\n",
       "0      AA,AAA,Health,Electronics,Health & Household,C...   \n",
       "1      AA,AAA,Health,Electronics,Health & Household,C...   \n",
       "3      AA,AAA,Health,Electronics,Health & Household,C...   \n",
       "4      AA,AAA,Health,Electronics,Health & Household,C...   \n",
       "6      AA,AAA,Health,Electronics,Health & Household,C...   \n",
       "...                                                  ...   \n",
       "67798  Back To College,College Electronics,College Tv...   \n",
       "67836  Back To College,College Electronics,College Tv...   \n",
       "67875  Back To College,College Electronics,College Tv...   \n",
       "67931  Back To College,College Electronics,College Tv...   \n",
       "67933  Back To College,College Electronics,College Tv...   \n",
       "\n",
       "                                                    name primaryCategories  \\\n",
       "0      AmazonBasics AAA Performance Alkaline Batterie...       Electronics   \n",
       "1      AmazonBasics AAA Performance Alkaline Batterie...       Electronics   \n",
       "3      AmazonBasics AAA Performance Alkaline Batterie...       Electronics   \n",
       "4      AmazonBasics AAA Performance Alkaline Batterie...       Electronics   \n",
       "6      AmazonBasics AAA Performance Alkaline Batterie...       Electronics   \n",
       "...                                                  ...               ...   \n",
       "67798                                                NaN       Electronics   \n",
       "67836                                                NaN       Electronics   \n",
       "67875                                                NaN       Electronics   \n",
       "67931                                                NaN       Electronics   \n",
       "67933                                                NaN       Electronics   \n",
       "\n",
       "                   reviews.date reviews.doRecommend  reviews.numHelpful  \\\n",
       "0      2017-03-02T00:00:00.000Z                 NaN                 NaN   \n",
       "1      2016-08-31T00:00:00.000Z                 NaN                 NaN   \n",
       "3      2016-03-28T00:00:00.000Z                 NaN                 NaN   \n",
       "4      2017-04-22T00:00:00.000Z                 NaN                 NaN   \n",
       "6      2017-04-17T00:00:00.000Z                 NaN                 NaN   \n",
       "...                         ...                 ...                 ...   \n",
       "67798  2015-12-04T00:00:00.000Z                True                 0.0   \n",
       "67836  2015-12-12T00:00:00.000Z                True                 0.0   \n",
       "67875  2015-12-18T00:00:00.000Z                True                 3.0   \n",
       "67931  2015-12-29T00:00:00.000Z                True                 0.0   \n",
       "67933  2016-05-07T00:00:00.000Z                True                 0.0   \n",
       "\n",
       "       reviews.rating                                       reviews.text  \\\n",
       "0                 3.0  I order 3 of them and one of the item is bad q...   \n",
       "1                 4.0  Bulk is always the less expensive way to go fo...   \n",
       "3                 5.0  Seem to work as well as name brand batteries a...   \n",
       "4                 5.0  These batteries are very long lasting the pric...   \n",
       "6                 5.0  ive not had any problame with these batteries ...   \n",
       "...               ...                                                ...   \n",
       "67798             5.0  PURCHASED THE FIRE BOX WITH THE INTENT OF GETT...   \n",
       "67836             5.0  One of the best TV boxes on the market hands d...   \n",
       "67875             5.0  Got my FireTv box with kodi and is working awe...   \n",
       "67931             5.0  Love that I don't have to clutter my living ro...   \n",
       "67933             4.0  I am now able to stream tv and movies from aro...   \n",
       "\n",
       "                                           reviews.title   reviews.username  \\\n",
       "0      ... 3 of them and one of the item is bad quali...         Byger yang   \n",
       "1      ... always the less expensive way to go for pr...               ByMG   \n",
       "3      ... as well as name brand batteries at a much ...      Bymark sexson   \n",
       "4      ... batteries are very long lasting the price ...            Bylinda   \n",
       "6      ... batteries have ordered them in the past be...  ByAmazon Customer   \n",
       "...                                                  ...                ...   \n",
       "67798                        QUICKER THAN THE FIRE STICK               JAVI   \n",
       "67836            One of the best TV boxes on the market.             Tolins   \n",
       "67875                                            Awesome               Rick   \n",
       "67931                                            love it               Tony   \n",
       "67933                                        Works great           jeepcj71   \n",
       "\n",
       "                                             text.scores  \\\n",
       "0      {'neg': 0.186, 'neu': 0.814, 'pos': 0.0, 'comp...   \n",
       "1      {'neg': 0.0, 'neu': 0.828, 'pos': 0.172, 'comp...   \n",
       "3      {'neg': 0.0, 'neu': 0.688, 'pos': 0.312, 'comp...   \n",
       "4      {'neg': 0.0, 'neu': 0.687, 'pos': 0.313, 'comp...   \n",
       "6      {'neg': 0.0, 'neu': 0.834, 'pos': 0.166, 'comp...   \n",
       "...                                                  ...   \n",
       "67798  {'neg': 0.194, 'neu': 0.806, 'pos': 0.0, 'comp...   \n",
       "67836  {'neg': 0.0, 'neu': 0.704, 'pos': 0.296, 'comp...   \n",
       "67875  {'neg': 0.0, 'neu': 0.687, 'pos': 0.313, 'comp...   \n",
       "67931  {'neg': 0.0, 'neu': 0.704, 'pos': 0.296, 'comp...   \n",
       "67933  {'neg': 0.0, 'neu': 0.76, 'pos': 0.24, 'compou...   \n",
       "\n",
       "                                            title.scores  text.compound  \\\n",
       "0      {'neg': 0.263, 'neu': 0.737, 'pos': 0.0, 'comp...        -0.6908   \n",
       "1      {'neg': 0.0, 'neu': 0.8, 'pos': 0.2, 'compound...         0.3612   \n",
       "3      {'neg': 0.0, 'neu': 0.615, 'pos': 0.385, 'comp...         0.6124   \n",
       "4      {'neg': 0.0, 'neu': 0.687, 'pos': 0.313, 'comp...         0.6249   \n",
       "6      {'neg': 0.0, 'neu': 0.758, 'pos': 0.242, 'comp...         0.4927   \n",
       "...                                                  ...            ...   \n",
       "67798  {'neg': 0.375, 'neu': 0.625, 'pos': 0.0, 'comp...        -0.3400   \n",
       "67836  {'neg': 0.0, 'neu': 0.656, 'pos': 0.344, 'comp...         0.6369   \n",
       "67875  {'neg': 0.0, 'neu': 0.0, 'pos': 1.0, 'compound...         0.6249   \n",
       "67931  {'neg': 0.0, 'neu': 0.192, 'pos': 0.808, 'comp...         0.6369   \n",
       "67933  {'neg': 0.0, 'neu': 0.196, 'pos': 0.804, 'comp...         0.6249   \n",
       "\n",
       "       title.compound                                   texttitle.scores  \\\n",
       "0             -0.6908  {'neg': 0.186, 'neu': 0.814, 'pos': 0.0, 'comp...   \n",
       "1              0.3612  {'neg': 0.0, 'neu': 0.828, 'pos': 0.172, 'comp...   \n",
       "3              0.6124  {'neg': 0.0, 'neu': 0.688, 'pos': 0.312, 'comp...   \n",
       "4              0.6249  {'neg': 0.0, 'neu': 0.687, 'pos': 0.313, 'comp...   \n",
       "6              0.4927  {'neg': 0.0, 'neu': 0.834, 'pos': 0.166, 'comp...   \n",
       "...               ...                                                ...   \n",
       "67798         -0.3400  {'neg': 0.194, 'neu': 0.806, 'pos': 0.0, 'comp...   \n",
       "67836          0.6369  {'neg': 0.0, 'neu': 0.704, 'pos': 0.296, 'comp...   \n",
       "67875          0.6249  {'neg': 0.0, 'neu': 0.687, 'pos': 0.313, 'comp...   \n",
       "67931          0.6369  {'neg': 0.0, 'neu': 0.704, 'pos': 0.296, 'comp...   \n",
       "67933          0.6249  {'neg': 0.0, 'neu': 0.76, 'pos': 0.24, 'compou...   \n",
       "\n",
       "       texttitle.compound  \n",
       "0                 -0.6908  \n",
       "1                  0.3612  \n",
       "3                  0.6124  \n",
       "4                  0.6249  \n",
       "6                  0.4927  \n",
       "...                   ...  \n",
       "67798             -0.3400  \n",
       "67836              0.6369  \n",
       "67875              0.6249  \n",
       "67931              0.6369  \n",
       "67933              0.6249  \n",
       "\n",
       "[4450 rows x 16 columns]"
      ]
     },
     "execution_count": 72,
     "metadata": {},
     "output_type": "execute_result"
    }
   ],
   "source": [
    "df_new2[df_new2['title.compound'] == df_new2['text.compound']]"
   ]
  },
  {
   "cell_type": "markdown",
   "metadata": {},
   "source": [
    "There are 4450 rows in which the title and text have same compound score."
   ]
  },
  {
   "cell_type": "code",
   "execution_count": null,
   "metadata": {},
   "outputs": [],
   "source": []
  },
  {
   "cell_type": "code",
   "execution_count": 73,
   "metadata": {},
   "outputs": [
    {
     "data": {
      "text/plain": [
       "33"
      ]
     },
     "execution_count": 73,
     "metadata": {},
     "output_type": "execute_result"
    }
   ],
   "source": [
    "df_new2['reviews.rating'].isna().sum()"
   ]
  },
  {
   "cell_type": "code",
   "execution_count": 74,
   "metadata": {},
   "outputs": [
    {
     "data": {
      "text/plain": [
       "<matplotlib.axes._subplots.AxesSubplot at 0x24b5413bcd0>"
      ]
     },
     "execution_count": 74,
     "metadata": {},
     "output_type": "execute_result"
    },
    {
     "data": {
      "image/png": "[encoded data removed]",
      "text/plain": [
       "<Figure size 432x288 with 1 Axes>"
      ]
     },
     "metadata": {
      "needs_background": "light"
     },
     "output_type": "display_data"
    }
   ],
   "source": [
    "import seaborn as sns\n",
    "sns.scatterplot(x = df_new2['reviews.rating'], y = df_new2['text.compound'])"
   ]
  },
  {
   "cell_type": "code",
   "execution_count": 75,
   "metadata": {},
   "outputs": [
    {
     "data": {
      "text/html": [
       "<div>\n",
       "<style scoped>\n",
       "    .dataframe tbody tr th:only-of-type {\n",
       "        vertical-align: middle;\n",
       "    }\n",
       "\n",
       "    .dataframe tbody tr th {\n",
       "        vertical-align: top;\n",
       "    }\n",
       "\n",
       "    .dataframe thead tr th {\n",
       "        text-align: left;\n",
       "    }\n",
       "\n",
       "    .dataframe thead tr:last-of-type th {\n",
       "        text-align: right;\n",
       "    }\n",
       "</style>\n",
       "<table border=\"1\" class=\"dataframe\">\n",
       "  <thead>\n",
       "    <tr>\n",
       "      <th></th>\n",
       "      <th colspan=\"8\" halign=\"left\">reviews.numHelpful</th>\n",
       "      <th colspan=\"2\" halign=\"left\">text.compound</th>\n",
       "      <th>...</th>\n",
       "      <th colspan=\"2\" halign=\"left\">title.compound</th>\n",
       "      <th colspan=\"8\" halign=\"left\">texttitle.compound</th>\n",
       "    </tr>\n",
       "    <tr>\n",
       "      <th></th>\n",
       "      <th>count</th>\n",
       "      <th>mean</th>\n",
       "      <th>std</th>\n",
       "      <th>min</th>\n",
       "      <th>25%</th>\n",
       "      <th>50%</th>\n",
       "      <th>75%</th>\n",
       "      <th>max</th>\n",
       "      <th>count</th>\n",
       "      <th>mean</th>\n",
       "      <th>...</th>\n",
       "      <th>75%</th>\n",
       "      <th>max</th>\n",
       "      <th>count</th>\n",
       "      <th>mean</th>\n",
       "      <th>std</th>\n",
       "      <th>min</th>\n",
       "      <th>25%</th>\n",
       "      <th>50%</th>\n",
       "      <th>75%</th>\n",
       "      <th>max</th>\n",
       "    </tr>\n",
       "    <tr>\n",
       "      <th>reviews.rating</th>\n",
       "      <th></th>\n",
       "      <th></th>\n",
       "      <th></th>\n",
       "      <th></th>\n",
       "      <th></th>\n",
       "      <th></th>\n",
       "      <th></th>\n",
       "      <th></th>\n",
       "      <th></th>\n",
       "      <th></th>\n",
       "      <th></th>\n",
       "      <th></th>\n",
       "      <th></th>\n",
       "      <th></th>\n",
       "      <th></th>\n",
       "      <th></th>\n",
       "      <th></th>\n",
       "      <th></th>\n",
       "      <th></th>\n",
       "      <th></th>\n",
       "      <th></th>\n",
       "    </tr>\n",
       "  </thead>\n",
       "  <tbody>\n",
       "    <tr>\n",
       "      <th>1.0</th>\n",
       "      <td>652.0</td>\n",
       "      <td>7.027607</td>\n",
       "      <td>41.310326</td>\n",
       "      <td>0.0</td>\n",
       "      <td>0.0</td>\n",
       "      <td>0.0</td>\n",
       "      <td>1.0</td>\n",
       "      <td>621.0</td>\n",
       "      <td>1438.0</td>\n",
       "      <td>-0.128979</td>\n",
       "      <td>...</td>\n",
       "      <td>0.0000</td>\n",
       "      <td>0.8402</td>\n",
       "      <td>1438.0</td>\n",
       "      <td>-0.190688</td>\n",
       "      <td>0.541131</td>\n",
       "      <td>-0.9842</td>\n",
       "      <td>-0.6486</td>\n",
       "      <td>-0.2716</td>\n",
       "      <td>0.1635</td>\n",
       "      <td>0.9906</td>\n",
       "    </tr>\n",
       "    <tr>\n",
       "      <th>2.0</th>\n",
       "      <td>656.0</td>\n",
       "      <td>1.330793</td>\n",
       "      <td>8.950519</td>\n",
       "      <td>0.0</td>\n",
       "      <td>0.0</td>\n",
       "      <td>0.0</td>\n",
       "      <td>0.0</td>\n",
       "      <td>170.0</td>\n",
       "      <td>1072.0</td>\n",
       "      <td>0.010896</td>\n",
       "      <td>...</td>\n",
       "      <td>0.0000</td>\n",
       "      <td>0.7906</td>\n",
       "      <td>1072.0</td>\n",
       "      <td>-0.011025</td>\n",
       "      <td>0.547126</td>\n",
       "      <td>-0.9872</td>\n",
       "      <td>-0.4767</td>\n",
       "      <td>0.0000</td>\n",
       "      <td>0.4404</td>\n",
       "      <td>0.9875</td>\n",
       "    </tr>\n",
       "    <tr>\n",
       "      <th>3.0</th>\n",
       "      <td>2331.0</td>\n",
       "      <td>0.855856</td>\n",
       "      <td>16.650298</td>\n",
       "      <td>0.0</td>\n",
       "      <td>0.0</td>\n",
       "      <td>0.0</td>\n",
       "      <td>0.0</td>\n",
       "      <td>730.0</td>\n",
       "      <td>2902.0</td>\n",
       "      <td>0.305034</td>\n",
       "      <td>...</td>\n",
       "      <td>0.4404</td>\n",
       "      <td>0.8932</td>\n",
       "      <td>2902.0</td>\n",
       "      <td>0.390031</td>\n",
       "      <td>0.492845</td>\n",
       "      <td>-0.9614</td>\n",
       "      <td>0.0000</td>\n",
       "      <td>0.5267</td>\n",
       "      <td>0.8126</td>\n",
       "      <td>0.9975</td>\n",
       "    </tr>\n",
       "    <tr>\n",
       "      <th>4.0</th>\n",
       "      <td>13920.0</td>\n",
       "      <td>0.548132</td>\n",
       "      <td>10.212350</td>\n",
       "      <td>0.0</td>\n",
       "      <td>0.0</td>\n",
       "      <td>0.0</td>\n",
       "      <td>0.0</td>\n",
       "      <td>744.0</td>\n",
       "      <td>15397.0</td>\n",
       "      <td>0.580051</td>\n",
       "      <td>...</td>\n",
       "      <td>0.6249</td>\n",
       "      <td>0.9337</td>\n",
       "      <td>15397.0</td>\n",
       "      <td>0.709410</td>\n",
       "      <td>0.325754</td>\n",
       "      <td>-0.9795</td>\n",
       "      <td>0.6270</td>\n",
       "      <td>0.8341</td>\n",
       "      <td>0.9136</td>\n",
       "      <td>0.9993</td>\n",
       "    </tr>\n",
       "    <tr>\n",
       "      <th>5.0</th>\n",
       "      <td>37671.0</td>\n",
       "      <td>0.438427</td>\n",
       "      <td>10.467796</td>\n",
       "      <td>0.0</td>\n",
       "      <td>0.0</td>\n",
       "      <td>0.0</td>\n",
       "      <td>0.0</td>\n",
       "      <td>814.0</td>\n",
       "      <td>47131.0</td>\n",
       "      <td>0.648912</td>\n",
       "      <td>...</td>\n",
       "      <td>0.6249</td>\n",
       "      <td>0.9670</td>\n",
       "      <td>47131.0</td>\n",
       "      <td>0.758406</td>\n",
       "      <td>0.279016</td>\n",
       "      <td>-0.9344</td>\n",
       "      <td>0.6900</td>\n",
       "      <td>0.8658</td>\n",
       "      <td>0.9285</td>\n",
       "      <td>0.9998</td>\n",
       "    </tr>\n",
       "  </tbody>\n",
       "</table>\n",
       "<p>5 rows × 32 columns</p>\n",
       "</div>"
      ],
      "text/plain": [
       "               reviews.numHelpful                                           \\\n",
       "                            count      mean        std  min  25%  50%  75%   \n",
       "reviews.rating                                                               \n",
       "1.0                         652.0  7.027607  41.310326  0.0  0.0  0.0  1.0   \n",
       "2.0                         656.0  1.330793   8.950519  0.0  0.0  0.0  0.0   \n",
       "3.0                        2331.0  0.855856  16.650298  0.0  0.0  0.0  0.0   \n",
       "4.0                       13920.0  0.548132  10.212350  0.0  0.0  0.0  0.0   \n",
       "5.0                       37671.0  0.438427  10.467796  0.0  0.0  0.0  0.0   \n",
       "\n",
       "                      text.compound            ... title.compound          \\\n",
       "                  max         count      mean  ...            75%     max   \n",
       "reviews.rating                                 ...                          \n",
       "1.0             621.0        1438.0 -0.128979  ...         0.0000  0.8402   \n",
       "2.0             170.0        1072.0  0.010896  ...         0.0000  0.7906   \n",
       "3.0             730.0        2902.0  0.305034  ...         0.4404  0.8932   \n",
       "4.0             744.0       15397.0  0.580051  ...         0.6249  0.9337   \n",
       "5.0             814.0       47131.0  0.648912  ...         0.6249  0.9670   \n",
       "\n",
       "               texttitle.compound                                              \\\n",
       "                            count      mean       std     min     25%     50%   \n",
       "reviews.rating                                                                  \n",
       "1.0                        1438.0 -0.190688  0.541131 -0.9842 -0.6486 -0.2716   \n",
       "2.0                        1072.0 -0.011025  0.547126 -0.9872 -0.4767  0.0000   \n",
       "3.0                        2902.0  0.390031  0.492845 -0.9614  0.0000  0.5267   \n",
       "4.0                       15397.0  0.709410  0.325754 -0.9795  0.6270  0.8341   \n",
       "5.0                       47131.0  0.758406  0.279016 -0.9344  0.6900  0.8658   \n",
       "\n",
       "                                \n",
       "                   75%     max  \n",
       "reviews.rating                  \n",
       "1.0             0.1635  0.9906  \n",
       "2.0             0.4404  0.9875  \n",
       "3.0             0.8126  0.9975  \n",
       "4.0             0.9136  0.9993  \n",
       "5.0             0.9285  0.9998  \n",
       "\n",
       "[5 rows x 32 columns]"
      ]
     },
     "execution_count": 75,
     "metadata": {},
     "output_type": "execute_result"
    }
   ],
   "source": [
    "df_new2.groupby('reviews.rating').describe()"
   ]
  },
  {
   "cell_type": "code",
   "execution_count": 76,
   "metadata": {
    "scrolled": true
   },
   "outputs": [
    {
     "data": {
      "text/html": [
       "<div>\n",
       "<style scoped>\n",
       "    .dataframe tbody tr th:only-of-type {\n",
       "        vertical-align: middle;\n",
       "    }\n",
       "\n",
       "    .dataframe tbody tr th {\n",
       "        vertical-align: top;\n",
       "    }\n",
       "\n",
       "    .dataframe thead th {\n",
       "        text-align: right;\n",
       "    }\n",
       "</style>\n",
       "<table border=\"1\" class=\"dataframe\">\n",
       "  <thead>\n",
       "    <tr style=\"text-align: right;\">\n",
       "      <th></th>\n",
       "      <th>categories</th>\n",
       "      <th>name</th>\n",
       "      <th>primaryCategories</th>\n",
       "      <th>reviews.date</th>\n",
       "      <th>reviews.doRecommend</th>\n",
       "      <th>reviews.numHelpful</th>\n",
       "      <th>reviews.rating</th>\n",
       "      <th>reviews.text</th>\n",
       "      <th>reviews.title</th>\n",
       "      <th>reviews.username</th>\n",
       "      <th>text.scores</th>\n",
       "      <th>title.scores</th>\n",
       "      <th>text.compound</th>\n",
       "      <th>title.compound</th>\n",
       "      <th>texttitle.scores</th>\n",
       "      <th>texttitle.compound</th>\n",
       "    </tr>\n",
       "  </thead>\n",
       "  <tbody>\n",
       "    <tr>\n",
       "      <th>16</th>\n",
       "      <td>AA,AAA,Health,Electronics,Health &amp; Household,C...</td>\n",
       "      <td>AmazonBasics AAA Performance Alkaline Batterie...</td>\n",
       "      <td>Electronics</td>\n",
       "      <td>2017-03-07T00:00:00.000Z</td>\n",
       "      <td>NaN</td>\n",
       "      <td>NaN</td>\n",
       "      <td>1.0</td>\n",
       "      <td>I don't know if I would buy thus brand again s...</td>\n",
       "      <td>... know if I would buy thus brand again seems...</td>\n",
       "      <td>ByLaura</td>\n",
       "      <td>{'neg': 0.0, 'neu': 0.865, 'pos': 0.135, 'comp...</td>\n",
       "      <td>{'neg': 0.0, 'neu': 0.865, 'pos': 0.135, 'comp...</td>\n",
       "      <td>0.3612</td>\n",
       "      <td>0.3612</td>\n",
       "      <td>{'neg': 0.0, 'neu': 0.865, 'pos': 0.135, 'comp...</td>\n",
       "      <td>0.3612</td>\n",
       "    </tr>\n",
       "    <tr>\n",
       "      <th>24</th>\n",
       "      <td>AA,AAA,Health,Electronics,Health &amp; Household,C...</td>\n",
       "      <td>AmazonBasics AAA Performance Alkaline Batterie...</td>\n",
       "      <td>Electronics</td>\n",
       "      <td>2016-05-21T00:00:00.000Z</td>\n",
       "      <td>NaN</td>\n",
       "      <td>NaN</td>\n",
       "      <td>1.0</td>\n",
       "      <td>These do not last long at all very cheap batte...</td>\n",
       "      <td>... not last long at all very cheap batteries ...</td>\n",
       "      <td>ByDiane ault</td>\n",
       "      <td>{'neg': 0.152, 'neu': 0.619, 'pos': 0.229, 'co...</td>\n",
       "      <td>{'neg': 0.162, 'neu': 0.594, 'pos': 0.244, 'co...</td>\n",
       "      <td>0.3041</td>\n",
       "      <td>0.3041</td>\n",
       "      <td>{'neg': 0.152, 'neu': 0.619, 'pos': 0.229, 'co...</td>\n",
       "      <td>0.3041</td>\n",
       "    </tr>\n",
       "    <tr>\n",
       "      <th>39</th>\n",
       "      <td>AA,AAA,Health,Electronics,Health &amp; Household,C...</td>\n",
       "      <td>AmazonBasics AAA Performance Alkaline Batterie...</td>\n",
       "      <td>Electronics</td>\n",
       "      <td>2017-01-15T00:00:00.000Z</td>\n",
       "      <td>NaN</td>\n",
       "      <td>NaN</td>\n",
       "      <td>1.0</td>\n",
       "      <td>These batteries are horrible. We depend on AA ...</td>\n",
       "      <td>1/4 Capacity Batteries</td>\n",
       "      <td>ByKeith</td>\n",
       "      <td>{'neg': 0.089, 'neu': 0.885, 'pos': 0.026, 'co...</td>\n",
       "      <td>{'neg': 0.0, 'neu': 1.0, 'pos': 0.0, 'compound...</td>\n",
       "      <td>-0.6124</td>\n",
       "      <td>0.0000</td>\n",
       "      <td>{'neg': 0.085, 'neu': 0.89, 'pos': 0.025, 'com...</td>\n",
       "      <td>-0.6124</td>\n",
       "    </tr>\n",
       "    <tr>\n",
       "      <th>43</th>\n",
       "      <td>AA,AAA,Health,Electronics,Health &amp; Household,C...</td>\n",
       "      <td>AmazonBasics AAA Performance Alkaline Batterie...</td>\n",
       "      <td>Electronics</td>\n",
       "      <td>2017-06-28T00:00:00.000Z</td>\n",
       "      <td>NaN</td>\n",
       "      <td>NaN</td>\n",
       "      <td>1.0</td>\n",
       "      <td>First time I bought these they worked well and...</td>\n",
       "      <td>1st purchase was good, this time they are junk!</td>\n",
       "      <td>ByAlaska Moutian Man</td>\n",
       "      <td>{'neg': 0.056, 'neu': 0.882, 'pos': 0.062, 'co...</td>\n",
       "      <td>{'neg': 0.0, 'neu': 0.715, 'pos': 0.285, 'comp...</td>\n",
       "      <td>0.0498</td>\n",
       "      <td>0.4926</td>\n",
       "      <td>{'neg': 0.042, 'neu': 0.841, 'pos': 0.117, 'co...</td>\n",
       "      <td>0.5244</td>\n",
       "    </tr>\n",
       "    <tr>\n",
       "      <th>45</th>\n",
       "      <td>AA,AAA,Health,Electronics,Health &amp; Household,C...</td>\n",
       "      <td>AmazonBasics AAA Performance Alkaline Batterie...</td>\n",
       "      <td>Electronics</td>\n",
       "      <td>2016-11-23T00:00:00.000Z</td>\n",
       "      <td>NaN</td>\n",
       "      <td>NaN</td>\n",
       "      <td>1.0</td>\n",
       "      <td>These batteries don't last even in a simple di...</td>\n",
       "      <td>2 weeks at best.</td>\n",
       "      <td>ByMark A. Hougham</td>\n",
       "      <td>{'neg': 0.0, 'neu': 0.724, 'pos': 0.276, 'comp...</td>\n",
       "      <td>{'neg': 0.0, 'neu': 0.323, 'pos': 0.677, 'comp...</td>\n",
       "      <td>0.6369</td>\n",
       "      <td>0.6369</td>\n",
       "      <td>{'neg': 0.0, 'neu': 0.724, 'pos': 0.276, 'comp...</td>\n",
       "      <td>0.6369</td>\n",
       "    </tr>\n",
       "    <tr>\n",
       "      <th>...</th>\n",
       "      <td>...</td>\n",
       "      <td>...</td>\n",
       "      <td>...</td>\n",
       "      <td>...</td>\n",
       "      <td>...</td>\n",
       "      <td>...</td>\n",
       "      <td>...</td>\n",
       "      <td>...</td>\n",
       "      <td>...</td>\n",
       "      <td>...</td>\n",
       "      <td>...</td>\n",
       "      <td>...</td>\n",
       "      <td>...</td>\n",
       "      <td>...</td>\n",
       "      <td>...</td>\n",
       "      <td>...</td>\n",
       "    </tr>\n",
       "    <tr>\n",
       "      <th>67967</th>\n",
       "      <td>Computers/Tablets &amp; Networking,Tablet &amp; eBook ...</td>\n",
       "      <td>NaN</td>\n",
       "      <td>Electronics</td>\n",
       "      <td>2012-10-16T00:00:00Z</td>\n",
       "      <td>NaN</td>\n",
       "      <td>NaN</td>\n",
       "      <td>1.0</td>\n",
       "      <td>This is exactly like any other usb power charg...</td>\n",
       "      <td>Not Necessary</td>\n",
       "      <td>mir_</td>\n",
       "      <td>{'neg': 0.08, 'neu': 0.836, 'pos': 0.084, 'com...</td>\n",
       "      <td>{'neg': 0.0, 'neu': 1.0, 'pos': 0.0, 'compound...</td>\n",
       "      <td>0.0258</td>\n",
       "      <td>0.0000</td>\n",
       "      <td>{'neg': 0.075, 'neu': 0.846, 'pos': 0.078, 'co...</td>\n",
       "      <td>0.0258</td>\n",
       "    </tr>\n",
       "    <tr>\n",
       "      <th>67969</th>\n",
       "      <td>Computers/Tablets &amp; Networking,Tablet &amp; eBook ...</td>\n",
       "      <td>NaN</td>\n",
       "      <td>Electronics</td>\n",
       "      <td>2012-11-21T00:00:00Z</td>\n",
       "      <td>NaN</td>\n",
       "      <td>NaN</td>\n",
       "      <td>1.0</td>\n",
       "      <td>Amazon should include this charger with the Ki...</td>\n",
       "      <td>Should be included</td>\n",
       "      <td>Jonathan Stewart</td>\n",
       "      <td>{'neg': 0.0, 'neu': 0.893, 'pos': 0.107, 'comp...</td>\n",
       "      <td>{'neg': 0.0, 'neu': 1.0, 'pos': 0.0, 'compound...</td>\n",
       "      <td>0.5994</td>\n",
       "      <td>0.0000</td>\n",
       "      <td>{'neg': 0.0, 'neu': 0.9, 'pos': 0.1, 'compound...</td>\n",
       "      <td>0.5994</td>\n",
       "    </tr>\n",
       "    <tr>\n",
       "      <th>67970</th>\n",
       "      <td>Computers/Tablets &amp; Networking,Tablet &amp; eBook ...</td>\n",
       "      <td>NaN</td>\n",
       "      <td>Electronics</td>\n",
       "      <td>2012-10-19T00:00:00Z</td>\n",
       "      <td>NaN</td>\n",
       "      <td>NaN</td>\n",
       "      <td>1.0</td>\n",
       "      <td>Love my Kindle Fire but I am really disappoint...</td>\n",
       "      <td>Disappointing Charger</td>\n",
       "      <td>J Lawson</td>\n",
       "      <td>{'neg': 0.095, 'neu': 0.798, 'pos': 0.108, 'co...</td>\n",
       "      <td>{'neg': 0.762, 'neu': 0.238, 'pos': 0.0, 'comp...</td>\n",
       "      <td>-0.0360</td>\n",
       "      <td>-0.4939</td>\n",
       "      <td>{'neg': 0.15, 'neu': 0.78, 'pos': 0.07, 'compo...</td>\n",
       "      <td>-0.7677</td>\n",
       "    </tr>\n",
       "    <tr>\n",
       "      <th>67971</th>\n",
       "      <td>Computers/Tablets &amp; Networking,Tablet &amp; eBook ...</td>\n",
       "      <td>NaN</td>\n",
       "      <td>Electronics</td>\n",
       "      <td>2012-10-31T00:00:00Z</td>\n",
       "      <td>NaN</td>\n",
       "      <td>NaN</td>\n",
       "      <td>1.0</td>\n",
       "      <td>I was surprised to find it did not come with a...</td>\n",
       "      <td>Not worth the money</td>\n",
       "      <td>Just the Buyer</td>\n",
       "      <td>{'neg': 0.051, 'neu': 0.871, 'pos': 0.078, 'co...</td>\n",
       "      <td>{'neg': 0.357, 'neu': 0.643, 'pos': 0.0, 'comp...</td>\n",
       "      <td>0.0690</td>\n",
       "      <td>-0.1695</td>\n",
       "      <td>{'neg': 0.079, 'neu': 0.85, 'pos': 0.071, 'com...</td>\n",
       "      <td>-0.1022</td>\n",
       "    </tr>\n",
       "    <tr>\n",
       "      <th>67972</th>\n",
       "      <td>Computers/Tablets &amp; Networking,Tablet &amp; eBook ...</td>\n",
       "      <td>NaN</td>\n",
       "      <td>Electronics</td>\n",
       "      <td>2012-12-23T00:00:00Z</td>\n",
       "      <td>NaN</td>\n",
       "      <td>NaN</td>\n",
       "      <td>1.0</td>\n",
       "      <td>to spite the fact that i have nothing but good...</td>\n",
       "      <td>as with everyone else</td>\n",
       "      <td>sandi</td>\n",
       "      <td>{'neg': 0.13, 'neu': 0.702, 'pos': 0.168, 'com...</td>\n",
       "      <td>{'neg': 0.0, 'neu': 1.0, 'pos': 0.0, 'compound...</td>\n",
       "      <td>0.7235</td>\n",
       "      <td>0.0000</td>\n",
       "      <td>{'neg': 0.125, 'neu': 0.713, 'pos': 0.162, 'co...</td>\n",
       "      <td>0.7235</td>\n",
       "    </tr>\n",
       "  </tbody>\n",
       "</table>\n",
       "<p>1438 rows × 16 columns</p>\n",
       "</div>"
      ],
      "text/plain": [
       "                                              categories  \\\n",
       "16     AA,AAA,Health,Electronics,Health & Household,C...   \n",
       "24     AA,AAA,Health,Electronics,Health & Household,C...   \n",
       "39     AA,AAA,Health,Electronics,Health & Household,C...   \n",
       "43     AA,AAA,Health,Electronics,Health & Household,C...   \n",
       "45     AA,AAA,Health,Electronics,Health & Household,C...   \n",
       "...                                                  ...   \n",
       "67967  Computers/Tablets & Networking,Tablet & eBook ...   \n",
       "67969  Computers/Tablets & Networking,Tablet & eBook ...   \n",
       "67970  Computers/Tablets & Networking,Tablet & eBook ...   \n",
       "67971  Computers/Tablets & Networking,Tablet & eBook ...   \n",
       "67972  Computers/Tablets & Networking,Tablet & eBook ...   \n",
       "\n",
       "                                                    name primaryCategories  \\\n",
       "16     AmazonBasics AAA Performance Alkaline Batterie...       Electronics   \n",
       "24     AmazonBasics AAA Performance Alkaline Batterie...       Electronics   \n",
       "39     AmazonBasics AAA Performance Alkaline Batterie...       Electronics   \n",
       "43     AmazonBasics AAA Performance Alkaline Batterie...       Electronics   \n",
       "45     AmazonBasics AAA Performance Alkaline Batterie...       Electronics   \n",
       "...                                                  ...               ...   \n",
       "67967                                                NaN       Electronics   \n",
       "67969                                                NaN       Electronics   \n",
       "67970                                                NaN       Electronics   \n",
       "67971                                                NaN       Electronics   \n",
       "67972                                                NaN       Electronics   \n",
       "\n",
       "                   reviews.date reviews.doRecommend  reviews.numHelpful  \\\n",
       "16     2017-03-07T00:00:00.000Z                 NaN                 NaN   \n",
       "24     2016-05-21T00:00:00.000Z                 NaN                 NaN   \n",
       "39     2017-01-15T00:00:00.000Z                 NaN                 NaN   \n",
       "43     2017-06-28T00:00:00.000Z                 NaN                 NaN   \n",
       "45     2016-11-23T00:00:00.000Z                 NaN                 NaN   \n",
       "...                         ...                 ...                 ...   \n",
       "67967      2012-10-16T00:00:00Z                 NaN                 NaN   \n",
       "67969      2012-11-21T00:00:00Z                 NaN                 NaN   \n",
       "67970      2012-10-19T00:00:00Z                 NaN                 NaN   \n",
       "67971      2012-10-31T00:00:00Z                 NaN                 NaN   \n",
       "67972      2012-12-23T00:00:00Z                 NaN                 NaN   \n",
       "\n",
       "       reviews.rating                                       reviews.text  \\\n",
       "16                1.0  I don't know if I would buy thus brand again s...   \n",
       "24                1.0  These do not last long at all very cheap batte...   \n",
       "39                1.0  These batteries are horrible. We depend on AA ...   \n",
       "43                1.0  First time I bought these they worked well and...   \n",
       "45                1.0  These batteries don't last even in a simple di...   \n",
       "...               ...                                                ...   \n",
       "67967             1.0  This is exactly like any other usb power charg...   \n",
       "67969             1.0  Amazon should include this charger with the Ki...   \n",
       "67970             1.0  Love my Kindle Fire but I am really disappoint...   \n",
       "67971             1.0  I was surprised to find it did not come with a...   \n",
       "67972             1.0  to spite the fact that i have nothing but good...   \n",
       "\n",
       "                                           reviews.title  \\\n",
       "16     ... know if I would buy thus brand again seems...   \n",
       "24     ... not last long at all very cheap batteries ...   \n",
       "39                                1/4 Capacity Batteries   \n",
       "43       1st purchase was good, this time they are junk!   \n",
       "45                                      2 weeks at best.   \n",
       "...                                                  ...   \n",
       "67967                                      Not Necessary   \n",
       "67969                                 Should be included   \n",
       "67970                              Disappointing Charger   \n",
       "67971                                Not worth the money   \n",
       "67972                              as with everyone else   \n",
       "\n",
       "           reviews.username  \\\n",
       "16                  ByLaura   \n",
       "24             ByDiane ault   \n",
       "39                  ByKeith   \n",
       "43     ByAlaska Moutian Man   \n",
       "45        ByMark A. Hougham   \n",
       "...                     ...   \n",
       "67967                  mir_   \n",
       "67969      Jonathan Stewart   \n",
       "67970              J Lawson   \n",
       "67971        Just the Buyer   \n",
       "67972                 sandi   \n",
       "\n",
       "                                             text.scores  \\\n",
       "16     {'neg': 0.0, 'neu': 0.865, 'pos': 0.135, 'comp...   \n",
       "24     {'neg': 0.152, 'neu': 0.619, 'pos': 0.229, 'co...   \n",
       "39     {'neg': 0.089, 'neu': 0.885, 'pos': 0.026, 'co...   \n",
       "43     {'neg': 0.056, 'neu': 0.882, 'pos': 0.062, 'co...   \n",
       "45     {'neg': 0.0, 'neu': 0.724, 'pos': 0.276, 'comp...   \n",
       "...                                                  ...   \n",
       "67967  {'neg': 0.08, 'neu': 0.836, 'pos': 0.084, 'com...   \n",
       "67969  {'neg': 0.0, 'neu': 0.893, 'pos': 0.107, 'comp...   \n",
       "67970  {'neg': 0.095, 'neu': 0.798, 'pos': 0.108, 'co...   \n",
       "67971  {'neg': 0.051, 'neu': 0.871, 'pos': 0.078, 'co...   \n",
       "67972  {'neg': 0.13, 'neu': 0.702, 'pos': 0.168, 'com...   \n",
       "\n",
       "                                            title.scores  text.compound  \\\n",
       "16     {'neg': 0.0, 'neu': 0.865, 'pos': 0.135, 'comp...         0.3612   \n",
       "24     {'neg': 0.162, 'neu': 0.594, 'pos': 0.244, 'co...         0.3041   \n",
       "39     {'neg': 0.0, 'neu': 1.0, 'pos': 0.0, 'compound...        -0.6124   \n",
       "43     {'neg': 0.0, 'neu': 0.715, 'pos': 0.285, 'comp...         0.0498   \n",
       "45     {'neg': 0.0, 'neu': 0.323, 'pos': 0.677, 'comp...         0.6369   \n",
       "...                                                  ...            ...   \n",
       "67967  {'neg': 0.0, 'neu': 1.0, 'pos': 0.0, 'compound...         0.0258   \n",
       "67969  {'neg': 0.0, 'neu': 1.0, 'pos': 0.0, 'compound...         0.5994   \n",
       "67970  {'neg': 0.762, 'neu': 0.238, 'pos': 0.0, 'comp...        -0.0360   \n",
       "67971  {'neg': 0.357, 'neu': 0.643, 'pos': 0.0, 'comp...         0.0690   \n",
       "67972  {'neg': 0.0, 'neu': 1.0, 'pos': 0.0, 'compound...         0.7235   \n",
       "\n",
       "       title.compound                                   texttitle.scores  \\\n",
       "16             0.3612  {'neg': 0.0, 'neu': 0.865, 'pos': 0.135, 'comp...   \n",
       "24             0.3041  {'neg': 0.152, 'neu': 0.619, 'pos': 0.229, 'co...   \n",
       "39             0.0000  {'neg': 0.085, 'neu': 0.89, 'pos': 0.025, 'com...   \n",
       "43             0.4926  {'neg': 0.042, 'neu': 0.841, 'pos': 0.117, 'co...   \n",
       "45             0.6369  {'neg': 0.0, 'neu': 0.724, 'pos': 0.276, 'comp...   \n",
       "...               ...                                                ...   \n",
       "67967          0.0000  {'neg': 0.075, 'neu': 0.846, 'pos': 0.078, 'co...   \n",
       "67969          0.0000  {'neg': 0.0, 'neu': 0.9, 'pos': 0.1, 'compound...   \n",
       "67970         -0.4939  {'neg': 0.15, 'neu': 0.78, 'pos': 0.07, 'compo...   \n",
       "67971         -0.1695  {'neg': 0.079, 'neu': 0.85, 'pos': 0.071, 'com...   \n",
       "67972          0.0000  {'neg': 0.125, 'neu': 0.713, 'pos': 0.162, 'co...   \n",
       "\n",
       "       texttitle.compound  \n",
       "16                 0.3612  \n",
       "24                 0.3041  \n",
       "39                -0.6124  \n",
       "43                 0.5244  \n",
       "45                 0.6369  \n",
       "...                   ...  \n",
       "67967              0.0258  \n",
       "67969              0.5994  \n",
       "67970             -0.7677  \n",
       "67971             -0.1022  \n",
       "67972              0.7235  \n",
       "\n",
       "[1438 rows x 16 columns]"
      ]
     },
     "execution_count": 76,
     "metadata": {},
     "output_type": "execute_result"
    }
   ],
   "source": [
    "df_new2[(df_new2['reviews.rating']==1)]#[df_new2['compound'] == df_new2['compound'].max()]"
   ]
  },
  {
   "cell_type": "code",
   "execution_count": 86,
   "metadata": {
    "scrolled": true
   },
   "outputs": [],
   "source": [
    "df_9 =df_new2[(df_new2['reviews.rating']==5) & (df_new2['texttitle.compound'] >-1) & (df_new2['texttitle.compound'] <=-.5)].sort_values(by = 'texttitle.compound')"
   ]
  },
  {
   "cell_type": "code",
   "execution_count": 87,
   "metadata": {},
   "outputs": [],
   "source": [
    "df_9.to_csv('5 - (-1) - (-0.5).csv')"
   ]
  },
  {
   "cell_type": "code",
   "execution_count": 90,
   "metadata": {
    "scrolled": true
   },
   "outputs": [
    {
     "data": {
      "text/plain": [
       "26"
      ]
     },
     "execution_count": 90,
     "metadata": {},
     "output_type": "execute_result"
    }
   ],
   "source": [
    "len(df_new2.iloc[[41385,51317,38348,59179,62179,55913,46175,42481,19296,38361,56658,41385,38872,6692,11364,67102,53630,\n",
    "                  16798,\n",
    "                  32937,\n",
    "                  48188,\n",
    "19023,\n",
    "21656,\n",
    "11363,\n",
    "42604,\n",
    "13347,\n",
    "54533\n",
    "]]['reviews.text'])"
   ]
  },
  {
   "cell_type": "code",
   "execution_count": 94,
   "metadata": {},
   "outputs": [
    {
     "name": "stdout",
     "output_type": "stream",
     "text": [
      "41385    Great easy to use great pictures great price. ...\n",
      "51317    Our daughter loves the size and portability of...\n",
      "38348    I love using it to read and surf the internet....\n",
      "59179    I love how easy it is to use and setup the Ech...\n",
      "62179    Liked it a lot,, Liked it a lot, liked it a lo...\n",
      "55913    We love it (that's me & my wife) . My son & da...\n",
      "46175    Works great for my 6 year old grandson! he lov...\n",
      "42481    Love the ease of using them for our grandsons ...\n",
      "19296    Its very cool great picture good sound. Was ki...\n",
      "38361    I totally love the Kindle Fire tablets purchas...\n",
      "56658    Great Servive Best Buy and the price match is ...\n",
      "41385    Great easy to use great pictures great price. ...\n",
      "38872    i have bought at least 6 people this kindle it...\n",
      "6692                             LOVE THE BATTERIES.THANKS\n",
      "11364                            LOVE THE BATTERIES.THANKS\n",
      "67102    Navigates easily. Many channels. Fast connecti...\n",
      "53630    Easy to use, load books and to read in out doo...\n",
      "16798    She uses it every day. She can't get enough of...\n",
      "32937    Gave it to my granddaughter and she loves it.....\n",
      "48188    Gave it to my granddaughter and she loves it.....\n",
      "19023    Gave it to my granddaughter and she loves it.....\n",
      "21656    Gave it to my granddaughter and she loves it.....\n",
      "11363                       Just what I needed - thank you\n",
      "42604    Onsale is 39.99 is cheap , good for new stars ...\n",
      "13347    very good produ ct and service will defintely ...\n",
      "54533    very good produ ct and service will defintely ...\n",
      "Name: reviews.text, dtype: object\n"
     ]
    }
   ],
   "source": [
    "print(df_new2.iloc[[41385,51317,\n",
    "38348,\n",
    "59179,\n",
    "62179,\n",
    "55913,\n",
    "46175,\n",
    "42481,\n",
    "19296,\n",
    "38361,\n",
    "56658,\n",
    "41385,\n",
    "38872,\n",
    "6692,\n",
    "11364,\n",
    "67102,\n",
    "53630,\n",
    "16798,\n",
    "32937,\n",
    "48188,\n",
    "19023,\n",
    "21656,\n",
    "11363,\n",
    "42604,\n",
    "13347,\n",
    "54533\n",
    "]]['reviews.text'])"
   ]
  },
  {
   "cell_type": "code",
   "execution_count": 93,
   "metadata": {},
   "outputs": [
    {
     "data": {
      "text/plain": [
       "(1438, 16)"
      ]
     },
     "execution_count": 93,
     "metadata": {},
     "output_type": "execute_result"
    }
   ],
   "source": [
    "df_new2[df_new2['reviews.rating'] == 1].shape"
   ]
  },
  {
   "cell_type": "code",
   "execution_count": 178,
   "metadata": {},
   "outputs": [
    {
     "data": {
      "text/plain": [
       "'Great Servive Best Buy and the price match is great I used it both at best buy'"
      ]
     },
     "execution_count": 178,
     "metadata": {},
     "output_type": "execute_result"
    }
   ],
   "source": [
    "df_new2.iloc[56658]['reviews.text']"
   ]
  },
  {
   "cell_type": "code",
   "execution_count": 179,
   "metadata": {
    "collapsed": true
   },
   "outputs": [
    {
     "data": {
      "text/plain": [
       "'I totally love the Kindle Fire tablets purchased for my grandkids. My sister purchased one in our hometown for my mother. She is equally happy. My granddaughter and grandson spend their wind down time in the evening on the tablets playing their favorite games. In addition, they want a dog and conduct research for the type of dog that the would like. Overall, the tablets are easy to use and provides technology for them when they visit every other weekend. I am pleased.'"
      ]
     },
     "execution_count": 179,
     "metadata": {},
     "output_type": "execute_result"
    }
   ],
   "source": [
    "df_new2.iloc[38361]['reviews.text']"
   ]
  },
  {
   "cell_type": "code",
   "execution_count": null,
   "metadata": {},
   "outputs": [],
   "source": [
    "df_new2.iloc[38361]['reviews.text']"
   ]
  },
  {
   "cell_type": "code",
   "execution_count": 165,
   "metadata": {},
   "outputs": [
    {
     "name": "stdout",
     "output_type": "stream",
     "text": [
      "These batteries don't last even in a simple digital clock. 2 weeks at best. \n",
      "score: 0.6369\n"
     ]
    }
   ],
   "source": [
    "#some anomalies that exist where the review is bad but getting a positive compound\n",
    "print(df_new2.loc[45, 'reviews.text'], '\\nscore:',df_new2.loc[45, 'text.compound'])"
   ]
  },
  {
   "cell_type": "code",
   "execution_count": 166,
   "metadata": {},
   "outputs": [
    {
     "name": "stdout",
     "output_type": "stream",
     "text": [
      "2 weeks at best. \n",
      "score: 0.6369\n"
     ]
    }
   ],
   "source": [
    "print(df_new2.loc[45, 'reviews.title'],'\\nscore:', df_new2.loc[45, 'title.compound'])"
   ]
  },
  {
   "cell_type": "code",
   "execution_count": 173,
   "metadata": {
    "scrolled": true
   },
   "outputs": [
    {
     "data": {
      "text/html": [
       "<div>\n",
       "<style scoped>\n",
       "    .dataframe tbody tr th:only-of-type {\n",
       "        vertical-align: middle;\n",
       "    }\n",
       "\n",
       "    .dataframe tbody tr th {\n",
       "        vertical-align: top;\n",
       "    }\n",
       "\n",
       "    .dataframe thead th {\n",
       "        text-align: right;\n",
       "    }\n",
       "</style>\n",
       "<table border=\"1\" class=\"dataframe\">\n",
       "  <thead>\n",
       "    <tr style=\"text-align: right;\">\n",
       "      <th></th>\n",
       "      <th>categories</th>\n",
       "      <th>name</th>\n",
       "      <th>primaryCategories</th>\n",
       "      <th>reviews.date</th>\n",
       "      <th>reviews.doRecommend</th>\n",
       "      <th>reviews.numHelpful</th>\n",
       "      <th>reviews.rating</th>\n",
       "      <th>reviews.text</th>\n",
       "      <th>reviews.title</th>\n",
       "      <th>reviews.username</th>\n",
       "      <th>text.scores</th>\n",
       "      <th>title.scores</th>\n",
       "      <th>text.compound</th>\n",
       "      <th>title.compound</th>\n",
       "      <th>texttitle.scores</th>\n",
       "      <th>texttitle.compound</th>\n",
       "    </tr>\n",
       "  </thead>\n",
       "  <tbody>\n",
       "    <tr>\n",
       "      <th>39474</th>\n",
       "      <td>Fire Tablets,Tablets,Computers &amp; Tablets,All T...</td>\n",
       "      <td>Fire Tablet, 7 Display, Wi-Fi, 8 GB - Includes...</td>\n",
       "      <td>Electronics</td>\n",
       "      <td>2016-05-20T00:00:00.000Z</td>\n",
       "      <td>True</td>\n",
       "      <td>1.0</td>\n",
       "      <td>5.0</td>\n",
       "      <td>This is the little tablet that could!!!The pri...</td>\n",
       "      <td>A steal !!!</td>\n",
       "      <td>Allenavx</td>\n",
       "      <td>{'neg': 0.259, 'neu': 0.683, 'pos': 0.058, 'co...</td>\n",
       "      <td>{'neg': 0.803, 'neu': 0.197, 'pos': 0.0, 'comp...</td>\n",
       "      <td>-0.8251</td>\n",
       "      <td>-0.6219</td>\n",
       "      <td>{'neg': 0.336, 'neu': 0.664, 'pos': 0.0, 'comp...</td>\n",
       "      <td>-0.9344</td>\n",
       "    </tr>\n",
       "    <tr>\n",
       "      <th>63585</th>\n",
       "      <td>Back To College,College Electronics,College Tv...</td>\n",
       "      <td>NaN</td>\n",
       "      <td>Electronics</td>\n",
       "      <td>2016-08-14T00:00:00.000Z</td>\n",
       "      <td>True</td>\n",
       "      <td>1.0</td>\n",
       "      <td>5.0</td>\n",
       "      <td>I thought the Firestick was the way to go but ...</td>\n",
       "      <td>Fast for the quick draw!!</td>\n",
       "      <td>IVIStax</td>\n",
       "      <td>{'neg': 0.275, 'neu': 0.725, 'pos': 0.0, 'comp...</td>\n",
       "      <td>{'neg': 0.0, 'neu': 1.0, 'pos': 0.0, 'compound...</td>\n",
       "      <td>-0.9249</td>\n",
       "      <td>0.0000</td>\n",
       "      <td>{'neg': 0.256, 'neu': 0.744, 'pos': 0.0, 'comp...</td>\n",
       "      <td>-0.9249</td>\n",
       "    </tr>\n",
       "    <tr>\n",
       "      <th>44334</th>\n",
       "      <td>Fire Tablets,Tablets,Computers &amp; Tablets,All T...</td>\n",
       "      <td>Fire Tablet, 7 Display, Wi-Fi, 8 GB - Includes...</td>\n",
       "      <td>Electronics</td>\n",
       "      <td>2016-01-20T00:00:00.000Z</td>\n",
       "      <td>True</td>\n",
       "      <td>1.0</td>\n",
       "      <td>5.0</td>\n",
       "      <td>I got this on Black Friday weekend for $35. It...</td>\n",
       "      <td>Most bang for the buck</td>\n",
       "      <td>Bill</td>\n",
       "      <td>{'neg': 0.23, 'neu': 0.693, 'pos': 0.076, 'com...</td>\n",
       "      <td>{'neg': 0.0, 'neu': 1.0, 'pos': 0.0, 'compound...</td>\n",
       "      <td>-0.9201</td>\n",
       "      <td>0.0000</td>\n",
       "      <td>{'neg': 0.22, 'neu': 0.707, 'pos': 0.073, 'com...</td>\n",
       "      <td>-0.9201</td>\n",
       "    </tr>\n",
       "    <tr>\n",
       "      <th>65011</th>\n",
       "      <td>Back To College,College Electronics,College Tv...</td>\n",
       "      <td>NaN</td>\n",
       "      <td>Electronics</td>\n",
       "      <td>2017-07-24T00:00:00.000Z</td>\n",
       "      <td>True</td>\n",
       "      <td>0.0</td>\n",
       "      <td>5.0</td>\n",
       "      <td>I found the Amazon Fire TV responds faster tha...</td>\n",
       "      <td>Works like it should</td>\n",
       "      <td>Bewster</td>\n",
       "      <td>{'neg': 0.203, 'neu': 0.696, 'pos': 0.101, 'co...</td>\n",
       "      <td>{'neg': 0.0, 'neu': 0.545, 'pos': 0.455, 'comp...</td>\n",
       "      <td>-0.8900</td>\n",
       "      <td>0.3612</td>\n",
       "      <td>{'neg': 0.216, 'neu': 0.687, 'pos': 0.096, 'co...</td>\n",
       "      <td>-0.9130</td>\n",
       "    </tr>\n",
       "    <tr>\n",
       "      <th>66654</th>\n",
       "      <td>Back To College,College Electronics,College Tv...</td>\n",
       "      <td>NaN</td>\n",
       "      <td>Electronics</td>\n",
       "      <td>2016-11-07T00:00:00.000Z</td>\n",
       "      <td>True</td>\n",
       "      <td>0.0</td>\n",
       "      <td>5.0</td>\n",
       "      <td>Ever since I had my fire TV jail broken and pr...</td>\n",
       "      <td>Loving my Fire TV</td>\n",
       "      <td>Jwashington2278</td>\n",
       "      <td>{'neg': 0.299, 'neu': 0.701, 'pos': 0.0, 'comp...</td>\n",
       "      <td>{'neg': 0.289, 'neu': 0.241, 'pos': 0.47, 'com...</td>\n",
       "      <td>-0.8770</td>\n",
       "      <td>0.3612</td>\n",
       "      <td>{'neg': 0.325, 'neu': 0.675, 'pos': 0.0, 'comp...</td>\n",
       "      <td>-0.9094</td>\n",
       "    </tr>\n",
       "    <tr>\n",
       "      <th>...</th>\n",
       "      <td>...</td>\n",
       "      <td>...</td>\n",
       "      <td>...</td>\n",
       "      <td>...</td>\n",
       "      <td>...</td>\n",
       "      <td>...</td>\n",
       "      <td>...</td>\n",
       "      <td>...</td>\n",
       "      <td>...</td>\n",
       "      <td>...</td>\n",
       "      <td>...</td>\n",
       "      <td>...</td>\n",
       "      <td>...</td>\n",
       "      <td>...</td>\n",
       "      <td>...</td>\n",
       "      <td>...</td>\n",
       "    </tr>\n",
       "    <tr>\n",
       "      <th>33096</th>\n",
       "      <td>Kindle E-readers,Electronics Features,Computer...</td>\n",
       "      <td>Kindle Oasis E-reader with Leather Charging Co...</td>\n",
       "      <td>Electronics</td>\n",
       "      <td>2016-04-28T00:00:00.000Z</td>\n",
       "      <td>True</td>\n",
       "      <td>49.0</td>\n",
       "      <td>5.0</td>\n",
       "      <td>Despite not being able to get one of these fro...</td>\n",
       "      <td>Remarkably Small and Lightweight</td>\n",
       "      <td>Sluggo2013</td>\n",
       "      <td>{'neg': 0.03, 'neu': 0.811, 'pos': 0.16, 'comp...</td>\n",
       "      <td>{'neg': 0.0, 'neu': 1.0, 'pos': 0.0, 'compound...</td>\n",
       "      <td>0.9983</td>\n",
       "      <td>0.0000</td>\n",
       "      <td>{'neg': 0.029, 'neu': 0.812, 'pos': 0.159, 'co...</td>\n",
       "      <td>0.9983</td>\n",
       "    </tr>\n",
       "    <tr>\n",
       "      <th>22764</th>\n",
       "      <td>E-Readers &amp; Accessories,EBook Readers,Amazon B...</td>\n",
       "      <td>Kindle Oasis E-reader with Leather Charging Co...</td>\n",
       "      <td>Electronics</td>\n",
       "      <td>2016-04-28T00:00:00.000Z</td>\n",
       "      <td>True</td>\n",
       "      <td>35.0</td>\n",
       "      <td>5.0</td>\n",
       "      <td>Despite not being able to get one of these fro...</td>\n",
       "      <td>Remarkably Small and Lightweight</td>\n",
       "      <td>Sluggo2013</td>\n",
       "      <td>{'neg': 0.03, 'neu': 0.811, 'pos': 0.16, 'comp...</td>\n",
       "      <td>{'neg': 0.0, 'neu': 1.0, 'pos': 0.0, 'compound...</td>\n",
       "      <td>0.9983</td>\n",
       "      <td>0.0000</td>\n",
       "      <td>{'neg': 0.029, 'neu': 0.812, 'pos': 0.159, 'co...</td>\n",
       "      <td>0.9983</td>\n",
       "    </tr>\n",
       "    <tr>\n",
       "      <th>62253</th>\n",
       "      <td>Featured Brands,Electronics,Amazon Devices,Hom...</td>\n",
       "      <td>NaN</td>\n",
       "      <td>Electronics</td>\n",
       "      <td>2016-09-10T00:00:00.000Z</td>\n",
       "      <td>True</td>\n",
       "      <td>1.0</td>\n",
       "      <td>5.0</td>\n",
       "      <td>As a bluetooth speaker, the Tap rocks! The sou...</td>\n",
       "      <td>Fun and Useful with Great Sound</td>\n",
       "      <td>Happytekki</td>\n",
       "      <td>{'neg': 0.031, 'neu': 0.747, 'pos': 0.221, 'co...</td>\n",
       "      <td>{'neg': 0.0, 'neu': 0.226, 'pos': 0.774, 'comp...</td>\n",
       "      <td>0.9988</td>\n",
       "      <td>0.8834</td>\n",
       "      <td>{'neg': 0.031, 'neu': 0.742, 'pos': 0.228, 'co...</td>\n",
       "      <td>0.9990</td>\n",
       "    </tr>\n",
       "    <tr>\n",
       "      <th>12378</th>\n",
       "      <td>Amazon Echo,Home Theater &amp; Audio,MP3 MP4 Playe...</td>\n",
       "      <td>Amazon Tap Smart Assistant Alexaenabled (black...</td>\n",
       "      <td>Electronics</td>\n",
       "      <td>2016-09-10T00:00:00.000Z</td>\n",
       "      <td>True</td>\n",
       "      <td>1.0</td>\n",
       "      <td>5.0</td>\n",
       "      <td>As a bluetooth speaker, the Tap rocks! The sou...</td>\n",
       "      <td>Fun and Useful with Great Sound</td>\n",
       "      <td>Happytekki</td>\n",
       "      <td>{'neg': 0.031, 'neu': 0.747, 'pos': 0.221, 'co...</td>\n",
       "      <td>{'neg': 0.0, 'neu': 0.226, 'pos': 0.774, 'comp...</td>\n",
       "      <td>0.9988</td>\n",
       "      <td>0.8834</td>\n",
       "      <td>{'neg': 0.031, 'neu': 0.742, 'pos': 0.228, 'co...</td>\n",
       "      <td>0.9990</td>\n",
       "    </tr>\n",
       "    <tr>\n",
       "      <th>54548</th>\n",
       "      <td>mazon.co.uk,Amazon Devices</td>\n",
       "      <td>Fire Tablet, 7 Display, Wi-Fi, 8 GB - Includes...</td>\n",
       "      <td>Electronics</td>\n",
       "      <td>NaN</td>\n",
       "      <td>NaN</td>\n",
       "      <td>NaN</td>\n",
       "      <td>5.0</td>\n",
       "      <td>This is a review of the Kindle Paperwhite laun...</td>\n",
       "      <td>Superb reading device - but which one's best f...</td>\n",
       "      <td>John Kat's the brains</td>\n",
       "      <td>{'neg': 0.043, 'neu': 0.798, 'pos': 0.159, 'co...</td>\n",
       "      <td>{'neg': 0.0, 'neu': 0.456, 'pos': 0.544, 'comp...</td>\n",
       "      <td>0.9997</td>\n",
       "      <td>0.8537</td>\n",
       "      <td>{'neg': 0.043, 'neu': 0.797, 'pos': 0.16, 'com...</td>\n",
       "      <td>0.9997</td>\n",
       "    </tr>\n",
       "  </tbody>\n",
       "</table>\n",
       "<p>47131 rows × 16 columns</p>\n",
       "</div>"
      ],
      "text/plain": [
       "                                              categories  \\\n",
       "39474  Fire Tablets,Tablets,Computers & Tablets,All T...   \n",
       "63585  Back To College,College Electronics,College Tv...   \n",
       "44334  Fire Tablets,Tablets,Computers & Tablets,All T...   \n",
       "65011  Back To College,College Electronics,College Tv...   \n",
       "66654  Back To College,College Electronics,College Tv...   \n",
       "...                                                  ...   \n",
       "33096  Kindle E-readers,Electronics Features,Computer...   \n",
       "22764  E-Readers & Accessories,EBook Readers,Amazon B...   \n",
       "62253  Featured Brands,Electronics,Amazon Devices,Hom...   \n",
       "12378  Amazon Echo,Home Theater & Audio,MP3 MP4 Playe...   \n",
       "54548                         mazon.co.uk,Amazon Devices   \n",
       "\n",
       "                                                    name primaryCategories  \\\n",
       "39474  Fire Tablet, 7 Display, Wi-Fi, 8 GB - Includes...       Electronics   \n",
       "63585                                                NaN       Electronics   \n",
       "44334  Fire Tablet, 7 Display, Wi-Fi, 8 GB - Includes...       Electronics   \n",
       "65011                                                NaN       Electronics   \n",
       "66654                                                NaN       Electronics   \n",
       "...                                                  ...               ...   \n",
       "33096  Kindle Oasis E-reader with Leather Charging Co...       Electronics   \n",
       "22764  Kindle Oasis E-reader with Leather Charging Co...       Electronics   \n",
       "62253                                                NaN       Electronics   \n",
       "12378  Amazon Tap Smart Assistant Alexaenabled (black...       Electronics   \n",
       "54548  Fire Tablet, 7 Display, Wi-Fi, 8 GB - Includes...       Electronics   \n",
       "\n",
       "                   reviews.date reviews.doRecommend  reviews.numHelpful  \\\n",
       "39474  2016-05-20T00:00:00.000Z                True                 1.0   \n",
       "63585  2016-08-14T00:00:00.000Z                True                 1.0   \n",
       "44334  2016-01-20T00:00:00.000Z                True                 1.0   \n",
       "65011  2017-07-24T00:00:00.000Z                True                 0.0   \n",
       "66654  2016-11-07T00:00:00.000Z                True                 0.0   \n",
       "...                         ...                 ...                 ...   \n",
       "33096  2016-04-28T00:00:00.000Z                True                49.0   \n",
       "22764  2016-04-28T00:00:00.000Z                True                35.0   \n",
       "62253  2016-09-10T00:00:00.000Z                True                 1.0   \n",
       "12378  2016-09-10T00:00:00.000Z                True                 1.0   \n",
       "54548                       NaN                 NaN                 NaN   \n",
       "\n",
       "       reviews.rating                                       reviews.text  \\\n",
       "39474             5.0  This is the little tablet that could!!!The pri...   \n",
       "63585             5.0  I thought the Firestick was the way to go but ...   \n",
       "44334             5.0  I got this on Black Friday weekend for $35. It...   \n",
       "65011             5.0  I found the Amazon Fire TV responds faster tha...   \n",
       "66654             5.0  Ever since I had my fire TV jail broken and pr...   \n",
       "...               ...                                                ...   \n",
       "33096             5.0  Despite not being able to get one of these fro...   \n",
       "22764             5.0  Despite not being able to get one of these fro...   \n",
       "62253             5.0  As a bluetooth speaker, the Tap rocks! The sou...   \n",
       "12378             5.0  As a bluetooth speaker, the Tap rocks! The sou...   \n",
       "54548             5.0  This is a review of the Kindle Paperwhite laun...   \n",
       "\n",
       "                                           reviews.title  \\\n",
       "39474                                        A steal !!!   \n",
       "63585                          Fast for the quick draw!!   \n",
       "44334                             Most bang for the buck   \n",
       "65011                               Works like it should   \n",
       "66654                                  Loving my Fire TV   \n",
       "...                                                  ...   \n",
       "33096                   Remarkably Small and Lightweight   \n",
       "22764                   Remarkably Small and Lightweight   \n",
       "62253                    Fun and Useful with Great Sound   \n",
       "12378                    Fun and Useful with Great Sound   \n",
       "54548  Superb reading device - but which one's best f...   \n",
       "\n",
       "            reviews.username  \\\n",
       "39474               Allenavx   \n",
       "63585                IVIStax   \n",
       "44334                   Bill   \n",
       "65011                Bewster   \n",
       "66654        Jwashington2278   \n",
       "...                      ...   \n",
       "33096             Sluggo2013   \n",
       "22764             Sluggo2013   \n",
       "62253             Happytekki   \n",
       "12378             Happytekki   \n",
       "54548  John Kat's the brains   \n",
       "\n",
       "                                             text.scores  \\\n",
       "39474  {'neg': 0.259, 'neu': 0.683, 'pos': 0.058, 'co...   \n",
       "63585  {'neg': 0.275, 'neu': 0.725, 'pos': 0.0, 'comp...   \n",
       "44334  {'neg': 0.23, 'neu': 0.693, 'pos': 0.076, 'com...   \n",
       "65011  {'neg': 0.203, 'neu': 0.696, 'pos': 0.101, 'co...   \n",
       "66654  {'neg': 0.299, 'neu': 0.701, 'pos': 0.0, 'comp...   \n",
       "...                                                  ...   \n",
       "33096  {'neg': 0.03, 'neu': 0.811, 'pos': 0.16, 'comp...   \n",
       "22764  {'neg': 0.03, 'neu': 0.811, 'pos': 0.16, 'comp...   \n",
       "62253  {'neg': 0.031, 'neu': 0.747, 'pos': 0.221, 'co...   \n",
       "12378  {'neg': 0.031, 'neu': 0.747, 'pos': 0.221, 'co...   \n",
       "54548  {'neg': 0.043, 'neu': 0.798, 'pos': 0.159, 'co...   \n",
       "\n",
       "                                            title.scores  text.compound  \\\n",
       "39474  {'neg': 0.803, 'neu': 0.197, 'pos': 0.0, 'comp...        -0.8251   \n",
       "63585  {'neg': 0.0, 'neu': 1.0, 'pos': 0.0, 'compound...        -0.9249   \n",
       "44334  {'neg': 0.0, 'neu': 1.0, 'pos': 0.0, 'compound...        -0.9201   \n",
       "65011  {'neg': 0.0, 'neu': 0.545, 'pos': 0.455, 'comp...        -0.8900   \n",
       "66654  {'neg': 0.289, 'neu': 0.241, 'pos': 0.47, 'com...        -0.8770   \n",
       "...                                                  ...            ...   \n",
       "33096  {'neg': 0.0, 'neu': 1.0, 'pos': 0.0, 'compound...         0.9983   \n",
       "22764  {'neg': 0.0, 'neu': 1.0, 'pos': 0.0, 'compound...         0.9983   \n",
       "62253  {'neg': 0.0, 'neu': 0.226, 'pos': 0.774, 'comp...         0.9988   \n",
       "12378  {'neg': 0.0, 'neu': 0.226, 'pos': 0.774, 'comp...         0.9988   \n",
       "54548  {'neg': 0.0, 'neu': 0.456, 'pos': 0.544, 'comp...         0.9997   \n",
       "\n",
       "       title.compound                                   texttitle.scores  \\\n",
       "39474         -0.6219  {'neg': 0.336, 'neu': 0.664, 'pos': 0.0, 'comp...   \n",
       "63585          0.0000  {'neg': 0.256, 'neu': 0.744, 'pos': 0.0, 'comp...   \n",
       "44334          0.0000  {'neg': 0.22, 'neu': 0.707, 'pos': 0.073, 'com...   \n",
       "65011          0.3612  {'neg': 0.216, 'neu': 0.687, 'pos': 0.096, 'co...   \n",
       "66654          0.3612  {'neg': 0.325, 'neu': 0.675, 'pos': 0.0, 'comp...   \n",
       "...               ...                                                ...   \n",
       "33096          0.0000  {'neg': 0.029, 'neu': 0.812, 'pos': 0.159, 'co...   \n",
       "22764          0.0000  {'neg': 0.029, 'neu': 0.812, 'pos': 0.159, 'co...   \n",
       "62253          0.8834  {'neg': 0.031, 'neu': 0.742, 'pos': 0.228, 'co...   \n",
       "12378          0.8834  {'neg': 0.031, 'neu': 0.742, 'pos': 0.228, 'co...   \n",
       "54548          0.8537  {'neg': 0.043, 'neu': 0.797, 'pos': 0.16, 'com...   \n",
       "\n",
       "       texttitle.compound  \n",
       "39474             -0.9344  \n",
       "63585             -0.9249  \n",
       "44334             -0.9201  \n",
       "65011             -0.9130  \n",
       "66654             -0.9094  \n",
       "...                   ...  \n",
       "33096              0.9983  \n",
       "22764              0.9983  \n",
       "62253              0.9990  \n",
       "12378              0.9990  \n",
       "54548              0.9997  \n",
       "\n",
       "[47131 rows x 16 columns]"
      ]
     },
     "execution_count": 173,
     "metadata": {},
     "output_type": "execute_result"
    }
   ],
   "source": [
    "df_new2[(df_new2['reviews.rating']==5)].sort_values(by = 'texttitle.compound')"
   ]
  },
  {
   "cell_type": "code",
   "execution_count": 168,
   "metadata": {},
   "outputs": [
    {
     "name": "stderr",
     "output_type": "stream",
     "text": [
      "[nltk_data] Downloading package stopwords to\n",
      "[nltk_data]     C:\\Users\\Navin\\AppData\\Roaming\\nltk_data...\n",
      "[nltk_data]   Package stopwords is already up-to-date!\n",
      "[nltk_data] Downloading package wordnet to\n",
      "[nltk_data]     C:\\Users\\Navin\\AppData\\Roaming\\nltk_data...\n",
      "[nltk_data]   Package wordnet is already up-to-date!\n"
     ]
    },
    {
     "data": {
      "text/plain": [
       "True"
      ]
     },
     "execution_count": 168,
     "metadata": {},
     "output_type": "execute_result"
    }
   ],
   "source": [
    "nltk.download('stopwords')\n",
    "nltk.download('wordnet')"
   ]
  },
  {
   "cell_type": "code",
   "execution_count": 169,
   "metadata": {},
   "outputs": [],
   "source": [
    "from nltk.stem import WordNetLemmatizer\n",
    "from nltk.tokenize import RegexpTokenizer\n",
    "from nltk.corpus import stopwords\n",
    "from sklearn.feature_extraction.text import TfidfVectorizer"
   ]
  },
  {
   "cell_type": "markdown",
   "metadata": {},
   "source": [
    "# Distribution of compound score for different ratings"
   ]
  },
  {
   "cell_type": "code",
   "execution_count": 123,
   "metadata": {},
   "outputs": [
    {
     "data": {
      "text/plain": [
       "(array([   75.,   266.,   380.,   623.,  3607.,   900.,  1937.,  5984.,\n",
       "        12648., 20711.]),\n",
       " array([-0.9344 , -0.74099, -0.54758, -0.35417, -0.16076,  0.03265,\n",
       "         0.22606,  0.41947,  0.61288,  0.80629,  0.9997 ]),\n",
       " <a list of 10 Patch objects>)"
      ]
     },
     "execution_count": 123,
     "metadata": {},
     "output_type": "execute_result"
    },
    {
     "data": {
      "image/png": "[encoded data removed]",
      "text/plain": [
       "<Figure size 432x288 with 1 Axes>"
      ]
     },
     "metadata": {
      "needs_background": "light"
     },
     "output_type": "display_data"
    }
   ],
   "source": [
    "plt.hist(df_new2[(df_new2['reviews.rating']==5)]['texttitle.compound'])"
   ]
  },
  {
   "cell_type": "code",
   "execution_count": 124,
   "metadata": {},
   "outputs": [
    {
     "data": {
      "text/plain": [
       "(array([   49.,   287.,   359.,   639.,  2801.,  1165.,  2205.,  6258.,\n",
       "        14100., 19268.]),\n",
       " array([-0.954  , -0.75863, -0.56326, -0.36789, -0.17252,  0.02285,\n",
       "         0.21822,  0.41359,  0.60896,  0.80433,  0.9997 ]),\n",
       " <a list of 10 Patch objects>)"
      ]
     },
     "execution_count": 124,
     "metadata": {},
     "output_type": "execute_result"
    },
    {
     "data": {
      "image/png": "[encoded data removed]",
      "text/plain": [
       "<Figure size 432x288 with 1 Axes>"
      ]
     },
     "metadata": {
      "needs_background": "light"
     },
     "output_type": "display_data"
    }
   ],
   "source": [
    "plt.hist(df_new2[(df_new2['reviews.rating']==5)]['text.compound'])"
   ]
  },
  {
   "cell_type": "code",
   "execution_count": 137,
   "metadata": {},
   "outputs": [
    {
     "ename": "KeyError",
     "evalue": "'text.compound'",
     "output_type": "error",
     "traceback": [
      "\u001b[1;31m---------------------------------------------------------------------------\u001b[0m",
      "\u001b[1;31mKeyError\u001b[0m                                  Traceback (most recent call last)",
      "\u001b[1;32mC:\\ProgramData\\Anaconda3\\lib\\site-packages\\pandas\\core\\indexes\\base.py\u001b[0m in \u001b[0;36mget_loc\u001b[1;34m(self, key, method, tolerance)\u001b[0m\n\u001b[0;32m   2645\u001b[0m             \u001b[1;32mtry\u001b[0m\u001b[1;33m:\u001b[0m\u001b[1;33m\u001b[0m\u001b[1;33m\u001b[0m\u001b[0m\n\u001b[1;32m-> 2646\u001b[1;33m                 \u001b[1;32mreturn\u001b[0m \u001b[0mself\u001b[0m\u001b[1;33m.\u001b[0m\u001b[0m_engine\u001b[0m\u001b[1;33m.\u001b[0m\u001b[0mget_loc\u001b[0m\u001b[1;33m(\u001b[0m\u001b[0mkey\u001b[0m\u001b[1;33m)\u001b[0m\u001b[1;33m\u001b[0m\u001b[1;33m\u001b[0m\u001b[0m\n\u001b[0m\u001b[0;32m   2647\u001b[0m             \u001b[1;32mexcept\u001b[0m \u001b[0mKeyError\u001b[0m\u001b[1;33m:\u001b[0m\u001b[1;33m\u001b[0m\u001b[1;33m\u001b[0m\u001b[0m\n",
      "\u001b[1;32mpandas\\_libs\\index.pyx\u001b[0m in \u001b[0;36mpandas._libs.index.IndexEngine.get_loc\u001b[1;34m()\u001b[0m\n",
      "\u001b[1;32mpandas\\_libs\\index.pyx\u001b[0m in \u001b[0;36mpandas._libs.index.IndexEngine.get_loc\u001b[1;34m()\u001b[0m\n",
      "\u001b[1;32mpandas\\_libs\\hashtable_class_helper.pxi\u001b[0m in \u001b[0;36mpandas._libs.hashtable.PyObjectHashTable.get_item\u001b[1;34m()\u001b[0m\n",
      "\u001b[1;32mpandas\\_libs\\hashtable_class_helper.pxi\u001b[0m in \u001b[0;36mpandas._libs.hashtable.PyObjectHashTable.get_item\u001b[1;34m()\u001b[0m\n",
      "\u001b[1;31mKeyError\u001b[0m: 'text.compound'",
      "\nDuring handling of the above exception, another exception occurred:\n",
      "\u001b[1;31mKeyError\u001b[0m                                  Traceback (most recent call last)",
      "\u001b[1;32m<ipython-input-137-faeb37b2e9c9>\u001b[0m in \u001b[0;36m<module>\u001b[1;34m\u001b[0m\n\u001b[1;32m----> 1\u001b[1;33m \u001b[0mdf_new2\u001b[0m\u001b[1;33m[\u001b[0m\u001b[1;33m(\u001b[0m\u001b[0mdf_new2\u001b[0m\u001b[1;33m[\u001b[0m\u001b[1;34m'reviews.rating'\u001b[0m\u001b[1;33m]\u001b[0m\u001b[1;33m==\u001b[0m\u001b[1;36m5\u001b[0m\u001b[1;33m)\u001b[0m\u001b[1;33m]\u001b[0m\u001b[1;33m[\u001b[0m\u001b[1;34m'text.compound'\u001b[0m\u001b[1;33m]\u001b[0m\u001b[1;33m.\u001b[0m\u001b[0mmin\u001b[0m\u001b[1;33m(\u001b[0m\u001b[1;33m)\u001b[0m\u001b[1;33m\u001b[0m\u001b[1;33m\u001b[0m\u001b[0m\n\u001b[0m",
      "\u001b[1;32mC:\\ProgramData\\Anaconda3\\lib\\site-packages\\pandas\\core\\frame.py\u001b[0m in \u001b[0;36m__getitem__\u001b[1;34m(self, key)\u001b[0m\n\u001b[0;32m   2798\u001b[0m             \u001b[1;32mif\u001b[0m \u001b[0mself\u001b[0m\u001b[1;33m.\u001b[0m\u001b[0mcolumns\u001b[0m\u001b[1;33m.\u001b[0m\u001b[0mnlevels\u001b[0m \u001b[1;33m>\u001b[0m \u001b[1;36m1\u001b[0m\u001b[1;33m:\u001b[0m\u001b[1;33m\u001b[0m\u001b[1;33m\u001b[0m\u001b[0m\n\u001b[0;32m   2799\u001b[0m                 \u001b[1;32mreturn\u001b[0m \u001b[0mself\u001b[0m\u001b[1;33m.\u001b[0m\u001b[0m_getitem_multilevel\u001b[0m\u001b[1;33m(\u001b[0m\u001b[0mkey\u001b[0m\u001b[1;33m)\u001b[0m\u001b[1;33m\u001b[0m\u001b[1;33m\u001b[0m\u001b[0m\n\u001b[1;32m-> 2800\u001b[1;33m             \u001b[0mindexer\u001b[0m \u001b[1;33m=\u001b[0m \u001b[0mself\u001b[0m\u001b[1;33m.\u001b[0m\u001b[0mcolumns\u001b[0m\u001b[1;33m.\u001b[0m\u001b[0mget_loc\u001b[0m\u001b[1;33m(\u001b[0m\u001b[0mkey\u001b[0m\u001b[1;33m)\u001b[0m\u001b[1;33m\u001b[0m\u001b[1;33m\u001b[0m\u001b[0m\n\u001b[0m\u001b[0;32m   2801\u001b[0m             \u001b[1;32mif\u001b[0m \u001b[0mis_integer\u001b[0m\u001b[1;33m(\u001b[0m\u001b[0mindexer\u001b[0m\u001b[1;33m)\u001b[0m\u001b[1;33m:\u001b[0m\u001b[1;33m\u001b[0m\u001b[1;33m\u001b[0m\u001b[0m\n\u001b[0;32m   2802\u001b[0m                 \u001b[0mindexer\u001b[0m \u001b[1;33m=\u001b[0m \u001b[1;33m[\u001b[0m\u001b[0mindexer\u001b[0m\u001b[1;33m]\u001b[0m\u001b[1;33m\u001b[0m\u001b[1;33m\u001b[0m\u001b[0m\n",
      "\u001b[1;32mC:\\ProgramData\\Anaconda3\\lib\\site-packages\\pandas\\core\\indexes\\base.py\u001b[0m in \u001b[0;36mget_loc\u001b[1;34m(self, key, method, tolerance)\u001b[0m\n\u001b[0;32m   2646\u001b[0m                 \u001b[1;32mreturn\u001b[0m \u001b[0mself\u001b[0m\u001b[1;33m.\u001b[0m\u001b[0m_engine\u001b[0m\u001b[1;33m.\u001b[0m\u001b[0mget_loc\u001b[0m\u001b[1;33m(\u001b[0m\u001b[0mkey\u001b[0m\u001b[1;33m)\u001b[0m\u001b[1;33m\u001b[0m\u001b[1;33m\u001b[0m\u001b[0m\n\u001b[0;32m   2647\u001b[0m             \u001b[1;32mexcept\u001b[0m \u001b[0mKeyError\u001b[0m\u001b[1;33m:\u001b[0m\u001b[1;33m\u001b[0m\u001b[1;33m\u001b[0m\u001b[0m\n\u001b[1;32m-> 2648\u001b[1;33m                 \u001b[1;32mreturn\u001b[0m \u001b[0mself\u001b[0m\u001b[1;33m.\u001b[0m\u001b[0m_engine\u001b[0m\u001b[1;33m.\u001b[0m\u001b[0mget_loc\u001b[0m\u001b[1;33m(\u001b[0m\u001b[0mself\u001b[0m\u001b[1;33m.\u001b[0m\u001b[0m_maybe_cast_indexer\u001b[0m\u001b[1;33m(\u001b[0m\u001b[0mkey\u001b[0m\u001b[1;33m)\u001b[0m\u001b[1;33m)\u001b[0m\u001b[1;33m\u001b[0m\u001b[1;33m\u001b[0m\u001b[0m\n\u001b[0m\u001b[0;32m   2649\u001b[0m         \u001b[0mindexer\u001b[0m \u001b[1;33m=\u001b[0m \u001b[0mself\u001b[0m\u001b[1;33m.\u001b[0m\u001b[0mget_indexer\u001b[0m\u001b[1;33m(\u001b[0m\u001b[1;33m[\u001b[0m\u001b[0mkey\u001b[0m\u001b[1;33m]\u001b[0m\u001b[1;33m,\u001b[0m \u001b[0mmethod\u001b[0m\u001b[1;33m=\u001b[0m\u001b[0mmethod\u001b[0m\u001b[1;33m,\u001b[0m \u001b[0mtolerance\u001b[0m\u001b[1;33m=\u001b[0m\u001b[0mtolerance\u001b[0m\u001b[1;33m)\u001b[0m\u001b[1;33m\u001b[0m\u001b[1;33m\u001b[0m\u001b[0m\n\u001b[0;32m   2650\u001b[0m         \u001b[1;32mif\u001b[0m \u001b[0mindexer\u001b[0m\u001b[1;33m.\u001b[0m\u001b[0mndim\u001b[0m \u001b[1;33m>\u001b[0m \u001b[1;36m1\u001b[0m \u001b[1;32mor\u001b[0m \u001b[0mindexer\u001b[0m\u001b[1;33m.\u001b[0m\u001b[0msize\u001b[0m \u001b[1;33m>\u001b[0m \u001b[1;36m1\u001b[0m\u001b[1;33m:\u001b[0m\u001b[1;33m\u001b[0m\u001b[1;33m\u001b[0m\u001b[0m\n",
      "\u001b[1;32mpandas\\_libs\\index.pyx\u001b[0m in \u001b[0;36mpandas._libs.index.IndexEngine.get_loc\u001b[1;34m()\u001b[0m\n",
      "\u001b[1;32mpandas\\_libs\\index.pyx\u001b[0m in \u001b[0;36mpandas._libs.index.IndexEngine.get_loc\u001b[1;34m()\u001b[0m\n",
      "\u001b[1;32mpandas\\_libs\\hashtable_class_helper.pxi\u001b[0m in \u001b[0;36mpandas._libs.hashtable.PyObjectHashTable.get_item\u001b[1;34m()\u001b[0m\n",
      "\u001b[1;32mpandas\\_libs\\hashtable_class_helper.pxi\u001b[0m in \u001b[0;36mpandas._libs.hashtable.PyObjectHashTable.get_item\u001b[1;34m()\u001b[0m\n",
      "\u001b[1;31mKeyError\u001b[0m: 'text.compound'"
     ]
    }
   ],
   "source": [
    "df_new2[(df_new2['reviews.rating']==5)]['text.compound'].min()"
   ]
  },
  {
   "cell_type": "code",
   "execution_count": 103,
   "metadata": {},
   "outputs": [
    {
     "data": {
      "text/plain": [
       "count    47131.000000\n",
       "mean         0.653853\n",
       "std          0.329851\n",
       "min         -0.934400\n",
       "25%          0.570900\n",
       "50%          0.771700\n",
       "75%          0.888500\n",
       "max          0.999700\n",
       "Name: texttitle.compound, dtype: float64"
      ]
     },
     "execution_count": 103,
     "metadata": {},
     "output_type": "execute_result"
    }
   ],
   "source": [
    "#rating 5\n",
    "df_new2[(df_new2['reviews.rating']==5)]['texttitle.compound'].describe()"
   ]
  },
  {
   "cell_type": "code",
   "execution_count": 104,
   "metadata": {},
   "outputs": [
    {
     "data": {
      "text/plain": [
       "(array([159., 211., 168., 125., 317.,  74.,  77., 118.,  92.,  97.]),\n",
       " array([-0.9842 , -0.78672, -0.58924, -0.39176, -0.19428,  0.0032 ,\n",
       "         0.20068,  0.39816,  0.59564,  0.79312,  0.9906 ]),\n",
       " <a list of 10 Patch objects>)"
      ]
     },
     "execution_count": 104,
     "metadata": {},
     "output_type": "execute_result"
    },
    {
     "data": {
      "image/png": "[encoded data removed]",
      "text/plain": [
       "<Figure size 432x288 with 1 Axes>"
      ]
     },
     "metadata": {
      "needs_background": "light"
     },
     "output_type": "display_data"
    }
   ],
   "source": [
    "plt.hist(df_new2[(df_new2['reviews.rating']==1)]['texttitle.compound'])"
   ]
  },
  {
   "cell_type": "code",
   "execution_count": 125,
   "metadata": {},
   "outputs": [
    {
     "data": {
      "text/plain": [
       "(array([144., 236., 157., 136., 296., 107.,  96.,  95.,  92.,  79.]),\n",
       " array([-0.9709 , -0.77464, -0.57838, -0.38212, -0.18586,  0.0104 ,\n",
       "         0.20666,  0.40292,  0.59918,  0.79544,  0.9917 ]),\n",
       " <a list of 10 Patch objects>)"
      ]
     },
     "execution_count": 125,
     "metadata": {},
     "output_type": "execute_result"
    },
    {
     "data": {
      "image/png": "[encoded data removed]",
      "text/plain": [
       "<Figure size 432x288 with 1 Axes>"
      ]
     },
     "metadata": {
      "needs_background": "light"
     },
     "output_type": "display_data"
    }
   ],
   "source": [
    "plt.hist(df_new2[(df_new2['reviews.rating']==1)]['text.compound'])"
   ]
  },
  {
   "cell_type": "code",
   "execution_count": 105,
   "metadata": {},
   "outputs": [
    {
     "data": {
      "text/plain": [
       "count    1438.000000\n",
       "mean       -0.123292\n",
       "std         0.533392\n",
       "min        -0.984200\n",
       "25%        -0.599400\n",
       "50%        -0.102700\n",
       "75%         0.272075\n",
       "max         0.990600\n",
       "Name: texttitle.compound, dtype: float64"
      ]
     },
     "execution_count": 105,
     "metadata": {},
     "output_type": "execute_result"
    }
   ],
   "source": [
    "df_new2[(df_new2['reviews.rating']==1)]['texttitle.compound'].describe()"
   ]
  },
  {
   "cell_type": "code",
   "execution_count": 106,
   "metadata": {},
   "outputs": [
    {
     "data": {
      "text/plain": [
       "(array([ 65.,  81., 134., 103., 225.,  59.,  85., 116., 100., 104.]),\n",
       " array([-0.9851 , -0.78784, -0.59058, -0.39332, -0.19606,  0.0012 ,\n",
       "         0.19846,  0.39572,  0.59298,  0.79024,  0.9875 ]),\n",
       " <a list of 10 Patch objects>)"
      ]
     },
     "execution_count": 106,
     "metadata": {},
     "output_type": "execute_result"
    },
    {
     "data": {
      "image/png": "[encoded data removed]",
      "text/plain": [
       "<Figure size 432x288 with 1 Axes>"
      ]
     },
     "metadata": {
      "needs_background": "light"
     },
     "output_type": "display_data"
    }
   ],
   "source": [
    "plt.hist(df_new2[(df_new2['reviews.rating']==2)]['texttitle.compound'])"
   ]
  },
  {
   "cell_type": "code",
   "execution_count": 152,
   "metadata": {},
   "outputs": [
    {
     "data": {
      "text/plain": [
       "(array([ 60., 102., 110., 107.,  88., 232.,  87.,  88., 107.,  91.]),\n",
       " array([-9.8820e-01, -7.9063e-01, -5.9306e-01, -3.9549e-01, -1.9792e-01,\n",
       "        -3.5000e-04,  1.9722e-01,  3.9479e-01,  5.9236e-01,  7.8993e-01,\n",
       "         9.8750e-01]),\n",
       " <a list of 10 Patch objects>)"
      ]
     },
     "execution_count": 152,
     "metadata": {},
     "output_type": "execute_result"
    },
    {
     "data": {
      "image/png": "[encoded data removed]",
      "text/plain": [
       "<Figure size 432x288 with 1 Axes>"
      ]
     },
     "metadata": {
      "needs_background": "light"
     },
     "output_type": "display_data"
    }
   ],
   "source": [
    "plt.hist(df_new2[(df_new2['reviews.rating']==2)]['text.compound'])"
   ]
  },
  {
   "cell_type": "code",
   "execution_count": 107,
   "metadata": {},
   "outputs": [
    {
     "data": {
      "text/plain": [
       "count    1072.000000\n",
       "mean        0.031302\n",
       "std         0.525862\n",
       "min        -0.985100\n",
       "25%        -0.405275\n",
       "50%         0.000000\n",
       "75%         0.467175\n",
       "max         0.987500\n",
       "Name: texttitle.compound, dtype: float64"
      ]
     },
     "execution_count": 107,
     "metadata": {},
     "output_type": "execute_result"
    }
   ],
   "source": [
    "df_new2[(df_new2['reviews.rating']==2)]['texttitle.compound'].describe()"
   ]
  },
  {
   "cell_type": "code",
   "execution_count": 108,
   "metadata": {},
   "outputs": [
    {
     "data": {
      "text/plain": [
       "(array([ 62., 126., 149., 169., 474., 168., 267., 422., 506., 559.]),\n",
       " array([-0.9614 , -0.76551, -0.56962, -0.37373, -0.17784,  0.01805,\n",
       "         0.21394,  0.40983,  0.60572,  0.80161,  0.9975 ]),\n",
       " <a list of 10 Patch objects>)"
      ]
     },
     "execution_count": 108,
     "metadata": {},
     "output_type": "execute_result"
    },
    {
     "data": {
      "image/png": "[encoded data removed]",
      "text/plain": [
       "<Figure size 432x288 with 1 Axes>"
      ]
     },
     "metadata": {
      "needs_background": "light"
     },
     "output_type": "display_data"
    }
   ],
   "source": [
    "plt.hist(df_new2[(df_new2['reviews.rating']==3)]['texttitle.compound'])"
   ]
  },
  {
   "cell_type": "code",
   "execution_count": 109,
   "metadata": {},
   "outputs": [
    {
     "data": {
      "text/plain": [
       "(array([  50.,  172.,  203.,  334., 1118.,  447.,  976., 2208., 4212.,\n",
       "        5677.]),\n",
       " array([-0.9729 , -0.77569, -0.57848, -0.38127, -0.18406,  0.01315,\n",
       "         0.21036,  0.40757,  0.60478,  0.80199,  0.9992 ]),\n",
       " <a list of 10 Patch objects>)"
      ]
     },
     "execution_count": 109,
     "metadata": {},
     "output_type": "execute_result"
    },
    {
     "data": {
      "image/png": "[encoded data removed]",
      "text/plain": [
       "<Figure size 432x288 with 1 Axes>"
      ]
     },
     "metadata": {
      "needs_background": "light"
     },
     "output_type": "display_data"
    }
   ],
   "source": [
    "plt.hist(df_new2[(df_new2['reviews.rating']==4)]['texttitle.compound'])"
   ]
  },
  {
   "cell_type": "code",
   "execution_count": 131,
   "metadata": {},
   "outputs": [
    {
     "data": {
      "text/plain": [
       "<matplotlib.axes._subplots.AxesSubplot at 0x1b422a9fc40>"
      ]
     },
     "execution_count": 131,
     "metadata": {},
     "output_type": "execute_result"
    },
    {
     "data": {
      "image/png": "[encoded data removed]",
      "text/plain": [
       "<Figure size 432x288 with 1 Axes>"
      ]
     },
     "metadata": {
      "needs_background": "light"
     },
     "output_type": "display_data"
    }
   ],
   "source": [
    "sns.kdeplot(data = df_new2['text.compound'])"
   ]
  },
  {
   "cell_type": "code",
   "execution_count": 134,
   "metadata": {},
   "outputs": [
    {
     "data": {
      "text/plain": [
       "<matplotlib.axes._subplots.AxesSubplot at 0x1b4262e9340>"
      ]
     },
     "execution_count": 134,
     "metadata": {},
     "output_type": "execute_result"
    },
    {
     "data": {
      "image/png": "[encoded data removed]",
      "text/plain": [
       "<Figure size 432x288 with 1 Axes>"
      ]
     },
     "metadata": {
      "needs_background": "light"
     },
     "output_type": "display_data"
    }
   ],
   "source": [
    "sns.violinplot(y = df_new2['texttitle.compound'], x = df_new2['reviews.rating'])"
   ]
  },
  {
   "cell_type": "code",
   "execution_count": 135,
   "metadata": {},
   "outputs": [
    {
     "data": {
      "text/plain": [
       "<matplotlib.axes._subplots.AxesSubplot at 0x1b42637b970>"
      ]
     },
     "execution_count": 135,
     "metadata": {},
     "output_type": "execute_result"
    },
    {
     "data": {
      "image/png": "[encoded data removed]",
      "text/plain": [
       "<Figure size 432x288 with 1 Axes>"
      ]
     },
     "metadata": {
      "needs_background": "light"
     },
     "output_type": "display_data"
    }
   ],
   "source": [
    "sns.violinplot(y = df_new2['text.compound'], x = df_new2['reviews.rating'])"
   ]
  },
  {
   "cell_type": "code",
   "execution_count": 111,
   "metadata": {},
   "outputs": [
    {
     "data": {
      "text/plain": [
       "dtype('O')"
      ]
     },
     "execution_count": 111,
     "metadata": {},
     "output_type": "execute_result"
    }
   ],
   "source": [
    "df_new2['reviews.date'].dtype"
   ]
  },
  {
   "cell_type": "code",
   "execution_count": 112,
   "metadata": {},
   "outputs": [
    {
     "data": {
      "text/plain": [
       "{20, 24}"
      ]
     },
     "execution_count": 112,
     "metadata": {},
     "output_type": "execute_result"
    }
   ],
   "source": [
    "lens = []\n",
    "for i in range(len(df_new['reviews.date'])):\n",
    "    lens.append(len(df_new.iloc[i,5]))\n",
    "set(lens)"
   ]
  },
  {
   "cell_type": "code",
   "execution_count": null,
   "metadata": {},
   "outputs": [],
   "source": []
  }
 ],
 "metadata": {
  "kernelspec": {
   "display_name": "Python 3",
   "language": "python",
   "name": "python3"
  },
  "language_info": {
   "codemirror_mode": {
    "name": "ipython",
    "version": 3
   },
   "file_extension": ".py",
   "mimetype": "text/x-python",
   "name": "python",
   "nbconvert_exporter": "python",
   "pygments_lexer": "ipython3",
   "version": "3.8.3"
  }
 },
 "nbformat": 4,
 "nbformat_minor": 4
}
